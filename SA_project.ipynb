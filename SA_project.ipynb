{
  "nbformat": 4,
  "nbformat_minor": 0,
  "metadata": {
    "colab": {
      "name": "SA_project.ipynb",
      "provenance": [],
      "collapsed_sections": [
        "q7xRHm9m-JuB",
        "oJgwYUleeLER"
      ]
    },
    "kernelspec": {
      "display_name": "Python 3",
      "name": "python3"
    },
    "language_info": {
      "name": "python"
    },
    "accelerator": "TPU",
    "widgets": {
      "application/vnd.jupyter.widget-state+json": {
        "5d236cf27ea443c1b6020496e84c0a85": {
          "model_module": "@jupyter-widgets/controls",
          "model_name": "HBoxModel",
          "state": {
            "_view_name": "HBoxView",
            "_dom_classes": [],
            "_model_name": "HBoxModel",
            "_view_module": "@jupyter-widgets/controls",
            "_model_module_version": "1.5.0",
            "_view_count": null,
            "_view_module_version": "1.5.0",
            "box_style": "",
            "layout": "IPY_MODEL_5a4aa1ef96a34e3badf710ca28ab7b62",
            "_model_module": "@jupyter-widgets/controls",
            "children": [
              "IPY_MODEL_5fe7b5ccc2e44479996a844be49e856c",
              "IPY_MODEL_e8c34b002868497e81115429e50e8821"
            ]
          }
        },
        "5a4aa1ef96a34e3badf710ca28ab7b62": {
          "model_module": "@jupyter-widgets/base",
          "model_name": "LayoutModel",
          "state": {
            "_view_name": "LayoutView",
            "grid_template_rows": null,
            "right": null,
            "justify_content": null,
            "_view_module": "@jupyter-widgets/base",
            "overflow": null,
            "_model_module_version": "1.2.0",
            "_view_count": null,
            "flex_flow": null,
            "width": null,
            "min_width": null,
            "border": null,
            "align_items": null,
            "bottom": null,
            "_model_module": "@jupyter-widgets/base",
            "top": null,
            "grid_column": null,
            "overflow_y": null,
            "overflow_x": null,
            "grid_auto_flow": null,
            "grid_area": null,
            "grid_template_columns": null,
            "flex": null,
            "_model_name": "LayoutModel",
            "justify_items": null,
            "grid_row": null,
            "max_height": null,
            "align_content": null,
            "visibility": null,
            "align_self": null,
            "height": null,
            "min_height": null,
            "padding": null,
            "grid_auto_rows": null,
            "grid_gap": null,
            "max_width": null,
            "order": null,
            "_view_module_version": "1.2.0",
            "grid_template_areas": null,
            "object_position": null,
            "object_fit": null,
            "grid_auto_columns": null,
            "margin": null,
            "display": null,
            "left": null
          }
        },
        "5fe7b5ccc2e44479996a844be49e856c": {
          "model_module": "@jupyter-widgets/controls",
          "model_name": "FloatProgressModel",
          "state": {
            "_view_name": "ProgressView",
            "style": "IPY_MODEL_177f09ecd2d249cdb4557f7d25174ae4",
            "_dom_classes": [],
            "description": "100%",
            "_model_name": "FloatProgressModel",
            "bar_style": "success",
            "max": 241391,
            "_view_module": "@jupyter-widgets/controls",
            "_model_module_version": "1.5.0",
            "value": 241391,
            "_view_count": null,
            "_view_module_version": "1.5.0",
            "orientation": "horizontal",
            "min": 0,
            "description_tooltip": null,
            "_model_module": "@jupyter-widgets/controls",
            "layout": "IPY_MODEL_f473636c4beb4dec95a66de2284874e0"
          }
        },
        "e8c34b002868497e81115429e50e8821": {
          "model_module": "@jupyter-widgets/controls",
          "model_name": "HTMLModel",
          "state": {
            "_view_name": "HTMLView",
            "style": "IPY_MODEL_024bc66e5a974888906329c8c59710c4",
            "_dom_classes": [],
            "description": "",
            "_model_name": "HTMLModel",
            "placeholder": "​",
            "_view_module": "@jupyter-widgets/controls",
            "_model_module_version": "1.5.0",
            "value": " 241391/241391 [00:03&lt;00:00, 65155.76it/s]",
            "_view_count": null,
            "_view_module_version": "1.5.0",
            "description_tooltip": null,
            "_model_module": "@jupyter-widgets/controls",
            "layout": "IPY_MODEL_e493a270c0304bed86c06803bdb806e4"
          }
        },
        "177f09ecd2d249cdb4557f7d25174ae4": {
          "model_module": "@jupyter-widgets/controls",
          "model_name": "ProgressStyleModel",
          "state": {
            "_view_name": "StyleView",
            "_model_name": "ProgressStyleModel",
            "description_width": "initial",
            "_view_module": "@jupyter-widgets/base",
            "_model_module_version": "1.5.0",
            "_view_count": null,
            "_view_module_version": "1.2.0",
            "bar_color": null,
            "_model_module": "@jupyter-widgets/controls"
          }
        },
        "f473636c4beb4dec95a66de2284874e0": {
          "model_module": "@jupyter-widgets/base",
          "model_name": "LayoutModel",
          "state": {
            "_view_name": "LayoutView",
            "grid_template_rows": null,
            "right": null,
            "justify_content": null,
            "_view_module": "@jupyter-widgets/base",
            "overflow": null,
            "_model_module_version": "1.2.0",
            "_view_count": null,
            "flex_flow": null,
            "width": null,
            "min_width": null,
            "border": null,
            "align_items": null,
            "bottom": null,
            "_model_module": "@jupyter-widgets/base",
            "top": null,
            "grid_column": null,
            "overflow_y": null,
            "overflow_x": null,
            "grid_auto_flow": null,
            "grid_area": null,
            "grid_template_columns": null,
            "flex": null,
            "_model_name": "LayoutModel",
            "justify_items": null,
            "grid_row": null,
            "max_height": null,
            "align_content": null,
            "visibility": null,
            "align_self": null,
            "height": null,
            "min_height": null,
            "padding": null,
            "grid_auto_rows": null,
            "grid_gap": null,
            "max_width": null,
            "order": null,
            "_view_module_version": "1.2.0",
            "grid_template_areas": null,
            "object_position": null,
            "object_fit": null,
            "grid_auto_columns": null,
            "margin": null,
            "display": null,
            "left": null
          }
        },
        "024bc66e5a974888906329c8c59710c4": {
          "model_module": "@jupyter-widgets/controls",
          "model_name": "DescriptionStyleModel",
          "state": {
            "_view_name": "StyleView",
            "_model_name": "DescriptionStyleModel",
            "description_width": "",
            "_view_module": "@jupyter-widgets/base",
            "_model_module_version": "1.5.0",
            "_view_count": null,
            "_view_module_version": "1.2.0",
            "_model_module": "@jupyter-widgets/controls"
          }
        },
        "e493a270c0304bed86c06803bdb806e4": {
          "model_module": "@jupyter-widgets/base",
          "model_name": "LayoutModel",
          "state": {
            "_view_name": "LayoutView",
            "grid_template_rows": null,
            "right": null,
            "justify_content": null,
            "_view_module": "@jupyter-widgets/base",
            "overflow": null,
            "_model_module_version": "1.2.0",
            "_view_count": null,
            "flex_flow": null,
            "width": null,
            "min_width": null,
            "border": null,
            "align_items": null,
            "bottom": null,
            "_model_module": "@jupyter-widgets/base",
            "top": null,
            "grid_column": null,
            "overflow_y": null,
            "overflow_x": null,
            "grid_auto_flow": null,
            "grid_area": null,
            "grid_template_columns": null,
            "flex": null,
            "_model_name": "LayoutModel",
            "justify_items": null,
            "grid_row": null,
            "max_height": null,
            "align_content": null,
            "visibility": null,
            "align_self": null,
            "height": null,
            "min_height": null,
            "padding": null,
            "grid_auto_rows": null,
            "grid_gap": null,
            "max_width": null,
            "order": null,
            "_view_module_version": "1.2.0",
            "grid_template_areas": null,
            "object_position": null,
            "object_fit": null,
            "grid_auto_columns": null,
            "margin": null,
            "display": null,
            "left": null
          }
        },
        "ae05c5dc0b624c9c8af4d118395756c0": {
          "model_module": "@jupyter-widgets/controls",
          "model_name": "HBoxModel",
          "state": {
            "_view_name": "HBoxView",
            "_dom_classes": [],
            "_model_name": "HBoxModel",
            "_view_module": "@jupyter-widgets/controls",
            "_model_module_version": "1.5.0",
            "_view_count": null,
            "_view_module_version": "1.5.0",
            "box_style": "",
            "layout": "IPY_MODEL_41a7b242933e43869ccb9039e796cd6d",
            "_model_module": "@jupyter-widgets/controls",
            "children": [
              "IPY_MODEL_2eff9bb979fe4ef1bea55311b78cad5f",
              "IPY_MODEL_c649f18564cf4d21945b66319a56e5b1"
            ]
          }
        },
        "41a7b242933e43869ccb9039e796cd6d": {
          "model_module": "@jupyter-widgets/base",
          "model_name": "LayoutModel",
          "state": {
            "_view_name": "LayoutView",
            "grid_template_rows": null,
            "right": null,
            "justify_content": null,
            "_view_module": "@jupyter-widgets/base",
            "overflow": null,
            "_model_module_version": "1.2.0",
            "_view_count": null,
            "flex_flow": null,
            "width": null,
            "min_width": null,
            "border": null,
            "align_items": null,
            "bottom": null,
            "_model_module": "@jupyter-widgets/base",
            "top": null,
            "grid_column": null,
            "overflow_y": null,
            "overflow_x": null,
            "grid_auto_flow": null,
            "grid_area": null,
            "grid_template_columns": null,
            "flex": null,
            "_model_name": "LayoutModel",
            "justify_items": null,
            "grid_row": null,
            "max_height": null,
            "align_content": null,
            "visibility": null,
            "align_self": null,
            "height": null,
            "min_height": null,
            "padding": null,
            "grid_auto_rows": null,
            "grid_gap": null,
            "max_width": null,
            "order": null,
            "_view_module_version": "1.2.0",
            "grid_template_areas": null,
            "object_position": null,
            "object_fit": null,
            "grid_auto_columns": null,
            "margin": null,
            "display": null,
            "left": null
          }
        },
        "2eff9bb979fe4ef1bea55311b78cad5f": {
          "model_module": "@jupyter-widgets/controls",
          "model_name": "FloatProgressModel",
          "state": {
            "_view_name": "ProgressView",
            "style": "IPY_MODEL_0f3e5383acf748a98b029865d68ed6a3",
            "_dom_classes": [],
            "description": "100%",
            "_model_name": "FloatProgressModel",
            "bar_style": "success",
            "max": 2439,
            "_view_module": "@jupyter-widgets/controls",
            "_model_module_version": "1.5.0",
            "value": 2439,
            "_view_count": null,
            "_view_module_version": "1.5.0",
            "orientation": "horizontal",
            "min": 0,
            "description_tooltip": null,
            "_model_module": "@jupyter-widgets/controls",
            "layout": "IPY_MODEL_492431e7c7e745daaf4ac12324a70722"
          }
        },
        "c649f18564cf4d21945b66319a56e5b1": {
          "model_module": "@jupyter-widgets/controls",
          "model_name": "HTMLModel",
          "state": {
            "_view_name": "HTMLView",
            "style": "IPY_MODEL_40a7f67226c7419dae2aba40f10ab2e3",
            "_dom_classes": [],
            "description": "",
            "_model_name": "HTMLModel",
            "placeholder": "​",
            "_view_module": "@jupyter-widgets/controls",
            "_model_module_version": "1.5.0",
            "value": " 2439/2439 [00:00&lt;00:00, 4873.05it/s]",
            "_view_count": null,
            "_view_module_version": "1.5.0",
            "description_tooltip": null,
            "_model_module": "@jupyter-widgets/controls",
            "layout": "IPY_MODEL_8a90699c19af4229b91145445fe0cd62"
          }
        },
        "0f3e5383acf748a98b029865d68ed6a3": {
          "model_module": "@jupyter-widgets/controls",
          "model_name": "ProgressStyleModel",
          "state": {
            "_view_name": "StyleView",
            "_model_name": "ProgressStyleModel",
            "description_width": "initial",
            "_view_module": "@jupyter-widgets/base",
            "_model_module_version": "1.5.0",
            "_view_count": null,
            "_view_module_version": "1.2.0",
            "bar_color": null,
            "_model_module": "@jupyter-widgets/controls"
          }
        },
        "492431e7c7e745daaf4ac12324a70722": {
          "model_module": "@jupyter-widgets/base",
          "model_name": "LayoutModel",
          "state": {
            "_view_name": "LayoutView",
            "grid_template_rows": null,
            "right": null,
            "justify_content": null,
            "_view_module": "@jupyter-widgets/base",
            "overflow": null,
            "_model_module_version": "1.2.0",
            "_view_count": null,
            "flex_flow": null,
            "width": null,
            "min_width": null,
            "border": null,
            "align_items": null,
            "bottom": null,
            "_model_module": "@jupyter-widgets/base",
            "top": null,
            "grid_column": null,
            "overflow_y": null,
            "overflow_x": null,
            "grid_auto_flow": null,
            "grid_area": null,
            "grid_template_columns": null,
            "flex": null,
            "_model_name": "LayoutModel",
            "justify_items": null,
            "grid_row": null,
            "max_height": null,
            "align_content": null,
            "visibility": null,
            "align_self": null,
            "height": null,
            "min_height": null,
            "padding": null,
            "grid_auto_rows": null,
            "grid_gap": null,
            "max_width": null,
            "order": null,
            "_view_module_version": "1.2.0",
            "grid_template_areas": null,
            "object_position": null,
            "object_fit": null,
            "grid_auto_columns": null,
            "margin": null,
            "display": null,
            "left": null
          }
        },
        "40a7f67226c7419dae2aba40f10ab2e3": {
          "model_module": "@jupyter-widgets/controls",
          "model_name": "DescriptionStyleModel",
          "state": {
            "_view_name": "StyleView",
            "_model_name": "DescriptionStyleModel",
            "description_width": "",
            "_view_module": "@jupyter-widgets/base",
            "_model_module_version": "1.5.0",
            "_view_count": null,
            "_view_module_version": "1.2.0",
            "_model_module": "@jupyter-widgets/controls"
          }
        },
        "8a90699c19af4229b91145445fe0cd62": {
          "model_module": "@jupyter-widgets/base",
          "model_name": "LayoutModel",
          "state": {
            "_view_name": "LayoutView",
            "grid_template_rows": null,
            "right": null,
            "justify_content": null,
            "_view_module": "@jupyter-widgets/base",
            "overflow": null,
            "_model_module_version": "1.2.0",
            "_view_count": null,
            "flex_flow": null,
            "width": null,
            "min_width": null,
            "border": null,
            "align_items": null,
            "bottom": null,
            "_model_module": "@jupyter-widgets/base",
            "top": null,
            "grid_column": null,
            "overflow_y": null,
            "overflow_x": null,
            "grid_auto_flow": null,
            "grid_area": null,
            "grid_template_columns": null,
            "flex": null,
            "_model_name": "LayoutModel",
            "justify_items": null,
            "grid_row": null,
            "max_height": null,
            "align_content": null,
            "visibility": null,
            "align_self": null,
            "height": null,
            "min_height": null,
            "padding": null,
            "grid_auto_rows": null,
            "grid_gap": null,
            "max_width": null,
            "order": null,
            "_view_module_version": "1.2.0",
            "grid_template_areas": null,
            "object_position": null,
            "object_fit": null,
            "grid_auto_columns": null,
            "margin": null,
            "display": null,
            "left": null
          }
        },
        "f42e893ec8a44f5b850e0082007804c8": {
          "model_module": "@jupyter-widgets/controls",
          "model_name": "HBoxModel",
          "state": {
            "_view_name": "HBoxView",
            "_dom_classes": [],
            "_model_name": "HBoxModel",
            "_view_module": "@jupyter-widgets/controls",
            "_model_module_version": "1.5.0",
            "_view_count": null,
            "_view_module_version": "1.5.0",
            "box_style": "",
            "layout": "IPY_MODEL_ac0d8b0f758c4498b23d18bf507aeb0d",
            "_model_module": "@jupyter-widgets/controls",
            "children": [
              "IPY_MODEL_aba7bb27b5c841b88632f1f952e84c36",
              "IPY_MODEL_c10eb28a239542439cf112546b063537"
            ]
          }
        },
        "ac0d8b0f758c4498b23d18bf507aeb0d": {
          "model_module": "@jupyter-widgets/base",
          "model_name": "LayoutModel",
          "state": {
            "_view_name": "LayoutView",
            "grid_template_rows": null,
            "right": null,
            "justify_content": null,
            "_view_module": "@jupyter-widgets/base",
            "overflow": null,
            "_model_module_version": "1.2.0",
            "_view_count": null,
            "flex_flow": null,
            "width": null,
            "min_width": null,
            "border": null,
            "align_items": null,
            "bottom": null,
            "_model_module": "@jupyter-widgets/base",
            "top": null,
            "grid_column": null,
            "overflow_y": null,
            "overflow_x": null,
            "grid_auto_flow": null,
            "grid_area": null,
            "grid_template_columns": null,
            "flex": null,
            "_model_name": "LayoutModel",
            "justify_items": null,
            "grid_row": null,
            "max_height": null,
            "align_content": null,
            "visibility": null,
            "align_self": null,
            "height": null,
            "min_height": null,
            "padding": null,
            "grid_auto_rows": null,
            "grid_gap": null,
            "max_width": null,
            "order": null,
            "_view_module_version": "1.2.0",
            "grid_template_areas": null,
            "object_position": null,
            "object_fit": null,
            "grid_auto_columns": null,
            "margin": null,
            "display": null,
            "left": null
          }
        },
        "aba7bb27b5c841b88632f1f952e84c36": {
          "model_module": "@jupyter-widgets/controls",
          "model_name": "FloatProgressModel",
          "state": {
            "_view_name": "ProgressView",
            "style": "IPY_MODEL_528f2695574b408e98f1cd6994eb05f3",
            "_dom_classes": [],
            "description": "100%",
            "_model_name": "FloatProgressModel",
            "bar_style": "success",
            "max": 14737,
            "_view_module": "@jupyter-widgets/controls",
            "_model_module_version": "1.5.0",
            "value": 14737,
            "_view_count": null,
            "_view_module_version": "1.5.0",
            "orientation": "horizontal",
            "min": 0,
            "description_tooltip": null,
            "_model_module": "@jupyter-widgets/controls",
            "layout": "IPY_MODEL_f18b5366dd7a4fa580b1afef78970610"
          }
        },
        "c10eb28a239542439cf112546b063537": {
          "model_module": "@jupyter-widgets/controls",
          "model_name": "HTMLModel",
          "state": {
            "_view_name": "HTMLView",
            "style": "IPY_MODEL_7132a2c2f99b43b58955791c07500888",
            "_dom_classes": [],
            "description": "",
            "_model_name": "HTMLModel",
            "placeholder": "​",
            "_view_module": "@jupyter-widgets/controls",
            "_model_module_version": "1.5.0",
            "value": " 14737/14737 [00:00&lt;00:00, 59411.81it/s]",
            "_view_count": null,
            "_view_module_version": "1.5.0",
            "description_tooltip": null,
            "_model_module": "@jupyter-widgets/controls",
            "layout": "IPY_MODEL_02a42b5a3af54ee58ef92c5c9347d4b6"
          }
        },
        "528f2695574b408e98f1cd6994eb05f3": {
          "model_module": "@jupyter-widgets/controls",
          "model_name": "ProgressStyleModel",
          "state": {
            "_view_name": "StyleView",
            "_model_name": "ProgressStyleModel",
            "description_width": "initial",
            "_view_module": "@jupyter-widgets/base",
            "_model_module_version": "1.5.0",
            "_view_count": null,
            "_view_module_version": "1.2.0",
            "bar_color": null,
            "_model_module": "@jupyter-widgets/controls"
          }
        },
        "f18b5366dd7a4fa580b1afef78970610": {
          "model_module": "@jupyter-widgets/base",
          "model_name": "LayoutModel",
          "state": {
            "_view_name": "LayoutView",
            "grid_template_rows": null,
            "right": null,
            "justify_content": null,
            "_view_module": "@jupyter-widgets/base",
            "overflow": null,
            "_model_module_version": "1.2.0",
            "_view_count": null,
            "flex_flow": null,
            "width": null,
            "min_width": null,
            "border": null,
            "align_items": null,
            "bottom": null,
            "_model_module": "@jupyter-widgets/base",
            "top": null,
            "grid_column": null,
            "overflow_y": null,
            "overflow_x": null,
            "grid_auto_flow": null,
            "grid_area": null,
            "grid_template_columns": null,
            "flex": null,
            "_model_name": "LayoutModel",
            "justify_items": null,
            "grid_row": null,
            "max_height": null,
            "align_content": null,
            "visibility": null,
            "align_self": null,
            "height": null,
            "min_height": null,
            "padding": null,
            "grid_auto_rows": null,
            "grid_gap": null,
            "max_width": null,
            "order": null,
            "_view_module_version": "1.2.0",
            "grid_template_areas": null,
            "object_position": null,
            "object_fit": null,
            "grid_auto_columns": null,
            "margin": null,
            "display": null,
            "left": null
          }
        },
        "7132a2c2f99b43b58955791c07500888": {
          "model_module": "@jupyter-widgets/controls",
          "model_name": "DescriptionStyleModel",
          "state": {
            "_view_name": "StyleView",
            "_model_name": "DescriptionStyleModel",
            "description_width": "",
            "_view_module": "@jupyter-widgets/base",
            "_model_module_version": "1.5.0",
            "_view_count": null,
            "_view_module_version": "1.2.0",
            "_model_module": "@jupyter-widgets/controls"
          }
        },
        "02a42b5a3af54ee58ef92c5c9347d4b6": {
          "model_module": "@jupyter-widgets/base",
          "model_name": "LayoutModel",
          "state": {
            "_view_name": "LayoutView",
            "grid_template_rows": null,
            "right": null,
            "justify_content": null,
            "_view_module": "@jupyter-widgets/base",
            "overflow": null,
            "_model_module_version": "1.2.0",
            "_view_count": null,
            "flex_flow": null,
            "width": null,
            "min_width": null,
            "border": null,
            "align_items": null,
            "bottom": null,
            "_model_module": "@jupyter-widgets/base",
            "top": null,
            "grid_column": null,
            "overflow_y": null,
            "overflow_x": null,
            "grid_auto_flow": null,
            "grid_area": null,
            "grid_template_columns": null,
            "flex": null,
            "_model_name": "LayoutModel",
            "justify_items": null,
            "grid_row": null,
            "max_height": null,
            "align_content": null,
            "visibility": null,
            "align_self": null,
            "height": null,
            "min_height": null,
            "padding": null,
            "grid_auto_rows": null,
            "grid_gap": null,
            "max_width": null,
            "order": null,
            "_view_module_version": "1.2.0",
            "grid_template_areas": null,
            "object_position": null,
            "object_fit": null,
            "grid_auto_columns": null,
            "margin": null,
            "display": null,
            "left": null
          }
        },
        "8aadf8703cf0453097ebc3e8a0927719": {
          "model_module": "@jupyter-widgets/controls",
          "model_name": "HBoxModel",
          "state": {
            "_view_name": "HBoxView",
            "_dom_classes": [],
            "_model_name": "HBoxModel",
            "_view_module": "@jupyter-widgets/controls",
            "_model_module_version": "1.5.0",
            "_view_count": null,
            "_view_module_version": "1.5.0",
            "box_style": "",
            "layout": "IPY_MODEL_16c9ecbfb3b04005ada38c8bf8f2d1d8",
            "_model_module": "@jupyter-widgets/controls",
            "children": [
              "IPY_MODEL_a8d5c85cc30a41a595557ad0bdf1a44b",
              "IPY_MODEL_6d57abc4bb2341d29d6ea7b008909f2a"
            ]
          }
        },
        "16c9ecbfb3b04005ada38c8bf8f2d1d8": {
          "model_module": "@jupyter-widgets/base",
          "model_name": "LayoutModel",
          "state": {
            "_view_name": "LayoutView",
            "grid_template_rows": null,
            "right": null,
            "justify_content": null,
            "_view_module": "@jupyter-widgets/base",
            "overflow": null,
            "_model_module_version": "1.2.0",
            "_view_count": null,
            "flex_flow": null,
            "width": null,
            "min_width": null,
            "border": null,
            "align_items": null,
            "bottom": null,
            "_model_module": "@jupyter-widgets/base",
            "top": null,
            "grid_column": null,
            "overflow_y": null,
            "overflow_x": null,
            "grid_auto_flow": null,
            "grid_area": null,
            "grid_template_columns": null,
            "flex": null,
            "_model_name": "LayoutModel",
            "justify_items": null,
            "grid_row": null,
            "max_height": null,
            "align_content": null,
            "visibility": null,
            "align_self": null,
            "height": null,
            "min_height": null,
            "padding": null,
            "grid_auto_rows": null,
            "grid_gap": null,
            "max_width": null,
            "order": null,
            "_view_module_version": "1.2.0",
            "grid_template_areas": null,
            "object_position": null,
            "object_fit": null,
            "grid_auto_columns": null,
            "margin": null,
            "display": null,
            "left": null
          }
        },
        "a8d5c85cc30a41a595557ad0bdf1a44b": {
          "model_module": "@jupyter-widgets/controls",
          "model_name": "FloatProgressModel",
          "state": {
            "_view_name": "ProgressView",
            "style": "IPY_MODEL_5d419896bd9a47449b86fc861efed02c",
            "_dom_classes": [],
            "description": "100%",
            "_model_name": "FloatProgressModel",
            "bar_style": "success",
            "max": 2439,
            "_view_module": "@jupyter-widgets/controls",
            "_model_module_version": "1.5.0",
            "value": 2439,
            "_view_count": null,
            "_view_module_version": "1.5.0",
            "orientation": "horizontal",
            "min": 0,
            "description_tooltip": null,
            "_model_module": "@jupyter-widgets/controls",
            "layout": "IPY_MODEL_592a5ecec64e478b847248f0dbd3b284"
          }
        },
        "6d57abc4bb2341d29d6ea7b008909f2a": {
          "model_module": "@jupyter-widgets/controls",
          "model_name": "HTMLModel",
          "state": {
            "_view_name": "HTMLView",
            "style": "IPY_MODEL_f4ba364987eb425db3894da47a8bf7eb",
            "_dom_classes": [],
            "description": "",
            "_model_name": "HTMLModel",
            "placeholder": "​",
            "_view_module": "@jupyter-widgets/controls",
            "_model_module_version": "1.5.0",
            "value": " 2439/2439 [00:00&lt;00:00, 25983.82it/s]",
            "_view_count": null,
            "_view_module_version": "1.5.0",
            "description_tooltip": null,
            "_model_module": "@jupyter-widgets/controls",
            "layout": "IPY_MODEL_bd952bffeaa949f3bf6dc2f2c70a47cd"
          }
        },
        "5d419896bd9a47449b86fc861efed02c": {
          "model_module": "@jupyter-widgets/controls",
          "model_name": "ProgressStyleModel",
          "state": {
            "_view_name": "StyleView",
            "_model_name": "ProgressStyleModel",
            "description_width": "initial",
            "_view_module": "@jupyter-widgets/base",
            "_model_module_version": "1.5.0",
            "_view_count": null,
            "_view_module_version": "1.2.0",
            "bar_color": null,
            "_model_module": "@jupyter-widgets/controls"
          }
        },
        "592a5ecec64e478b847248f0dbd3b284": {
          "model_module": "@jupyter-widgets/base",
          "model_name": "LayoutModel",
          "state": {
            "_view_name": "LayoutView",
            "grid_template_rows": null,
            "right": null,
            "justify_content": null,
            "_view_module": "@jupyter-widgets/base",
            "overflow": null,
            "_model_module_version": "1.2.0",
            "_view_count": null,
            "flex_flow": null,
            "width": null,
            "min_width": null,
            "border": null,
            "align_items": null,
            "bottom": null,
            "_model_module": "@jupyter-widgets/base",
            "top": null,
            "grid_column": null,
            "overflow_y": null,
            "overflow_x": null,
            "grid_auto_flow": null,
            "grid_area": null,
            "grid_template_columns": null,
            "flex": null,
            "_model_name": "LayoutModel",
            "justify_items": null,
            "grid_row": null,
            "max_height": null,
            "align_content": null,
            "visibility": null,
            "align_self": null,
            "height": null,
            "min_height": null,
            "padding": null,
            "grid_auto_rows": null,
            "grid_gap": null,
            "max_width": null,
            "order": null,
            "_view_module_version": "1.2.0",
            "grid_template_areas": null,
            "object_position": null,
            "object_fit": null,
            "grid_auto_columns": null,
            "margin": null,
            "display": null,
            "left": null
          }
        },
        "f4ba364987eb425db3894da47a8bf7eb": {
          "model_module": "@jupyter-widgets/controls",
          "model_name": "DescriptionStyleModel",
          "state": {
            "_view_name": "StyleView",
            "_model_name": "DescriptionStyleModel",
            "description_width": "",
            "_view_module": "@jupyter-widgets/base",
            "_model_module_version": "1.5.0",
            "_view_count": null,
            "_view_module_version": "1.2.0",
            "_model_module": "@jupyter-widgets/controls"
          }
        },
        "bd952bffeaa949f3bf6dc2f2c70a47cd": {
          "model_module": "@jupyter-widgets/base",
          "model_name": "LayoutModel",
          "state": {
            "_view_name": "LayoutView",
            "grid_template_rows": null,
            "right": null,
            "justify_content": null,
            "_view_module": "@jupyter-widgets/base",
            "overflow": null,
            "_model_module_version": "1.2.0",
            "_view_count": null,
            "flex_flow": null,
            "width": null,
            "min_width": null,
            "border": null,
            "align_items": null,
            "bottom": null,
            "_model_module": "@jupyter-widgets/base",
            "top": null,
            "grid_column": null,
            "overflow_y": null,
            "overflow_x": null,
            "grid_auto_flow": null,
            "grid_area": null,
            "grid_template_columns": null,
            "flex": null,
            "_model_name": "LayoutModel",
            "justify_items": null,
            "grid_row": null,
            "max_height": null,
            "align_content": null,
            "visibility": null,
            "align_self": null,
            "height": null,
            "min_height": null,
            "padding": null,
            "grid_auto_rows": null,
            "grid_gap": null,
            "max_width": null,
            "order": null,
            "_view_module_version": "1.2.0",
            "grid_template_areas": null,
            "object_position": null,
            "object_fit": null,
            "grid_auto_columns": null,
            "margin": null,
            "display": null,
            "left": null
          }
        },
        "ed2ff26e1f9b49e68135c4d55a6d472b": {
          "model_module": "@jupyter-widgets/controls",
          "model_name": "HBoxModel",
          "state": {
            "_view_name": "HBoxView",
            "_dom_classes": [],
            "_model_name": "HBoxModel",
            "_view_module": "@jupyter-widgets/controls",
            "_model_module_version": "1.5.0",
            "_view_count": null,
            "_view_module_version": "1.5.0",
            "box_style": "",
            "layout": "IPY_MODEL_a45a21b1cd7249f4a1b1f4a017d353cf",
            "_model_module": "@jupyter-widgets/controls",
            "children": [
              "IPY_MODEL_58e1cbb0b4214aada424d71e1792269c",
              "IPY_MODEL_db73b7bad4f9443d8c1e59ec1afdceae"
            ]
          }
        },
        "a45a21b1cd7249f4a1b1f4a017d353cf": {
          "model_module": "@jupyter-widgets/base",
          "model_name": "LayoutModel",
          "state": {
            "_view_name": "LayoutView",
            "grid_template_rows": null,
            "right": null,
            "justify_content": null,
            "_view_module": "@jupyter-widgets/base",
            "overflow": null,
            "_model_module_version": "1.2.0",
            "_view_count": null,
            "flex_flow": null,
            "width": null,
            "min_width": null,
            "border": null,
            "align_items": null,
            "bottom": null,
            "_model_module": "@jupyter-widgets/base",
            "top": null,
            "grid_column": null,
            "overflow_y": null,
            "overflow_x": null,
            "grid_auto_flow": null,
            "grid_area": null,
            "grid_template_columns": null,
            "flex": null,
            "_model_name": "LayoutModel",
            "justify_items": null,
            "grid_row": null,
            "max_height": null,
            "align_content": null,
            "visibility": null,
            "align_self": null,
            "height": null,
            "min_height": null,
            "padding": null,
            "grid_auto_rows": null,
            "grid_gap": null,
            "max_width": null,
            "order": null,
            "_view_module_version": "1.2.0",
            "grid_template_areas": null,
            "object_position": null,
            "object_fit": null,
            "grid_auto_columns": null,
            "margin": null,
            "display": null,
            "left": null
          }
        },
        "58e1cbb0b4214aada424d71e1792269c": {
          "model_module": "@jupyter-widgets/controls",
          "model_name": "FloatProgressModel",
          "state": {
            "_view_name": "ProgressView",
            "style": "IPY_MODEL_003b78e3c98b41eea1d67a596c7cf666",
            "_dom_classes": [],
            "description": "100%",
            "_model_name": "FloatProgressModel",
            "bar_style": "success",
            "max": 241391,
            "_view_module": "@jupyter-widgets/controls",
            "_model_module_version": "1.5.0",
            "value": 241391,
            "_view_count": null,
            "_view_module_version": "1.5.0",
            "orientation": "horizontal",
            "min": 0,
            "description_tooltip": null,
            "_model_module": "@jupyter-widgets/controls",
            "layout": "IPY_MODEL_0c59922220a24a6ab5b0f4527d43c7b0"
          }
        },
        "db73b7bad4f9443d8c1e59ec1afdceae": {
          "model_module": "@jupyter-widgets/controls",
          "model_name": "HTMLModel",
          "state": {
            "_view_name": "HTMLView",
            "style": "IPY_MODEL_45a7899920c74f158693e3c293729dd1",
            "_dom_classes": [],
            "description": "",
            "_model_name": "HTMLModel",
            "placeholder": "​",
            "_view_module": "@jupyter-widgets/controls",
            "_model_module_version": "1.5.0",
            "value": " 241391/241391 [00:04&lt;00:00, 56563.45it/s]",
            "_view_count": null,
            "_view_module_version": "1.5.0",
            "description_tooltip": null,
            "_model_module": "@jupyter-widgets/controls",
            "layout": "IPY_MODEL_ce4a56ad5d3a4f7a9e80d961ca5d9a92"
          }
        },
        "003b78e3c98b41eea1d67a596c7cf666": {
          "model_module": "@jupyter-widgets/controls",
          "model_name": "ProgressStyleModel",
          "state": {
            "_view_name": "StyleView",
            "_model_name": "ProgressStyleModel",
            "description_width": "initial",
            "_view_module": "@jupyter-widgets/base",
            "_model_module_version": "1.5.0",
            "_view_count": null,
            "_view_module_version": "1.2.0",
            "bar_color": null,
            "_model_module": "@jupyter-widgets/controls"
          }
        },
        "0c59922220a24a6ab5b0f4527d43c7b0": {
          "model_module": "@jupyter-widgets/base",
          "model_name": "LayoutModel",
          "state": {
            "_view_name": "LayoutView",
            "grid_template_rows": null,
            "right": null,
            "justify_content": null,
            "_view_module": "@jupyter-widgets/base",
            "overflow": null,
            "_model_module_version": "1.2.0",
            "_view_count": null,
            "flex_flow": null,
            "width": null,
            "min_width": null,
            "border": null,
            "align_items": null,
            "bottom": null,
            "_model_module": "@jupyter-widgets/base",
            "top": null,
            "grid_column": null,
            "overflow_y": null,
            "overflow_x": null,
            "grid_auto_flow": null,
            "grid_area": null,
            "grid_template_columns": null,
            "flex": null,
            "_model_name": "LayoutModel",
            "justify_items": null,
            "grid_row": null,
            "max_height": null,
            "align_content": null,
            "visibility": null,
            "align_self": null,
            "height": null,
            "min_height": null,
            "padding": null,
            "grid_auto_rows": null,
            "grid_gap": null,
            "max_width": null,
            "order": null,
            "_view_module_version": "1.2.0",
            "grid_template_areas": null,
            "object_position": null,
            "object_fit": null,
            "grid_auto_columns": null,
            "margin": null,
            "display": null,
            "left": null
          }
        },
        "45a7899920c74f158693e3c293729dd1": {
          "model_module": "@jupyter-widgets/controls",
          "model_name": "DescriptionStyleModel",
          "state": {
            "_view_name": "StyleView",
            "_model_name": "DescriptionStyleModel",
            "description_width": "",
            "_view_module": "@jupyter-widgets/base",
            "_model_module_version": "1.5.0",
            "_view_count": null,
            "_view_module_version": "1.2.0",
            "_model_module": "@jupyter-widgets/controls"
          }
        },
        "ce4a56ad5d3a4f7a9e80d961ca5d9a92": {
          "model_module": "@jupyter-widgets/base",
          "model_name": "LayoutModel",
          "state": {
            "_view_name": "LayoutView",
            "grid_template_rows": null,
            "right": null,
            "justify_content": null,
            "_view_module": "@jupyter-widgets/base",
            "overflow": null,
            "_model_module_version": "1.2.0",
            "_view_count": null,
            "flex_flow": null,
            "width": null,
            "min_width": null,
            "border": null,
            "align_items": null,
            "bottom": null,
            "_model_module": "@jupyter-widgets/base",
            "top": null,
            "grid_column": null,
            "overflow_y": null,
            "overflow_x": null,
            "grid_auto_flow": null,
            "grid_area": null,
            "grid_template_columns": null,
            "flex": null,
            "_model_name": "LayoutModel",
            "justify_items": null,
            "grid_row": null,
            "max_height": null,
            "align_content": null,
            "visibility": null,
            "align_self": null,
            "height": null,
            "min_height": null,
            "padding": null,
            "grid_auto_rows": null,
            "grid_gap": null,
            "max_width": null,
            "order": null,
            "_view_module_version": "1.2.0",
            "grid_template_areas": null,
            "object_position": null,
            "object_fit": null,
            "grid_auto_columns": null,
            "margin": null,
            "display": null,
            "left": null
          }
        },
        "d6ba9b7c75b44c8c940a20713c891425": {
          "model_module": "@jupyter-widgets/controls",
          "model_name": "HBoxModel",
          "state": {
            "_view_name": "HBoxView",
            "_dom_classes": [],
            "_model_name": "HBoxModel",
            "_view_module": "@jupyter-widgets/controls",
            "_model_module_version": "1.5.0",
            "_view_count": null,
            "_view_module_version": "1.5.0",
            "box_style": "",
            "layout": "IPY_MODEL_9a2094bbf86644b8830c5f8af8f50d28",
            "_model_module": "@jupyter-widgets/controls",
            "children": [
              "IPY_MODEL_c0f43b1c55984455893658be13634d7b",
              "IPY_MODEL_987b8290ad7f43a683dcce5d377892ce"
            ]
          }
        },
        "9a2094bbf86644b8830c5f8af8f50d28": {
          "model_module": "@jupyter-widgets/base",
          "model_name": "LayoutModel",
          "state": {
            "_view_name": "LayoutView",
            "grid_template_rows": null,
            "right": null,
            "justify_content": null,
            "_view_module": "@jupyter-widgets/base",
            "overflow": null,
            "_model_module_version": "1.2.0",
            "_view_count": null,
            "flex_flow": null,
            "width": null,
            "min_width": null,
            "border": null,
            "align_items": null,
            "bottom": null,
            "_model_module": "@jupyter-widgets/base",
            "top": null,
            "grid_column": null,
            "overflow_y": null,
            "overflow_x": null,
            "grid_auto_flow": null,
            "grid_area": null,
            "grid_template_columns": null,
            "flex": null,
            "_model_name": "LayoutModel",
            "justify_items": null,
            "grid_row": null,
            "max_height": null,
            "align_content": null,
            "visibility": null,
            "align_self": null,
            "height": null,
            "min_height": null,
            "padding": null,
            "grid_auto_rows": null,
            "grid_gap": null,
            "max_width": null,
            "order": null,
            "_view_module_version": "1.2.0",
            "grid_template_areas": null,
            "object_position": null,
            "object_fit": null,
            "grid_auto_columns": null,
            "margin": null,
            "display": null,
            "left": null
          }
        },
        "c0f43b1c55984455893658be13634d7b": {
          "model_module": "@jupyter-widgets/controls",
          "model_name": "FloatProgressModel",
          "state": {
            "_view_name": "ProgressView",
            "style": "IPY_MODEL_8dadc7ee631f472d95462522fb69eb4e",
            "_dom_classes": [],
            "description": "100%",
            "_model_name": "FloatProgressModel",
            "bar_style": "success",
            "max": 778,
            "_view_module": "@jupyter-widgets/controls",
            "_model_module_version": "1.5.0",
            "value": 778,
            "_view_count": null,
            "_view_module_version": "1.5.0",
            "orientation": "horizontal",
            "min": 0,
            "description_tooltip": null,
            "_model_module": "@jupyter-widgets/controls",
            "layout": "IPY_MODEL_1882668884bf4e5ab9b987d99de11394"
          }
        },
        "987b8290ad7f43a683dcce5d377892ce": {
          "model_module": "@jupyter-widgets/controls",
          "model_name": "HTMLModel",
          "state": {
            "_view_name": "HTMLView",
            "style": "IPY_MODEL_a89dbd17da5047bd85beea694353eec2",
            "_dom_classes": [],
            "description": "",
            "_model_name": "HTMLModel",
            "placeholder": "​",
            "_view_module": "@jupyter-widgets/controls",
            "_model_module_version": "1.5.0",
            "value": " 778/778 [00:00&lt;00:00, 3356.66it/s]",
            "_view_count": null,
            "_view_module_version": "1.5.0",
            "description_tooltip": null,
            "_model_module": "@jupyter-widgets/controls",
            "layout": "IPY_MODEL_2aedfb4a53a141ed867092e2cbb06f4e"
          }
        },
        "8dadc7ee631f472d95462522fb69eb4e": {
          "model_module": "@jupyter-widgets/controls",
          "model_name": "ProgressStyleModel",
          "state": {
            "_view_name": "StyleView",
            "_model_name": "ProgressStyleModel",
            "description_width": "initial",
            "_view_module": "@jupyter-widgets/base",
            "_model_module_version": "1.5.0",
            "_view_count": null,
            "_view_module_version": "1.2.0",
            "bar_color": null,
            "_model_module": "@jupyter-widgets/controls"
          }
        },
        "1882668884bf4e5ab9b987d99de11394": {
          "model_module": "@jupyter-widgets/base",
          "model_name": "LayoutModel",
          "state": {
            "_view_name": "LayoutView",
            "grid_template_rows": null,
            "right": null,
            "justify_content": null,
            "_view_module": "@jupyter-widgets/base",
            "overflow": null,
            "_model_module_version": "1.2.0",
            "_view_count": null,
            "flex_flow": null,
            "width": null,
            "min_width": null,
            "border": null,
            "align_items": null,
            "bottom": null,
            "_model_module": "@jupyter-widgets/base",
            "top": null,
            "grid_column": null,
            "overflow_y": null,
            "overflow_x": null,
            "grid_auto_flow": null,
            "grid_area": null,
            "grid_template_columns": null,
            "flex": null,
            "_model_name": "LayoutModel",
            "justify_items": null,
            "grid_row": null,
            "max_height": null,
            "align_content": null,
            "visibility": null,
            "align_self": null,
            "height": null,
            "min_height": null,
            "padding": null,
            "grid_auto_rows": null,
            "grid_gap": null,
            "max_width": null,
            "order": null,
            "_view_module_version": "1.2.0",
            "grid_template_areas": null,
            "object_position": null,
            "object_fit": null,
            "grid_auto_columns": null,
            "margin": null,
            "display": null,
            "left": null
          }
        },
        "a89dbd17da5047bd85beea694353eec2": {
          "model_module": "@jupyter-widgets/controls",
          "model_name": "DescriptionStyleModel",
          "state": {
            "_view_name": "StyleView",
            "_model_name": "DescriptionStyleModel",
            "description_width": "",
            "_view_module": "@jupyter-widgets/base",
            "_model_module_version": "1.5.0",
            "_view_count": null,
            "_view_module_version": "1.2.0",
            "_model_module": "@jupyter-widgets/controls"
          }
        },
        "2aedfb4a53a141ed867092e2cbb06f4e": {
          "model_module": "@jupyter-widgets/base",
          "model_name": "LayoutModel",
          "state": {
            "_view_name": "LayoutView",
            "grid_template_rows": null,
            "right": null,
            "justify_content": null,
            "_view_module": "@jupyter-widgets/base",
            "overflow": null,
            "_model_module_version": "1.2.0",
            "_view_count": null,
            "flex_flow": null,
            "width": null,
            "min_width": null,
            "border": null,
            "align_items": null,
            "bottom": null,
            "_model_module": "@jupyter-widgets/base",
            "top": null,
            "grid_column": null,
            "overflow_y": null,
            "overflow_x": null,
            "grid_auto_flow": null,
            "grid_area": null,
            "grid_template_columns": null,
            "flex": null,
            "_model_name": "LayoutModel",
            "justify_items": null,
            "grid_row": null,
            "max_height": null,
            "align_content": null,
            "visibility": null,
            "align_self": null,
            "height": null,
            "min_height": null,
            "padding": null,
            "grid_auto_rows": null,
            "grid_gap": null,
            "max_width": null,
            "order": null,
            "_view_module_version": "1.2.0",
            "grid_template_areas": null,
            "object_position": null,
            "object_fit": null,
            "grid_auto_columns": null,
            "margin": null,
            "display": null,
            "left": null
          }
        },
        "6e76984d69aa42bfbdcba5d97ae86f31": {
          "model_module": "@jupyter-widgets/controls",
          "model_name": "HBoxModel",
          "state": {
            "_view_name": "HBoxView",
            "_dom_classes": [],
            "_model_name": "HBoxModel",
            "_view_module": "@jupyter-widgets/controls",
            "_model_module_version": "1.5.0",
            "_view_count": null,
            "_view_module_version": "1.5.0",
            "box_style": "",
            "layout": "IPY_MODEL_8a8f00e4d6034d3fac2d90cd8d99fb53",
            "_model_module": "@jupyter-widgets/controls",
            "children": [
              "IPY_MODEL_f83b9ac03bf64d54a4c3c95563663169",
              "IPY_MODEL_2a737b616ab74af7a103bcc674ddc64b"
            ]
          }
        },
        "8a8f00e4d6034d3fac2d90cd8d99fb53": {
          "model_module": "@jupyter-widgets/base",
          "model_name": "LayoutModel",
          "state": {
            "_view_name": "LayoutView",
            "grid_template_rows": null,
            "right": null,
            "justify_content": null,
            "_view_module": "@jupyter-widgets/base",
            "overflow": null,
            "_model_module_version": "1.2.0",
            "_view_count": null,
            "flex_flow": null,
            "width": null,
            "min_width": null,
            "border": null,
            "align_items": null,
            "bottom": null,
            "_model_module": "@jupyter-widgets/base",
            "top": null,
            "grid_column": null,
            "overflow_y": null,
            "overflow_x": null,
            "grid_auto_flow": null,
            "grid_area": null,
            "grid_template_columns": null,
            "flex": null,
            "_model_name": "LayoutModel",
            "justify_items": null,
            "grid_row": null,
            "max_height": null,
            "align_content": null,
            "visibility": null,
            "align_self": null,
            "height": null,
            "min_height": null,
            "padding": null,
            "grid_auto_rows": null,
            "grid_gap": null,
            "max_width": null,
            "order": null,
            "_view_module_version": "1.2.0",
            "grid_template_areas": null,
            "object_position": null,
            "object_fit": null,
            "grid_auto_columns": null,
            "margin": null,
            "display": null,
            "left": null
          }
        },
        "f83b9ac03bf64d54a4c3c95563663169": {
          "model_module": "@jupyter-widgets/controls",
          "model_name": "FloatProgressModel",
          "state": {
            "_view_name": "ProgressView",
            "style": "IPY_MODEL_ce6ebdf747494c778e61e1e13b702ff6",
            "_dom_classes": [],
            "description": "100%",
            "_model_name": "FloatProgressModel",
            "bar_style": "success",
            "max": 13450,
            "_view_module": "@jupyter-widgets/controls",
            "_model_module_version": "1.5.0",
            "value": 13450,
            "_view_count": null,
            "_view_module_version": "1.5.0",
            "orientation": "horizontal",
            "min": 0,
            "description_tooltip": null,
            "_model_module": "@jupyter-widgets/controls",
            "layout": "IPY_MODEL_e5fcaafacf6f4aa190a1c3e67820a975"
          }
        },
        "2a737b616ab74af7a103bcc674ddc64b": {
          "model_module": "@jupyter-widgets/controls",
          "model_name": "HTMLModel",
          "state": {
            "_view_name": "HTMLView",
            "style": "IPY_MODEL_3f54f27773ee4d9cb11828d52e5a201e",
            "_dom_classes": [],
            "description": "",
            "_model_name": "HTMLModel",
            "placeholder": "​",
            "_view_module": "@jupyter-widgets/controls",
            "_model_module_version": "1.5.0",
            "value": " 13450/13450 [00:00&lt;00:00, 126818.11it/s]",
            "_view_count": null,
            "_view_module_version": "1.5.0",
            "description_tooltip": null,
            "_model_module": "@jupyter-widgets/controls",
            "layout": "IPY_MODEL_8867a34f6e4d403cbd899e8bd9f12ba1"
          }
        },
        "ce6ebdf747494c778e61e1e13b702ff6": {
          "model_module": "@jupyter-widgets/controls",
          "model_name": "ProgressStyleModel",
          "state": {
            "_view_name": "StyleView",
            "_model_name": "ProgressStyleModel",
            "description_width": "initial",
            "_view_module": "@jupyter-widgets/base",
            "_model_module_version": "1.5.0",
            "_view_count": null,
            "_view_module_version": "1.2.0",
            "bar_color": null,
            "_model_module": "@jupyter-widgets/controls"
          }
        },
        "e5fcaafacf6f4aa190a1c3e67820a975": {
          "model_module": "@jupyter-widgets/base",
          "model_name": "LayoutModel",
          "state": {
            "_view_name": "LayoutView",
            "grid_template_rows": null,
            "right": null,
            "justify_content": null,
            "_view_module": "@jupyter-widgets/base",
            "overflow": null,
            "_model_module_version": "1.2.0",
            "_view_count": null,
            "flex_flow": null,
            "width": null,
            "min_width": null,
            "border": null,
            "align_items": null,
            "bottom": null,
            "_model_module": "@jupyter-widgets/base",
            "top": null,
            "grid_column": null,
            "overflow_y": null,
            "overflow_x": null,
            "grid_auto_flow": null,
            "grid_area": null,
            "grid_template_columns": null,
            "flex": null,
            "_model_name": "LayoutModel",
            "justify_items": null,
            "grid_row": null,
            "max_height": null,
            "align_content": null,
            "visibility": null,
            "align_self": null,
            "height": null,
            "min_height": null,
            "padding": null,
            "grid_auto_rows": null,
            "grid_gap": null,
            "max_width": null,
            "order": null,
            "_view_module_version": "1.2.0",
            "grid_template_areas": null,
            "object_position": null,
            "object_fit": null,
            "grid_auto_columns": null,
            "margin": null,
            "display": null,
            "left": null
          }
        },
        "3f54f27773ee4d9cb11828d52e5a201e": {
          "model_module": "@jupyter-widgets/controls",
          "model_name": "DescriptionStyleModel",
          "state": {
            "_view_name": "StyleView",
            "_model_name": "DescriptionStyleModel",
            "description_width": "",
            "_view_module": "@jupyter-widgets/base",
            "_model_module_version": "1.5.0",
            "_view_count": null,
            "_view_module_version": "1.2.0",
            "_model_module": "@jupyter-widgets/controls"
          }
        },
        "8867a34f6e4d403cbd899e8bd9f12ba1": {
          "model_module": "@jupyter-widgets/base",
          "model_name": "LayoutModel",
          "state": {
            "_view_name": "LayoutView",
            "grid_template_rows": null,
            "right": null,
            "justify_content": null,
            "_view_module": "@jupyter-widgets/base",
            "overflow": null,
            "_model_module_version": "1.2.0",
            "_view_count": null,
            "flex_flow": null,
            "width": null,
            "min_width": null,
            "border": null,
            "align_items": null,
            "bottom": null,
            "_model_module": "@jupyter-widgets/base",
            "top": null,
            "grid_column": null,
            "overflow_y": null,
            "overflow_x": null,
            "grid_auto_flow": null,
            "grid_area": null,
            "grid_template_columns": null,
            "flex": null,
            "_model_name": "LayoutModel",
            "justify_items": null,
            "grid_row": null,
            "max_height": null,
            "align_content": null,
            "visibility": null,
            "align_self": null,
            "height": null,
            "min_height": null,
            "padding": null,
            "grid_auto_rows": null,
            "grid_gap": null,
            "max_width": null,
            "order": null,
            "_view_module_version": "1.2.0",
            "grid_template_areas": null,
            "object_position": null,
            "object_fit": null,
            "grid_auto_columns": null,
            "margin": null,
            "display": null,
            "left": null
          }
        },
        "6d2d53d2390f4875832ae302b3553225": {
          "model_module": "@jupyter-widgets/controls",
          "model_name": "HBoxModel",
          "state": {
            "_view_name": "HBoxView",
            "_dom_classes": [],
            "_model_name": "HBoxModel",
            "_view_module": "@jupyter-widgets/controls",
            "_model_module_version": "1.5.0",
            "_view_count": null,
            "_view_module_version": "1.5.0",
            "box_style": "",
            "layout": "IPY_MODEL_e551180b6afd43a4b8319a124c913358",
            "_model_module": "@jupyter-widgets/controls",
            "children": [
              "IPY_MODEL_93be9e99eb6b40aaaec0be69055853df",
              "IPY_MODEL_d511cbf61d1c4e32affe16a1e52d5c93"
            ]
          }
        },
        "e551180b6afd43a4b8319a124c913358": {
          "model_module": "@jupyter-widgets/base",
          "model_name": "LayoutModel",
          "state": {
            "_view_name": "LayoutView",
            "grid_template_rows": null,
            "right": null,
            "justify_content": null,
            "_view_module": "@jupyter-widgets/base",
            "overflow": null,
            "_model_module_version": "1.2.0",
            "_view_count": null,
            "flex_flow": null,
            "width": null,
            "min_width": null,
            "border": null,
            "align_items": null,
            "bottom": null,
            "_model_module": "@jupyter-widgets/base",
            "top": null,
            "grid_column": null,
            "overflow_y": null,
            "overflow_x": null,
            "grid_auto_flow": null,
            "grid_area": null,
            "grid_template_columns": null,
            "flex": null,
            "_model_name": "LayoutModel",
            "justify_items": null,
            "grid_row": null,
            "max_height": null,
            "align_content": null,
            "visibility": null,
            "align_self": null,
            "height": null,
            "min_height": null,
            "padding": null,
            "grid_auto_rows": null,
            "grid_gap": null,
            "max_width": null,
            "order": null,
            "_view_module_version": "1.2.0",
            "grid_template_areas": null,
            "object_position": null,
            "object_fit": null,
            "grid_auto_columns": null,
            "margin": null,
            "display": null,
            "left": null
          }
        },
        "93be9e99eb6b40aaaec0be69055853df": {
          "model_module": "@jupyter-widgets/controls",
          "model_name": "FloatProgressModel",
          "state": {
            "_view_name": "ProgressView",
            "style": "IPY_MODEL_52316e8f67e246ec85d2ebbeb33f2870",
            "_dom_classes": [],
            "description": "",
            "_model_name": "FloatProgressModel",
            "bar_style": "success",
            "max": 1,
            "_view_module": "@jupyter-widgets/controls",
            "_model_module_version": "1.5.0",
            "value": 1,
            "_view_count": null,
            "_view_module_version": "1.5.0",
            "orientation": "horizontal",
            "min": 0,
            "description_tooltip": null,
            "_model_module": "@jupyter-widgets/controls",
            "layout": "IPY_MODEL_357fea2d30c84e2a8197f038e32c78e3"
          }
        },
        "d511cbf61d1c4e32affe16a1e52d5c93": {
          "model_module": "@jupyter-widgets/controls",
          "model_name": "HTMLModel",
          "state": {
            "_view_name": "HTMLView",
            "style": "IPY_MODEL_33ccbcd3b9ec4c5e867a18ef3e07bd2b",
            "_dom_classes": [],
            "description": "",
            "_model_name": "HTMLModel",
            "placeholder": "​",
            "_view_module": "@jupyter-widgets/controls",
            "_model_module_version": "1.5.0",
            "value": " 243830/? [01:20&lt;00:00, 3029.27it/s]",
            "_view_count": null,
            "_view_module_version": "1.5.0",
            "description_tooltip": null,
            "_model_module": "@jupyter-widgets/controls",
            "layout": "IPY_MODEL_5a75738bbd194d2ebe4a66bd00f6bf51"
          }
        },
        "52316e8f67e246ec85d2ebbeb33f2870": {
          "model_module": "@jupyter-widgets/controls",
          "model_name": "ProgressStyleModel",
          "state": {
            "_view_name": "StyleView",
            "_model_name": "ProgressStyleModel",
            "description_width": "initial",
            "_view_module": "@jupyter-widgets/base",
            "_model_module_version": "1.5.0",
            "_view_count": null,
            "_view_module_version": "1.2.0",
            "bar_color": null,
            "_model_module": "@jupyter-widgets/controls"
          }
        },
        "357fea2d30c84e2a8197f038e32c78e3": {
          "model_module": "@jupyter-widgets/base",
          "model_name": "LayoutModel",
          "state": {
            "_view_name": "LayoutView",
            "grid_template_rows": null,
            "right": null,
            "justify_content": null,
            "_view_module": "@jupyter-widgets/base",
            "overflow": null,
            "_model_module_version": "1.2.0",
            "_view_count": null,
            "flex_flow": null,
            "width": null,
            "min_width": null,
            "border": null,
            "align_items": null,
            "bottom": null,
            "_model_module": "@jupyter-widgets/base",
            "top": null,
            "grid_column": null,
            "overflow_y": null,
            "overflow_x": null,
            "grid_auto_flow": null,
            "grid_area": null,
            "grid_template_columns": null,
            "flex": null,
            "_model_name": "LayoutModel",
            "justify_items": null,
            "grid_row": null,
            "max_height": null,
            "align_content": null,
            "visibility": null,
            "align_self": null,
            "height": null,
            "min_height": null,
            "padding": null,
            "grid_auto_rows": null,
            "grid_gap": null,
            "max_width": null,
            "order": null,
            "_view_module_version": "1.2.0",
            "grid_template_areas": null,
            "object_position": null,
            "object_fit": null,
            "grid_auto_columns": null,
            "margin": null,
            "display": null,
            "left": null
          }
        },
        "33ccbcd3b9ec4c5e867a18ef3e07bd2b": {
          "model_module": "@jupyter-widgets/controls",
          "model_name": "DescriptionStyleModel",
          "state": {
            "_view_name": "StyleView",
            "_model_name": "DescriptionStyleModel",
            "description_width": "",
            "_view_module": "@jupyter-widgets/base",
            "_model_module_version": "1.5.0",
            "_view_count": null,
            "_view_module_version": "1.2.0",
            "_model_module": "@jupyter-widgets/controls"
          }
        },
        "5a75738bbd194d2ebe4a66bd00f6bf51": {
          "model_module": "@jupyter-widgets/base",
          "model_name": "LayoutModel",
          "state": {
            "_view_name": "LayoutView",
            "grid_template_rows": null,
            "right": null,
            "justify_content": null,
            "_view_module": "@jupyter-widgets/base",
            "overflow": null,
            "_model_module_version": "1.2.0",
            "_view_count": null,
            "flex_flow": null,
            "width": null,
            "min_width": null,
            "border": null,
            "align_items": null,
            "bottom": null,
            "_model_module": "@jupyter-widgets/base",
            "top": null,
            "grid_column": null,
            "overflow_y": null,
            "overflow_x": null,
            "grid_auto_flow": null,
            "grid_area": null,
            "grid_template_columns": null,
            "flex": null,
            "_model_name": "LayoutModel",
            "justify_items": null,
            "grid_row": null,
            "max_height": null,
            "align_content": null,
            "visibility": null,
            "align_self": null,
            "height": null,
            "min_height": null,
            "padding": null,
            "grid_auto_rows": null,
            "grid_gap": null,
            "max_width": null,
            "order": null,
            "_view_module_version": "1.2.0",
            "grid_template_areas": null,
            "object_position": null,
            "object_fit": null,
            "grid_auto_columns": null,
            "margin": null,
            "display": null,
            "left": null
          }
        },
        "fa44de73adab40698edfa0de83573f49": {
          "model_module": "@jupyter-widgets/controls",
          "model_name": "HBoxModel",
          "state": {
            "_view_name": "HBoxView",
            "_dom_classes": [],
            "_model_name": "HBoxModel",
            "_view_module": "@jupyter-widgets/controls",
            "_model_module_version": "1.5.0",
            "_view_count": null,
            "_view_module_version": "1.5.0",
            "box_style": "",
            "layout": "IPY_MODEL_786803262da447fe938555a37f449fd1",
            "_model_module": "@jupyter-widgets/controls",
            "children": [
              "IPY_MODEL_b39193e6497049838f68080eab3028de",
              "IPY_MODEL_d5b1ffe6ff0547bd8d379d100820019b"
            ]
          }
        },
        "786803262da447fe938555a37f449fd1": {
          "model_module": "@jupyter-widgets/base",
          "model_name": "LayoutModel",
          "state": {
            "_view_name": "LayoutView",
            "grid_template_rows": null,
            "right": null,
            "justify_content": null,
            "_view_module": "@jupyter-widgets/base",
            "overflow": null,
            "_model_module_version": "1.2.0",
            "_view_count": null,
            "flex_flow": null,
            "width": null,
            "min_width": null,
            "border": null,
            "align_items": null,
            "bottom": null,
            "_model_module": "@jupyter-widgets/base",
            "top": null,
            "grid_column": null,
            "overflow_y": null,
            "overflow_x": null,
            "grid_auto_flow": null,
            "grid_area": null,
            "grid_template_columns": null,
            "flex": null,
            "_model_name": "LayoutModel",
            "justify_items": null,
            "grid_row": null,
            "max_height": null,
            "align_content": null,
            "visibility": null,
            "align_self": null,
            "height": null,
            "min_height": null,
            "padding": null,
            "grid_auto_rows": null,
            "grid_gap": null,
            "max_width": null,
            "order": null,
            "_view_module_version": "1.2.0",
            "grid_template_areas": null,
            "object_position": null,
            "object_fit": null,
            "grid_auto_columns": null,
            "margin": null,
            "display": null,
            "left": null
          }
        },
        "b39193e6497049838f68080eab3028de": {
          "model_module": "@jupyter-widgets/controls",
          "model_name": "FloatProgressModel",
          "state": {
            "_view_name": "ProgressView",
            "style": "IPY_MODEL_c7d08310e3df4abcbee009ed70849a8d",
            "_dom_classes": [],
            "description": "100%",
            "_model_name": "FloatProgressModel",
            "bar_style": "success",
            "max": 13287,
            "_view_module": "@jupyter-widgets/controls",
            "_model_module_version": "1.5.0",
            "value": 13287,
            "_view_count": null,
            "_view_module_version": "1.5.0",
            "orientation": "horizontal",
            "min": 0,
            "description_tooltip": null,
            "_model_module": "@jupyter-widgets/controls",
            "layout": "IPY_MODEL_d20e55d6ed97423e85bc6e04b2f1e55e"
          }
        },
        "d5b1ffe6ff0547bd8d379d100820019b": {
          "model_module": "@jupyter-widgets/controls",
          "model_name": "HTMLModel",
          "state": {
            "_view_name": "HTMLView",
            "style": "IPY_MODEL_4249f51ad0be4649a6f302f300b2244c",
            "_dom_classes": [],
            "description": "",
            "_model_name": "HTMLModel",
            "placeholder": "​",
            "_view_module": "@jupyter-widgets/controls",
            "_model_module_version": "1.5.0",
            "value": " 13287/13287 [00:00&lt;00:00, 117038.42it/s]",
            "_view_count": null,
            "_view_module_version": "1.5.0",
            "description_tooltip": null,
            "_model_module": "@jupyter-widgets/controls",
            "layout": "IPY_MODEL_a7906366e67f4c06a2f0ae4651a88bdd"
          }
        },
        "c7d08310e3df4abcbee009ed70849a8d": {
          "model_module": "@jupyter-widgets/controls",
          "model_name": "ProgressStyleModel",
          "state": {
            "_view_name": "StyleView",
            "_model_name": "ProgressStyleModel",
            "description_width": "initial",
            "_view_module": "@jupyter-widgets/base",
            "_model_module_version": "1.5.0",
            "_view_count": null,
            "_view_module_version": "1.2.0",
            "bar_color": null,
            "_model_module": "@jupyter-widgets/controls"
          }
        },
        "d20e55d6ed97423e85bc6e04b2f1e55e": {
          "model_module": "@jupyter-widgets/base",
          "model_name": "LayoutModel",
          "state": {
            "_view_name": "LayoutView",
            "grid_template_rows": null,
            "right": null,
            "justify_content": null,
            "_view_module": "@jupyter-widgets/base",
            "overflow": null,
            "_model_module_version": "1.2.0",
            "_view_count": null,
            "flex_flow": null,
            "width": null,
            "min_width": null,
            "border": null,
            "align_items": null,
            "bottom": null,
            "_model_module": "@jupyter-widgets/base",
            "top": null,
            "grid_column": null,
            "overflow_y": null,
            "overflow_x": null,
            "grid_auto_flow": null,
            "grid_area": null,
            "grid_template_columns": null,
            "flex": null,
            "_model_name": "LayoutModel",
            "justify_items": null,
            "grid_row": null,
            "max_height": null,
            "align_content": null,
            "visibility": null,
            "align_self": null,
            "height": null,
            "min_height": null,
            "padding": null,
            "grid_auto_rows": null,
            "grid_gap": null,
            "max_width": null,
            "order": null,
            "_view_module_version": "1.2.0",
            "grid_template_areas": null,
            "object_position": null,
            "object_fit": null,
            "grid_auto_columns": null,
            "margin": null,
            "display": null,
            "left": null
          }
        },
        "4249f51ad0be4649a6f302f300b2244c": {
          "model_module": "@jupyter-widgets/controls",
          "model_name": "DescriptionStyleModel",
          "state": {
            "_view_name": "StyleView",
            "_model_name": "DescriptionStyleModel",
            "description_width": "",
            "_view_module": "@jupyter-widgets/base",
            "_model_module_version": "1.5.0",
            "_view_count": null,
            "_view_module_version": "1.2.0",
            "_model_module": "@jupyter-widgets/controls"
          }
        },
        "a7906366e67f4c06a2f0ae4651a88bdd": {
          "model_module": "@jupyter-widgets/base",
          "model_name": "LayoutModel",
          "state": {
            "_view_name": "LayoutView",
            "grid_template_rows": null,
            "right": null,
            "justify_content": null,
            "_view_module": "@jupyter-widgets/base",
            "overflow": null,
            "_model_module_version": "1.2.0",
            "_view_count": null,
            "flex_flow": null,
            "width": null,
            "min_width": null,
            "border": null,
            "align_items": null,
            "bottom": null,
            "_model_module": "@jupyter-widgets/base",
            "top": null,
            "grid_column": null,
            "overflow_y": null,
            "overflow_x": null,
            "grid_auto_flow": null,
            "grid_area": null,
            "grid_template_columns": null,
            "flex": null,
            "_model_name": "LayoutModel",
            "justify_items": null,
            "grid_row": null,
            "max_height": null,
            "align_content": null,
            "visibility": null,
            "align_self": null,
            "height": null,
            "min_height": null,
            "padding": null,
            "grid_auto_rows": null,
            "grid_gap": null,
            "max_width": null,
            "order": null,
            "_view_module_version": "1.2.0",
            "grid_template_areas": null,
            "object_position": null,
            "object_fit": null,
            "grid_auto_columns": null,
            "margin": null,
            "display": null,
            "left": null
          }
        },
        "7660cafe8ad64df4b4b52af415d47914": {
          "model_module": "@jupyter-widgets/controls",
          "model_name": "HBoxModel",
          "state": {
            "_view_name": "HBoxView",
            "_dom_classes": [],
            "_model_name": "HBoxModel",
            "_view_module": "@jupyter-widgets/controls",
            "_model_module_version": "1.5.0",
            "_view_count": null,
            "_view_module_version": "1.5.0",
            "box_style": "",
            "layout": "IPY_MODEL_68f5bea964664bf1abae443b31c81e19",
            "_model_module": "@jupyter-widgets/controls",
            "children": [
              "IPY_MODEL_ce8028ab607c44849fd250557255bf62",
              "IPY_MODEL_c69e764fd5ae4af1b843610a61e7f9cb"
            ]
          }
        },
        "68f5bea964664bf1abae443b31c81e19": {
          "model_module": "@jupyter-widgets/base",
          "model_name": "LayoutModel",
          "state": {
            "_view_name": "LayoutView",
            "grid_template_rows": null,
            "right": null,
            "justify_content": null,
            "_view_module": "@jupyter-widgets/base",
            "overflow": null,
            "_model_module_version": "1.2.0",
            "_view_count": null,
            "flex_flow": null,
            "width": null,
            "min_width": null,
            "border": null,
            "align_items": null,
            "bottom": null,
            "_model_module": "@jupyter-widgets/base",
            "top": null,
            "grid_column": null,
            "overflow_y": null,
            "overflow_x": null,
            "grid_auto_flow": null,
            "grid_area": null,
            "grid_template_columns": null,
            "flex": null,
            "_model_name": "LayoutModel",
            "justify_items": null,
            "grid_row": null,
            "max_height": null,
            "align_content": null,
            "visibility": null,
            "align_self": null,
            "height": null,
            "min_height": null,
            "padding": null,
            "grid_auto_rows": null,
            "grid_gap": null,
            "max_width": null,
            "order": null,
            "_view_module_version": "1.2.0",
            "grid_template_areas": null,
            "object_position": null,
            "object_fit": null,
            "grid_auto_columns": null,
            "margin": null,
            "display": null,
            "left": null
          }
        },
        "ce8028ab607c44849fd250557255bf62": {
          "model_module": "@jupyter-widgets/controls",
          "model_name": "FloatProgressModel",
          "state": {
            "_view_name": "ProgressView",
            "style": "IPY_MODEL_32bcada649c0438a9f4696752ab92349",
            "_dom_classes": [],
            "description": "",
            "_model_name": "FloatProgressModel",
            "bar_style": "success",
            "max": 1,
            "_view_module": "@jupyter-widgets/controls",
            "_model_module_version": "1.5.0",
            "value": 1,
            "_view_count": null,
            "_view_module_version": "1.5.0",
            "orientation": "horizontal",
            "min": 0,
            "description_tooltip": null,
            "_model_module": "@jupyter-widgets/controls",
            "layout": "IPY_MODEL_f069cce2700c4a2094d2f51bb31f6bb5"
          }
        },
        "c69e764fd5ae4af1b843610a61e7f9cb": {
          "model_module": "@jupyter-widgets/controls",
          "model_name": "HTMLModel",
          "state": {
            "_view_name": "HTMLView",
            "style": "IPY_MODEL_9a08a8c556764b61a748d326f1303b52",
            "_dom_classes": [],
            "description": "",
            "_model_name": "HTMLModel",
            "placeholder": "​",
            "_view_module": "@jupyter-widgets/controls",
            "_model_module_version": "1.5.0",
            "value": " 243830/? [01:20&lt;00:00, 3023.54it/s]",
            "_view_count": null,
            "_view_module_version": "1.5.0",
            "description_tooltip": null,
            "_model_module": "@jupyter-widgets/controls",
            "layout": "IPY_MODEL_f1eff8afb1944f249d5c2ba568928e28"
          }
        },
        "32bcada649c0438a9f4696752ab92349": {
          "model_module": "@jupyter-widgets/controls",
          "model_name": "ProgressStyleModel",
          "state": {
            "_view_name": "StyleView",
            "_model_name": "ProgressStyleModel",
            "description_width": "initial",
            "_view_module": "@jupyter-widgets/base",
            "_model_module_version": "1.5.0",
            "_view_count": null,
            "_view_module_version": "1.2.0",
            "bar_color": null,
            "_model_module": "@jupyter-widgets/controls"
          }
        },
        "f069cce2700c4a2094d2f51bb31f6bb5": {
          "model_module": "@jupyter-widgets/base",
          "model_name": "LayoutModel",
          "state": {
            "_view_name": "LayoutView",
            "grid_template_rows": null,
            "right": null,
            "justify_content": null,
            "_view_module": "@jupyter-widgets/base",
            "overflow": null,
            "_model_module_version": "1.2.0",
            "_view_count": null,
            "flex_flow": null,
            "width": null,
            "min_width": null,
            "border": null,
            "align_items": null,
            "bottom": null,
            "_model_module": "@jupyter-widgets/base",
            "top": null,
            "grid_column": null,
            "overflow_y": null,
            "overflow_x": null,
            "grid_auto_flow": null,
            "grid_area": null,
            "grid_template_columns": null,
            "flex": null,
            "_model_name": "LayoutModel",
            "justify_items": null,
            "grid_row": null,
            "max_height": null,
            "align_content": null,
            "visibility": null,
            "align_self": null,
            "height": null,
            "min_height": null,
            "padding": null,
            "grid_auto_rows": null,
            "grid_gap": null,
            "max_width": null,
            "order": null,
            "_view_module_version": "1.2.0",
            "grid_template_areas": null,
            "object_position": null,
            "object_fit": null,
            "grid_auto_columns": null,
            "margin": null,
            "display": null,
            "left": null
          }
        },
        "9a08a8c556764b61a748d326f1303b52": {
          "model_module": "@jupyter-widgets/controls",
          "model_name": "DescriptionStyleModel",
          "state": {
            "_view_name": "StyleView",
            "_model_name": "DescriptionStyleModel",
            "description_width": "",
            "_view_module": "@jupyter-widgets/base",
            "_model_module_version": "1.5.0",
            "_view_count": null,
            "_view_module_version": "1.2.0",
            "_model_module": "@jupyter-widgets/controls"
          }
        },
        "f1eff8afb1944f249d5c2ba568928e28": {
          "model_module": "@jupyter-widgets/base",
          "model_name": "LayoutModel",
          "state": {
            "_view_name": "LayoutView",
            "grid_template_rows": null,
            "right": null,
            "justify_content": null,
            "_view_module": "@jupyter-widgets/base",
            "overflow": null,
            "_model_module_version": "1.2.0",
            "_view_count": null,
            "flex_flow": null,
            "width": null,
            "min_width": null,
            "border": null,
            "align_items": null,
            "bottom": null,
            "_model_module": "@jupyter-widgets/base",
            "top": null,
            "grid_column": null,
            "overflow_y": null,
            "overflow_x": null,
            "grid_auto_flow": null,
            "grid_area": null,
            "grid_template_columns": null,
            "flex": null,
            "_model_name": "LayoutModel",
            "justify_items": null,
            "grid_row": null,
            "max_height": null,
            "align_content": null,
            "visibility": null,
            "align_self": null,
            "height": null,
            "min_height": null,
            "padding": null,
            "grid_auto_rows": null,
            "grid_gap": null,
            "max_width": null,
            "order": null,
            "_view_module_version": "1.2.0",
            "grid_template_areas": null,
            "object_position": null,
            "object_fit": null,
            "grid_auto_columns": null,
            "margin": null,
            "display": null,
            "left": null
          }
        },
        "47903ad61868473c99e0dae172b5471e": {
          "model_module": "@jupyter-widgets/controls",
          "model_name": "HBoxModel",
          "state": {
            "_view_name": "HBoxView",
            "_dom_classes": [],
            "_model_name": "HBoxModel",
            "_view_module": "@jupyter-widgets/controls",
            "_model_module_version": "1.5.0",
            "_view_count": null,
            "_view_module_version": "1.5.0",
            "box_style": "",
            "layout": "IPY_MODEL_070167a0165741eaabab26020d45b7fa",
            "_model_module": "@jupyter-widgets/controls",
            "children": [
              "IPY_MODEL_25ca8d4ec5694a1eb4025388ab378e02",
              "IPY_MODEL_8597e64707d042ec9c75a8fe987c045a"
            ]
          }
        },
        "070167a0165741eaabab26020d45b7fa": {
          "model_module": "@jupyter-widgets/base",
          "model_name": "LayoutModel",
          "state": {
            "_view_name": "LayoutView",
            "grid_template_rows": null,
            "right": null,
            "justify_content": null,
            "_view_module": "@jupyter-widgets/base",
            "overflow": null,
            "_model_module_version": "1.2.0",
            "_view_count": null,
            "flex_flow": null,
            "width": null,
            "min_width": null,
            "border": null,
            "align_items": null,
            "bottom": null,
            "_model_module": "@jupyter-widgets/base",
            "top": null,
            "grid_column": null,
            "overflow_y": null,
            "overflow_x": null,
            "grid_auto_flow": null,
            "grid_area": null,
            "grid_template_columns": null,
            "flex": null,
            "_model_name": "LayoutModel",
            "justify_items": null,
            "grid_row": null,
            "max_height": null,
            "align_content": null,
            "visibility": null,
            "align_self": null,
            "height": null,
            "min_height": null,
            "padding": null,
            "grid_auto_rows": null,
            "grid_gap": null,
            "max_width": null,
            "order": null,
            "_view_module_version": "1.2.0",
            "grid_template_areas": null,
            "object_position": null,
            "object_fit": null,
            "grid_auto_columns": null,
            "margin": null,
            "display": null,
            "left": null
          }
        },
        "25ca8d4ec5694a1eb4025388ab378e02": {
          "model_module": "@jupyter-widgets/controls",
          "model_name": "FloatProgressModel",
          "state": {
            "_view_name": "ProgressView",
            "style": "IPY_MODEL_96d128a817ef4105a12496eec91bf3f0",
            "_dom_classes": [],
            "description": "100%",
            "_model_name": "FloatProgressModel",
            "bar_style": "success",
            "max": 13294,
            "_view_module": "@jupyter-widgets/controls",
            "_model_module_version": "1.5.0",
            "value": 13294,
            "_view_count": null,
            "_view_module_version": "1.5.0",
            "orientation": "horizontal",
            "min": 0,
            "description_tooltip": null,
            "_model_module": "@jupyter-widgets/controls",
            "layout": "IPY_MODEL_b3a2b9d7c97e47ce9d282bdf475a3e5a"
          }
        },
        "8597e64707d042ec9c75a8fe987c045a": {
          "model_module": "@jupyter-widgets/controls",
          "model_name": "HTMLModel",
          "state": {
            "_view_name": "HTMLView",
            "style": "IPY_MODEL_a10b8b1da91546cc9849208831a09bbd",
            "_dom_classes": [],
            "description": "",
            "_model_name": "HTMLModel",
            "placeholder": "​",
            "_view_module": "@jupyter-widgets/controls",
            "_model_module_version": "1.5.0",
            "value": " 13294/13294 [00:00&lt;00:00, 128878.32it/s]",
            "_view_count": null,
            "_view_module_version": "1.5.0",
            "description_tooltip": null,
            "_model_module": "@jupyter-widgets/controls",
            "layout": "IPY_MODEL_3c22d651e79047a784ad36a0c191e45f"
          }
        },
        "96d128a817ef4105a12496eec91bf3f0": {
          "model_module": "@jupyter-widgets/controls",
          "model_name": "ProgressStyleModel",
          "state": {
            "_view_name": "StyleView",
            "_model_name": "ProgressStyleModel",
            "description_width": "initial",
            "_view_module": "@jupyter-widgets/base",
            "_model_module_version": "1.5.0",
            "_view_count": null,
            "_view_module_version": "1.2.0",
            "bar_color": null,
            "_model_module": "@jupyter-widgets/controls"
          }
        },
        "b3a2b9d7c97e47ce9d282bdf475a3e5a": {
          "model_module": "@jupyter-widgets/base",
          "model_name": "LayoutModel",
          "state": {
            "_view_name": "LayoutView",
            "grid_template_rows": null,
            "right": null,
            "justify_content": null,
            "_view_module": "@jupyter-widgets/base",
            "overflow": null,
            "_model_module_version": "1.2.0",
            "_view_count": null,
            "flex_flow": null,
            "width": null,
            "min_width": null,
            "border": null,
            "align_items": null,
            "bottom": null,
            "_model_module": "@jupyter-widgets/base",
            "top": null,
            "grid_column": null,
            "overflow_y": null,
            "overflow_x": null,
            "grid_auto_flow": null,
            "grid_area": null,
            "grid_template_columns": null,
            "flex": null,
            "_model_name": "LayoutModel",
            "justify_items": null,
            "grid_row": null,
            "max_height": null,
            "align_content": null,
            "visibility": null,
            "align_self": null,
            "height": null,
            "min_height": null,
            "padding": null,
            "grid_auto_rows": null,
            "grid_gap": null,
            "max_width": null,
            "order": null,
            "_view_module_version": "1.2.0",
            "grid_template_areas": null,
            "object_position": null,
            "object_fit": null,
            "grid_auto_columns": null,
            "margin": null,
            "display": null,
            "left": null
          }
        },
        "a10b8b1da91546cc9849208831a09bbd": {
          "model_module": "@jupyter-widgets/controls",
          "model_name": "DescriptionStyleModel",
          "state": {
            "_view_name": "StyleView",
            "_model_name": "DescriptionStyleModel",
            "description_width": "",
            "_view_module": "@jupyter-widgets/base",
            "_model_module_version": "1.5.0",
            "_view_count": null,
            "_view_module_version": "1.2.0",
            "_model_module": "@jupyter-widgets/controls"
          }
        },
        "3c22d651e79047a784ad36a0c191e45f": {
          "model_module": "@jupyter-widgets/base",
          "model_name": "LayoutModel",
          "state": {
            "_view_name": "LayoutView",
            "grid_template_rows": null,
            "right": null,
            "justify_content": null,
            "_view_module": "@jupyter-widgets/base",
            "overflow": null,
            "_model_module_version": "1.2.0",
            "_view_count": null,
            "flex_flow": null,
            "width": null,
            "min_width": null,
            "border": null,
            "align_items": null,
            "bottom": null,
            "_model_module": "@jupyter-widgets/base",
            "top": null,
            "grid_column": null,
            "overflow_y": null,
            "overflow_x": null,
            "grid_auto_flow": null,
            "grid_area": null,
            "grid_template_columns": null,
            "flex": null,
            "_model_name": "LayoutModel",
            "justify_items": null,
            "grid_row": null,
            "max_height": null,
            "align_content": null,
            "visibility": null,
            "align_self": null,
            "height": null,
            "min_height": null,
            "padding": null,
            "grid_auto_rows": null,
            "grid_gap": null,
            "max_width": null,
            "order": null,
            "_view_module_version": "1.2.0",
            "grid_template_areas": null,
            "object_position": null,
            "object_fit": null,
            "grid_auto_columns": null,
            "margin": null,
            "display": null,
            "left": null
          }
        },
        "8265bf731d14476cb745c6d13d853d86": {
          "model_module": "@jupyter-widgets/controls",
          "model_name": "HBoxModel",
          "state": {
            "_view_name": "HBoxView",
            "_dom_classes": [],
            "_model_name": "HBoxModel",
            "_view_module": "@jupyter-widgets/controls",
            "_model_module_version": "1.5.0",
            "_view_count": null,
            "_view_module_version": "1.5.0",
            "box_style": "",
            "layout": "IPY_MODEL_f65f28318bd0458483c1280a5939f4e0",
            "_model_module": "@jupyter-widgets/controls",
            "children": [
              "IPY_MODEL_8626a977e6774ad09477ed863482949b",
              "IPY_MODEL_16a06b95e2f648219f150ee50f5959a8"
            ]
          }
        },
        "f65f28318bd0458483c1280a5939f4e0": {
          "model_module": "@jupyter-widgets/base",
          "model_name": "LayoutModel",
          "state": {
            "_view_name": "LayoutView",
            "grid_template_rows": null,
            "right": null,
            "justify_content": null,
            "_view_module": "@jupyter-widgets/base",
            "overflow": null,
            "_model_module_version": "1.2.0",
            "_view_count": null,
            "flex_flow": null,
            "width": null,
            "min_width": null,
            "border": null,
            "align_items": null,
            "bottom": null,
            "_model_module": "@jupyter-widgets/base",
            "top": null,
            "grid_column": null,
            "overflow_y": null,
            "overflow_x": null,
            "grid_auto_flow": null,
            "grid_area": null,
            "grid_template_columns": null,
            "flex": null,
            "_model_name": "LayoutModel",
            "justify_items": null,
            "grid_row": null,
            "max_height": null,
            "align_content": null,
            "visibility": null,
            "align_self": null,
            "height": null,
            "min_height": null,
            "padding": null,
            "grid_auto_rows": null,
            "grid_gap": null,
            "max_width": null,
            "order": null,
            "_view_module_version": "1.2.0",
            "grid_template_areas": null,
            "object_position": null,
            "object_fit": null,
            "grid_auto_columns": null,
            "margin": null,
            "display": null,
            "left": null
          }
        },
        "8626a977e6774ad09477ed863482949b": {
          "model_module": "@jupyter-widgets/controls",
          "model_name": "FloatProgressModel",
          "state": {
            "_view_name": "ProgressView",
            "style": "IPY_MODEL_e463ced314f644e48bd9d670e624733c",
            "_dom_classes": [],
            "description": "",
            "_model_name": "FloatProgressModel",
            "bar_style": "success",
            "max": 1,
            "_view_module": "@jupyter-widgets/controls",
            "_model_module_version": "1.5.0",
            "value": 1,
            "_view_count": null,
            "_view_module_version": "1.5.0",
            "orientation": "horizontal",
            "min": 0,
            "description_tooltip": null,
            "_model_module": "@jupyter-widgets/controls",
            "layout": "IPY_MODEL_3363d332d033457fba443245a8150dba"
          }
        },
        "16a06b95e2f648219f150ee50f5959a8": {
          "model_module": "@jupyter-widgets/controls",
          "model_name": "HTMLModel",
          "state": {
            "_view_name": "HTMLView",
            "style": "IPY_MODEL_0fc6d2c5167c4157a56464e04806f1b6",
            "_dom_classes": [],
            "description": "",
            "_model_name": "HTMLModel",
            "placeholder": "​",
            "_view_module": "@jupyter-widgets/controls",
            "_model_module_version": "1.5.0",
            "value": " 243830/? [01:19&lt;00:00, 3049.05it/s]",
            "_view_count": null,
            "_view_module_version": "1.5.0",
            "description_tooltip": null,
            "_model_module": "@jupyter-widgets/controls",
            "layout": "IPY_MODEL_6dbb64492823498ea64bfb1764e633c5"
          }
        },
        "e463ced314f644e48bd9d670e624733c": {
          "model_module": "@jupyter-widgets/controls",
          "model_name": "ProgressStyleModel",
          "state": {
            "_view_name": "StyleView",
            "_model_name": "ProgressStyleModel",
            "description_width": "initial",
            "_view_module": "@jupyter-widgets/base",
            "_model_module_version": "1.5.0",
            "_view_count": null,
            "_view_module_version": "1.2.0",
            "bar_color": null,
            "_model_module": "@jupyter-widgets/controls"
          }
        },
        "3363d332d033457fba443245a8150dba": {
          "model_module": "@jupyter-widgets/base",
          "model_name": "LayoutModel",
          "state": {
            "_view_name": "LayoutView",
            "grid_template_rows": null,
            "right": null,
            "justify_content": null,
            "_view_module": "@jupyter-widgets/base",
            "overflow": null,
            "_model_module_version": "1.2.0",
            "_view_count": null,
            "flex_flow": null,
            "width": null,
            "min_width": null,
            "border": null,
            "align_items": null,
            "bottom": null,
            "_model_module": "@jupyter-widgets/base",
            "top": null,
            "grid_column": null,
            "overflow_y": null,
            "overflow_x": null,
            "grid_auto_flow": null,
            "grid_area": null,
            "grid_template_columns": null,
            "flex": null,
            "_model_name": "LayoutModel",
            "justify_items": null,
            "grid_row": null,
            "max_height": null,
            "align_content": null,
            "visibility": null,
            "align_self": null,
            "height": null,
            "min_height": null,
            "padding": null,
            "grid_auto_rows": null,
            "grid_gap": null,
            "max_width": null,
            "order": null,
            "_view_module_version": "1.2.0",
            "grid_template_areas": null,
            "object_position": null,
            "object_fit": null,
            "grid_auto_columns": null,
            "margin": null,
            "display": null,
            "left": null
          }
        },
        "0fc6d2c5167c4157a56464e04806f1b6": {
          "model_module": "@jupyter-widgets/controls",
          "model_name": "DescriptionStyleModel",
          "state": {
            "_view_name": "StyleView",
            "_model_name": "DescriptionStyleModel",
            "description_width": "",
            "_view_module": "@jupyter-widgets/base",
            "_model_module_version": "1.5.0",
            "_view_count": null,
            "_view_module_version": "1.2.0",
            "_model_module": "@jupyter-widgets/controls"
          }
        },
        "6dbb64492823498ea64bfb1764e633c5": {
          "model_module": "@jupyter-widgets/base",
          "model_name": "LayoutModel",
          "state": {
            "_view_name": "LayoutView",
            "grid_template_rows": null,
            "right": null,
            "justify_content": null,
            "_view_module": "@jupyter-widgets/base",
            "overflow": null,
            "_model_module_version": "1.2.0",
            "_view_count": null,
            "flex_flow": null,
            "width": null,
            "min_width": null,
            "border": null,
            "align_items": null,
            "bottom": null,
            "_model_module": "@jupyter-widgets/base",
            "top": null,
            "grid_column": null,
            "overflow_y": null,
            "overflow_x": null,
            "grid_auto_flow": null,
            "grid_area": null,
            "grid_template_columns": null,
            "flex": null,
            "_model_name": "LayoutModel",
            "justify_items": null,
            "grid_row": null,
            "max_height": null,
            "align_content": null,
            "visibility": null,
            "align_self": null,
            "height": null,
            "min_height": null,
            "padding": null,
            "grid_auto_rows": null,
            "grid_gap": null,
            "max_width": null,
            "order": null,
            "_view_module_version": "1.2.0",
            "grid_template_areas": null,
            "object_position": null,
            "object_fit": null,
            "grid_auto_columns": null,
            "margin": null,
            "display": null,
            "left": null
          }
        },
        "6667662b446e4d1c9f6a012cc5ab6965": {
          "model_module": "@jupyter-widgets/controls",
          "model_name": "HBoxModel",
          "state": {
            "_view_name": "HBoxView",
            "_dom_classes": [],
            "_model_name": "HBoxModel",
            "_view_module": "@jupyter-widgets/controls",
            "_model_module_version": "1.5.0",
            "_view_count": null,
            "_view_module_version": "1.5.0",
            "box_style": "",
            "layout": "IPY_MODEL_b7d4c41e9d724735aa14e05e83adf100",
            "_model_module": "@jupyter-widgets/controls",
            "children": [
              "IPY_MODEL_39dfd5e02219456cb835a8afd6990977",
              "IPY_MODEL_c3d10eef7df743a4a19a3d97d770a714"
            ]
          }
        },
        "b7d4c41e9d724735aa14e05e83adf100": {
          "model_module": "@jupyter-widgets/base",
          "model_name": "LayoutModel",
          "state": {
            "_view_name": "LayoutView",
            "grid_template_rows": null,
            "right": null,
            "justify_content": null,
            "_view_module": "@jupyter-widgets/base",
            "overflow": null,
            "_model_module_version": "1.2.0",
            "_view_count": null,
            "flex_flow": null,
            "width": null,
            "min_width": null,
            "border": null,
            "align_items": null,
            "bottom": null,
            "_model_module": "@jupyter-widgets/base",
            "top": null,
            "grid_column": null,
            "overflow_y": null,
            "overflow_x": null,
            "grid_auto_flow": null,
            "grid_area": null,
            "grid_template_columns": null,
            "flex": null,
            "_model_name": "LayoutModel",
            "justify_items": null,
            "grid_row": null,
            "max_height": null,
            "align_content": null,
            "visibility": null,
            "align_self": null,
            "height": null,
            "min_height": null,
            "padding": null,
            "grid_auto_rows": null,
            "grid_gap": null,
            "max_width": null,
            "order": null,
            "_view_module_version": "1.2.0",
            "grid_template_areas": null,
            "object_position": null,
            "object_fit": null,
            "grid_auto_columns": null,
            "margin": null,
            "display": null,
            "left": null
          }
        },
        "39dfd5e02219456cb835a8afd6990977": {
          "model_module": "@jupyter-widgets/controls",
          "model_name": "FloatProgressModel",
          "state": {
            "_view_name": "ProgressView",
            "style": "IPY_MODEL_6242d1405505422f9950a15ddf4a7e4b",
            "_dom_classes": [],
            "description": "100%",
            "_model_name": "FloatProgressModel",
            "bar_style": "success",
            "max": 13162,
            "_view_module": "@jupyter-widgets/controls",
            "_model_module_version": "1.5.0",
            "value": 13162,
            "_view_count": null,
            "_view_module_version": "1.5.0",
            "orientation": "horizontal",
            "min": 0,
            "description_tooltip": null,
            "_model_module": "@jupyter-widgets/controls",
            "layout": "IPY_MODEL_ce772399fe664e9c87e6284ffd0e7fea"
          }
        },
        "c3d10eef7df743a4a19a3d97d770a714": {
          "model_module": "@jupyter-widgets/controls",
          "model_name": "HTMLModel",
          "state": {
            "_view_name": "HTMLView",
            "style": "IPY_MODEL_4bbf9b37cd5b46f7a7e62cb3412457bc",
            "_dom_classes": [],
            "description": "",
            "_model_name": "HTMLModel",
            "placeholder": "​",
            "_view_module": "@jupyter-widgets/controls",
            "_model_module_version": "1.5.0",
            "value": " 13162/13162 [00:00&lt;00:00, 125012.01it/s]",
            "_view_count": null,
            "_view_module_version": "1.5.0",
            "description_tooltip": null,
            "_model_module": "@jupyter-widgets/controls",
            "layout": "IPY_MODEL_ddefa0e2cb9d4a4ca34cd8c422d84148"
          }
        },
        "6242d1405505422f9950a15ddf4a7e4b": {
          "model_module": "@jupyter-widgets/controls",
          "model_name": "ProgressStyleModel",
          "state": {
            "_view_name": "StyleView",
            "_model_name": "ProgressStyleModel",
            "description_width": "initial",
            "_view_module": "@jupyter-widgets/base",
            "_model_module_version": "1.5.0",
            "_view_count": null,
            "_view_module_version": "1.2.0",
            "bar_color": null,
            "_model_module": "@jupyter-widgets/controls"
          }
        },
        "ce772399fe664e9c87e6284ffd0e7fea": {
          "model_module": "@jupyter-widgets/base",
          "model_name": "LayoutModel",
          "state": {
            "_view_name": "LayoutView",
            "grid_template_rows": null,
            "right": null,
            "justify_content": null,
            "_view_module": "@jupyter-widgets/base",
            "overflow": null,
            "_model_module_version": "1.2.0",
            "_view_count": null,
            "flex_flow": null,
            "width": null,
            "min_width": null,
            "border": null,
            "align_items": null,
            "bottom": null,
            "_model_module": "@jupyter-widgets/base",
            "top": null,
            "grid_column": null,
            "overflow_y": null,
            "overflow_x": null,
            "grid_auto_flow": null,
            "grid_area": null,
            "grid_template_columns": null,
            "flex": null,
            "_model_name": "LayoutModel",
            "justify_items": null,
            "grid_row": null,
            "max_height": null,
            "align_content": null,
            "visibility": null,
            "align_self": null,
            "height": null,
            "min_height": null,
            "padding": null,
            "grid_auto_rows": null,
            "grid_gap": null,
            "max_width": null,
            "order": null,
            "_view_module_version": "1.2.0",
            "grid_template_areas": null,
            "object_position": null,
            "object_fit": null,
            "grid_auto_columns": null,
            "margin": null,
            "display": null,
            "left": null
          }
        },
        "4bbf9b37cd5b46f7a7e62cb3412457bc": {
          "model_module": "@jupyter-widgets/controls",
          "model_name": "DescriptionStyleModel",
          "state": {
            "_view_name": "StyleView",
            "_model_name": "DescriptionStyleModel",
            "description_width": "",
            "_view_module": "@jupyter-widgets/base",
            "_model_module_version": "1.5.0",
            "_view_count": null,
            "_view_module_version": "1.2.0",
            "_model_module": "@jupyter-widgets/controls"
          }
        },
        "ddefa0e2cb9d4a4ca34cd8c422d84148": {
          "model_module": "@jupyter-widgets/base",
          "model_name": "LayoutModel",
          "state": {
            "_view_name": "LayoutView",
            "grid_template_rows": null,
            "right": null,
            "justify_content": null,
            "_view_module": "@jupyter-widgets/base",
            "overflow": null,
            "_model_module_version": "1.2.0",
            "_view_count": null,
            "flex_flow": null,
            "width": null,
            "min_width": null,
            "border": null,
            "align_items": null,
            "bottom": null,
            "_model_module": "@jupyter-widgets/base",
            "top": null,
            "grid_column": null,
            "overflow_y": null,
            "overflow_x": null,
            "grid_auto_flow": null,
            "grid_area": null,
            "grid_template_columns": null,
            "flex": null,
            "_model_name": "LayoutModel",
            "justify_items": null,
            "grid_row": null,
            "max_height": null,
            "align_content": null,
            "visibility": null,
            "align_self": null,
            "height": null,
            "min_height": null,
            "padding": null,
            "grid_auto_rows": null,
            "grid_gap": null,
            "max_width": null,
            "order": null,
            "_view_module_version": "1.2.0",
            "grid_template_areas": null,
            "object_position": null,
            "object_fit": null,
            "grid_auto_columns": null,
            "margin": null,
            "display": null,
            "left": null
          }
        },
        "b538466130604fdda13a84a43aff3bee": {
          "model_module": "@jupyter-widgets/controls",
          "model_name": "HBoxModel",
          "state": {
            "_view_name": "HBoxView",
            "_dom_classes": [],
            "_model_name": "HBoxModel",
            "_view_module": "@jupyter-widgets/controls",
            "_model_module_version": "1.5.0",
            "_view_count": null,
            "_view_module_version": "1.5.0",
            "box_style": "",
            "layout": "IPY_MODEL_157fb37e78df45729f3bbff5291f9910",
            "_model_module": "@jupyter-widgets/controls",
            "children": [
              "IPY_MODEL_622fff1aed944de7a519fd739fdf8677",
              "IPY_MODEL_c671564225364e7789cc26f4e31e8f87"
            ]
          }
        },
        "157fb37e78df45729f3bbff5291f9910": {
          "model_module": "@jupyter-widgets/base",
          "model_name": "LayoutModel",
          "state": {
            "_view_name": "LayoutView",
            "grid_template_rows": null,
            "right": null,
            "justify_content": null,
            "_view_module": "@jupyter-widgets/base",
            "overflow": null,
            "_model_module_version": "1.2.0",
            "_view_count": null,
            "flex_flow": null,
            "width": null,
            "min_width": null,
            "border": null,
            "align_items": null,
            "bottom": null,
            "_model_module": "@jupyter-widgets/base",
            "top": null,
            "grid_column": null,
            "overflow_y": null,
            "overflow_x": null,
            "grid_auto_flow": null,
            "grid_area": null,
            "grid_template_columns": null,
            "flex": null,
            "_model_name": "LayoutModel",
            "justify_items": null,
            "grid_row": null,
            "max_height": null,
            "align_content": null,
            "visibility": null,
            "align_self": null,
            "height": null,
            "min_height": null,
            "padding": null,
            "grid_auto_rows": null,
            "grid_gap": null,
            "max_width": null,
            "order": null,
            "_view_module_version": "1.2.0",
            "grid_template_areas": null,
            "object_position": null,
            "object_fit": null,
            "grid_auto_columns": null,
            "margin": null,
            "display": null,
            "left": null
          }
        },
        "622fff1aed944de7a519fd739fdf8677": {
          "model_module": "@jupyter-widgets/controls",
          "model_name": "FloatProgressModel",
          "state": {
            "_view_name": "ProgressView",
            "style": "IPY_MODEL_02fbb1fe89fe4408b4b7806a1b26a112",
            "_dom_classes": [],
            "description": "",
            "_model_name": "FloatProgressModel",
            "bar_style": "success",
            "max": 1,
            "_view_module": "@jupyter-widgets/controls",
            "_model_module_version": "1.5.0",
            "value": 1,
            "_view_count": null,
            "_view_module_version": "1.5.0",
            "orientation": "horizontal",
            "min": 0,
            "description_tooltip": null,
            "_model_module": "@jupyter-widgets/controls",
            "layout": "IPY_MODEL_85a519ee8ef042c4a69c6f95befe8066"
          }
        },
        "c671564225364e7789cc26f4e31e8f87": {
          "model_module": "@jupyter-widgets/controls",
          "model_name": "HTMLModel",
          "state": {
            "_view_name": "HTMLView",
            "style": "IPY_MODEL_71582ce01d1244338b735c461990f4d7",
            "_dom_classes": [],
            "description": "",
            "_model_name": "HTMLModel",
            "placeholder": "​",
            "_view_module": "@jupyter-widgets/controls",
            "_model_module_version": "1.5.0",
            "value": " 243830/? [01:24&lt;00:00, 2901.88it/s]",
            "_view_count": null,
            "_view_module_version": "1.5.0",
            "description_tooltip": null,
            "_model_module": "@jupyter-widgets/controls",
            "layout": "IPY_MODEL_1463ab82789c430d8373b2dec500f095"
          }
        },
        "02fbb1fe89fe4408b4b7806a1b26a112": {
          "model_module": "@jupyter-widgets/controls",
          "model_name": "ProgressStyleModel",
          "state": {
            "_view_name": "StyleView",
            "_model_name": "ProgressStyleModel",
            "description_width": "initial",
            "_view_module": "@jupyter-widgets/base",
            "_model_module_version": "1.5.0",
            "_view_count": null,
            "_view_module_version": "1.2.0",
            "bar_color": null,
            "_model_module": "@jupyter-widgets/controls"
          }
        },
        "85a519ee8ef042c4a69c6f95befe8066": {
          "model_module": "@jupyter-widgets/base",
          "model_name": "LayoutModel",
          "state": {
            "_view_name": "LayoutView",
            "grid_template_rows": null,
            "right": null,
            "justify_content": null,
            "_view_module": "@jupyter-widgets/base",
            "overflow": null,
            "_model_module_version": "1.2.0",
            "_view_count": null,
            "flex_flow": null,
            "width": null,
            "min_width": null,
            "border": null,
            "align_items": null,
            "bottom": null,
            "_model_module": "@jupyter-widgets/base",
            "top": null,
            "grid_column": null,
            "overflow_y": null,
            "overflow_x": null,
            "grid_auto_flow": null,
            "grid_area": null,
            "grid_template_columns": null,
            "flex": null,
            "_model_name": "LayoutModel",
            "justify_items": null,
            "grid_row": null,
            "max_height": null,
            "align_content": null,
            "visibility": null,
            "align_self": null,
            "height": null,
            "min_height": null,
            "padding": null,
            "grid_auto_rows": null,
            "grid_gap": null,
            "max_width": null,
            "order": null,
            "_view_module_version": "1.2.0",
            "grid_template_areas": null,
            "object_position": null,
            "object_fit": null,
            "grid_auto_columns": null,
            "margin": null,
            "display": null,
            "left": null
          }
        },
        "71582ce01d1244338b735c461990f4d7": {
          "model_module": "@jupyter-widgets/controls",
          "model_name": "DescriptionStyleModel",
          "state": {
            "_view_name": "StyleView",
            "_model_name": "DescriptionStyleModel",
            "description_width": "",
            "_view_module": "@jupyter-widgets/base",
            "_model_module_version": "1.5.0",
            "_view_count": null,
            "_view_module_version": "1.2.0",
            "_model_module": "@jupyter-widgets/controls"
          }
        },
        "1463ab82789c430d8373b2dec500f095": {
          "model_module": "@jupyter-widgets/base",
          "model_name": "LayoutModel",
          "state": {
            "_view_name": "LayoutView",
            "grid_template_rows": null,
            "right": null,
            "justify_content": null,
            "_view_module": "@jupyter-widgets/base",
            "overflow": null,
            "_model_module_version": "1.2.0",
            "_view_count": null,
            "flex_flow": null,
            "width": null,
            "min_width": null,
            "border": null,
            "align_items": null,
            "bottom": null,
            "_model_module": "@jupyter-widgets/base",
            "top": null,
            "grid_column": null,
            "overflow_y": null,
            "overflow_x": null,
            "grid_auto_flow": null,
            "grid_area": null,
            "grid_template_columns": null,
            "flex": null,
            "_model_name": "LayoutModel",
            "justify_items": null,
            "grid_row": null,
            "max_height": null,
            "align_content": null,
            "visibility": null,
            "align_self": null,
            "height": null,
            "min_height": null,
            "padding": null,
            "grid_auto_rows": null,
            "grid_gap": null,
            "max_width": null,
            "order": null,
            "_view_module_version": "1.2.0",
            "grid_template_areas": null,
            "object_position": null,
            "object_fit": null,
            "grid_auto_columns": null,
            "margin": null,
            "display": null,
            "left": null
          }
        },
        "d7e350f6b93946efbaccacc9bf6f7ee9": {
          "model_module": "@jupyter-widgets/controls",
          "model_name": "HBoxModel",
          "state": {
            "_view_name": "HBoxView",
            "_dom_classes": [],
            "_model_name": "HBoxModel",
            "_view_module": "@jupyter-widgets/controls",
            "_model_module_version": "1.5.0",
            "_view_count": null,
            "_view_module_version": "1.5.0",
            "box_style": "",
            "layout": "IPY_MODEL_e224ab41132d4dfdbbbdfa9f057c44ea",
            "_model_module": "@jupyter-widgets/controls",
            "children": [
              "IPY_MODEL_3b7e78dad0ea45cea4d4c82560e124fc",
              "IPY_MODEL_fc5c566acdae4c0f8f4a3815b1b93a60"
            ]
          }
        },
        "e224ab41132d4dfdbbbdfa9f057c44ea": {
          "model_module": "@jupyter-widgets/base",
          "model_name": "LayoutModel",
          "state": {
            "_view_name": "LayoutView",
            "grid_template_rows": null,
            "right": null,
            "justify_content": null,
            "_view_module": "@jupyter-widgets/base",
            "overflow": null,
            "_model_module_version": "1.2.0",
            "_view_count": null,
            "flex_flow": null,
            "width": null,
            "min_width": null,
            "border": null,
            "align_items": null,
            "bottom": null,
            "_model_module": "@jupyter-widgets/base",
            "top": null,
            "grid_column": null,
            "overflow_y": null,
            "overflow_x": null,
            "grid_auto_flow": null,
            "grid_area": null,
            "grid_template_columns": null,
            "flex": null,
            "_model_name": "LayoutModel",
            "justify_items": null,
            "grid_row": null,
            "max_height": null,
            "align_content": null,
            "visibility": null,
            "align_self": null,
            "height": null,
            "min_height": null,
            "padding": null,
            "grid_auto_rows": null,
            "grid_gap": null,
            "max_width": null,
            "order": null,
            "_view_module_version": "1.2.0",
            "grid_template_areas": null,
            "object_position": null,
            "object_fit": null,
            "grid_auto_columns": null,
            "margin": null,
            "display": null,
            "left": null
          }
        },
        "3b7e78dad0ea45cea4d4c82560e124fc": {
          "model_module": "@jupyter-widgets/controls",
          "model_name": "FloatProgressModel",
          "state": {
            "_view_name": "ProgressView",
            "style": "IPY_MODEL_97ab0ebabe58444eb194562f078e96c5",
            "_dom_classes": [],
            "description": "100%",
            "_model_name": "FloatProgressModel",
            "bar_style": "success",
            "max": 13335,
            "_view_module": "@jupyter-widgets/controls",
            "_model_module_version": "1.5.0",
            "value": 13335,
            "_view_count": null,
            "_view_module_version": "1.5.0",
            "orientation": "horizontal",
            "min": 0,
            "description_tooltip": null,
            "_model_module": "@jupyter-widgets/controls",
            "layout": "IPY_MODEL_05d0f2e7d8d24787b90aad38e62d91b6"
          }
        },
        "fc5c566acdae4c0f8f4a3815b1b93a60": {
          "model_module": "@jupyter-widgets/controls",
          "model_name": "HTMLModel",
          "state": {
            "_view_name": "HTMLView",
            "style": "IPY_MODEL_601367c86da54e1287e4f46635e3a430",
            "_dom_classes": [],
            "description": "",
            "_model_name": "HTMLModel",
            "placeholder": "​",
            "_view_module": "@jupyter-widgets/controls",
            "_model_module_version": "1.5.0",
            "value": " 13335/13335 [00:00&lt;00:00, 110934.67it/s]",
            "_view_count": null,
            "_view_module_version": "1.5.0",
            "description_tooltip": null,
            "_model_module": "@jupyter-widgets/controls",
            "layout": "IPY_MODEL_90dd992eba514b498688385dc372e75c"
          }
        },
        "97ab0ebabe58444eb194562f078e96c5": {
          "model_module": "@jupyter-widgets/controls",
          "model_name": "ProgressStyleModel",
          "state": {
            "_view_name": "StyleView",
            "_model_name": "ProgressStyleModel",
            "description_width": "initial",
            "_view_module": "@jupyter-widgets/base",
            "_model_module_version": "1.5.0",
            "_view_count": null,
            "_view_module_version": "1.2.0",
            "bar_color": null,
            "_model_module": "@jupyter-widgets/controls"
          }
        },
        "05d0f2e7d8d24787b90aad38e62d91b6": {
          "model_module": "@jupyter-widgets/base",
          "model_name": "LayoutModel",
          "state": {
            "_view_name": "LayoutView",
            "grid_template_rows": null,
            "right": null,
            "justify_content": null,
            "_view_module": "@jupyter-widgets/base",
            "overflow": null,
            "_model_module_version": "1.2.0",
            "_view_count": null,
            "flex_flow": null,
            "width": null,
            "min_width": null,
            "border": null,
            "align_items": null,
            "bottom": null,
            "_model_module": "@jupyter-widgets/base",
            "top": null,
            "grid_column": null,
            "overflow_y": null,
            "overflow_x": null,
            "grid_auto_flow": null,
            "grid_area": null,
            "grid_template_columns": null,
            "flex": null,
            "_model_name": "LayoutModel",
            "justify_items": null,
            "grid_row": null,
            "max_height": null,
            "align_content": null,
            "visibility": null,
            "align_self": null,
            "height": null,
            "min_height": null,
            "padding": null,
            "grid_auto_rows": null,
            "grid_gap": null,
            "max_width": null,
            "order": null,
            "_view_module_version": "1.2.0",
            "grid_template_areas": null,
            "object_position": null,
            "object_fit": null,
            "grid_auto_columns": null,
            "margin": null,
            "display": null,
            "left": null
          }
        },
        "601367c86da54e1287e4f46635e3a430": {
          "model_module": "@jupyter-widgets/controls",
          "model_name": "DescriptionStyleModel",
          "state": {
            "_view_name": "StyleView",
            "_model_name": "DescriptionStyleModel",
            "description_width": "",
            "_view_module": "@jupyter-widgets/base",
            "_model_module_version": "1.5.0",
            "_view_count": null,
            "_view_module_version": "1.2.0",
            "_model_module": "@jupyter-widgets/controls"
          }
        },
        "90dd992eba514b498688385dc372e75c": {
          "model_module": "@jupyter-widgets/base",
          "model_name": "LayoutModel",
          "state": {
            "_view_name": "LayoutView",
            "grid_template_rows": null,
            "right": null,
            "justify_content": null,
            "_view_module": "@jupyter-widgets/base",
            "overflow": null,
            "_model_module_version": "1.2.0",
            "_view_count": null,
            "flex_flow": null,
            "width": null,
            "min_width": null,
            "border": null,
            "align_items": null,
            "bottom": null,
            "_model_module": "@jupyter-widgets/base",
            "top": null,
            "grid_column": null,
            "overflow_y": null,
            "overflow_x": null,
            "grid_auto_flow": null,
            "grid_area": null,
            "grid_template_columns": null,
            "flex": null,
            "_model_name": "LayoutModel",
            "justify_items": null,
            "grid_row": null,
            "max_height": null,
            "align_content": null,
            "visibility": null,
            "align_self": null,
            "height": null,
            "min_height": null,
            "padding": null,
            "grid_auto_rows": null,
            "grid_gap": null,
            "max_width": null,
            "order": null,
            "_view_module_version": "1.2.0",
            "grid_template_areas": null,
            "object_position": null,
            "object_fit": null,
            "grid_auto_columns": null,
            "margin": null,
            "display": null,
            "left": null
          }
        },
        "5022e5f26d0b4f8db750367bb3bb644b": {
          "model_module": "@jupyter-widgets/controls",
          "model_name": "HBoxModel",
          "state": {
            "_view_name": "HBoxView",
            "_dom_classes": [],
            "_model_name": "HBoxModel",
            "_view_module": "@jupyter-widgets/controls",
            "_model_module_version": "1.5.0",
            "_view_count": null,
            "_view_module_version": "1.5.0",
            "box_style": "",
            "layout": "IPY_MODEL_bd5c0cdbff53480b9a9ec70b8f2430c6",
            "_model_module": "@jupyter-widgets/controls",
            "children": [
              "IPY_MODEL_7cb0c917de124e5991b5f4752563fa37",
              "IPY_MODEL_3263978bb7fd4eaa8fa06a561f91dfd1"
            ]
          }
        },
        "bd5c0cdbff53480b9a9ec70b8f2430c6": {
          "model_module": "@jupyter-widgets/base",
          "model_name": "LayoutModel",
          "state": {
            "_view_name": "LayoutView",
            "grid_template_rows": null,
            "right": null,
            "justify_content": null,
            "_view_module": "@jupyter-widgets/base",
            "overflow": null,
            "_model_module_version": "1.2.0",
            "_view_count": null,
            "flex_flow": null,
            "width": null,
            "min_width": null,
            "border": null,
            "align_items": null,
            "bottom": null,
            "_model_module": "@jupyter-widgets/base",
            "top": null,
            "grid_column": null,
            "overflow_y": null,
            "overflow_x": null,
            "grid_auto_flow": null,
            "grid_area": null,
            "grid_template_columns": null,
            "flex": null,
            "_model_name": "LayoutModel",
            "justify_items": null,
            "grid_row": null,
            "max_height": null,
            "align_content": null,
            "visibility": null,
            "align_self": null,
            "height": null,
            "min_height": null,
            "padding": null,
            "grid_auto_rows": null,
            "grid_gap": null,
            "max_width": null,
            "order": null,
            "_view_module_version": "1.2.0",
            "grid_template_areas": null,
            "object_position": null,
            "object_fit": null,
            "grid_auto_columns": null,
            "margin": null,
            "display": null,
            "left": null
          }
        },
        "7cb0c917de124e5991b5f4752563fa37": {
          "model_module": "@jupyter-widgets/controls",
          "model_name": "FloatProgressModel",
          "state": {
            "_view_name": "ProgressView",
            "style": "IPY_MODEL_482aa957e44c4e47b531bcfd6036007c",
            "_dom_classes": [],
            "description": "",
            "_model_name": "FloatProgressModel",
            "bar_style": "success",
            "max": 1,
            "_view_module": "@jupyter-widgets/controls",
            "_model_module_version": "1.5.0",
            "value": 1,
            "_view_count": null,
            "_view_module_version": "1.5.0",
            "orientation": "horizontal",
            "min": 0,
            "description_tooltip": null,
            "_model_module": "@jupyter-widgets/controls",
            "layout": "IPY_MODEL_210d37f8deac4c77afbe4563fde635bd"
          }
        },
        "3263978bb7fd4eaa8fa06a561f91dfd1": {
          "model_module": "@jupyter-widgets/controls",
          "model_name": "HTMLModel",
          "state": {
            "_view_name": "HTMLView",
            "style": "IPY_MODEL_07f8ea94f79847c5afe3b1e44e06d088",
            "_dom_classes": [],
            "description": "",
            "_model_name": "HTMLModel",
            "placeholder": "​",
            "_view_module": "@jupyter-widgets/controls",
            "_model_module_version": "1.5.0",
            "value": " 243830/? [01:20&lt;00:00, 3034.86it/s]",
            "_view_count": null,
            "_view_module_version": "1.5.0",
            "description_tooltip": null,
            "_model_module": "@jupyter-widgets/controls",
            "layout": "IPY_MODEL_fb110b9fa36f4c8187fd43348506d959"
          }
        },
        "482aa957e44c4e47b531bcfd6036007c": {
          "model_module": "@jupyter-widgets/controls",
          "model_name": "ProgressStyleModel",
          "state": {
            "_view_name": "StyleView",
            "_model_name": "ProgressStyleModel",
            "description_width": "initial",
            "_view_module": "@jupyter-widgets/base",
            "_model_module_version": "1.5.0",
            "_view_count": null,
            "_view_module_version": "1.2.0",
            "bar_color": null,
            "_model_module": "@jupyter-widgets/controls"
          }
        },
        "210d37f8deac4c77afbe4563fde635bd": {
          "model_module": "@jupyter-widgets/base",
          "model_name": "LayoutModel",
          "state": {
            "_view_name": "LayoutView",
            "grid_template_rows": null,
            "right": null,
            "justify_content": null,
            "_view_module": "@jupyter-widgets/base",
            "overflow": null,
            "_model_module_version": "1.2.0",
            "_view_count": null,
            "flex_flow": null,
            "width": null,
            "min_width": null,
            "border": null,
            "align_items": null,
            "bottom": null,
            "_model_module": "@jupyter-widgets/base",
            "top": null,
            "grid_column": null,
            "overflow_y": null,
            "overflow_x": null,
            "grid_auto_flow": null,
            "grid_area": null,
            "grid_template_columns": null,
            "flex": null,
            "_model_name": "LayoutModel",
            "justify_items": null,
            "grid_row": null,
            "max_height": null,
            "align_content": null,
            "visibility": null,
            "align_self": null,
            "height": null,
            "min_height": null,
            "padding": null,
            "grid_auto_rows": null,
            "grid_gap": null,
            "max_width": null,
            "order": null,
            "_view_module_version": "1.2.0",
            "grid_template_areas": null,
            "object_position": null,
            "object_fit": null,
            "grid_auto_columns": null,
            "margin": null,
            "display": null,
            "left": null
          }
        },
        "07f8ea94f79847c5afe3b1e44e06d088": {
          "model_module": "@jupyter-widgets/controls",
          "model_name": "DescriptionStyleModel",
          "state": {
            "_view_name": "StyleView",
            "_model_name": "DescriptionStyleModel",
            "description_width": "",
            "_view_module": "@jupyter-widgets/base",
            "_model_module_version": "1.5.0",
            "_view_count": null,
            "_view_module_version": "1.2.0",
            "_model_module": "@jupyter-widgets/controls"
          }
        },
        "fb110b9fa36f4c8187fd43348506d959": {
          "model_module": "@jupyter-widgets/base",
          "model_name": "LayoutModel",
          "state": {
            "_view_name": "LayoutView",
            "grid_template_rows": null,
            "right": null,
            "justify_content": null,
            "_view_module": "@jupyter-widgets/base",
            "overflow": null,
            "_model_module_version": "1.2.0",
            "_view_count": null,
            "flex_flow": null,
            "width": null,
            "min_width": null,
            "border": null,
            "align_items": null,
            "bottom": null,
            "_model_module": "@jupyter-widgets/base",
            "top": null,
            "grid_column": null,
            "overflow_y": null,
            "overflow_x": null,
            "grid_auto_flow": null,
            "grid_area": null,
            "grid_template_columns": null,
            "flex": null,
            "_model_name": "LayoutModel",
            "justify_items": null,
            "grid_row": null,
            "max_height": null,
            "align_content": null,
            "visibility": null,
            "align_self": null,
            "height": null,
            "min_height": null,
            "padding": null,
            "grid_auto_rows": null,
            "grid_gap": null,
            "max_width": null,
            "order": null,
            "_view_module_version": "1.2.0",
            "grid_template_areas": null,
            "object_position": null,
            "object_fit": null,
            "grid_auto_columns": null,
            "margin": null,
            "display": null,
            "left": null
          }
        },
        "4ab9a3313d5b4a579b7132c02d5ec5a8": {
          "model_module": "@jupyter-widgets/controls",
          "model_name": "HBoxModel",
          "state": {
            "_view_name": "HBoxView",
            "_dom_classes": [],
            "_model_name": "HBoxModel",
            "_view_module": "@jupyter-widgets/controls",
            "_model_module_version": "1.5.0",
            "_view_count": null,
            "_view_module_version": "1.5.0",
            "box_style": "",
            "layout": "IPY_MODEL_fa748ec3a69b47a5a8eb4a373f4e30e0",
            "_model_module": "@jupyter-widgets/controls",
            "children": [
              "IPY_MODEL_f81b0bafff2f4aa49aa376d121556541",
              "IPY_MODEL_c181b3265afe4a72970e698314a8fe6b"
            ]
          }
        },
        "fa748ec3a69b47a5a8eb4a373f4e30e0": {
          "model_module": "@jupyter-widgets/base",
          "model_name": "LayoutModel",
          "state": {
            "_view_name": "LayoutView",
            "grid_template_rows": null,
            "right": null,
            "justify_content": null,
            "_view_module": "@jupyter-widgets/base",
            "overflow": null,
            "_model_module_version": "1.2.0",
            "_view_count": null,
            "flex_flow": null,
            "width": null,
            "min_width": null,
            "border": null,
            "align_items": null,
            "bottom": null,
            "_model_module": "@jupyter-widgets/base",
            "top": null,
            "grid_column": null,
            "overflow_y": null,
            "overflow_x": null,
            "grid_auto_flow": null,
            "grid_area": null,
            "grid_template_columns": null,
            "flex": null,
            "_model_name": "LayoutModel",
            "justify_items": null,
            "grid_row": null,
            "max_height": null,
            "align_content": null,
            "visibility": null,
            "align_self": null,
            "height": null,
            "min_height": null,
            "padding": null,
            "grid_auto_rows": null,
            "grid_gap": null,
            "max_width": null,
            "order": null,
            "_view_module_version": "1.2.0",
            "grid_template_areas": null,
            "object_position": null,
            "object_fit": null,
            "grid_auto_columns": null,
            "margin": null,
            "display": null,
            "left": null
          }
        },
        "f81b0bafff2f4aa49aa376d121556541": {
          "model_module": "@jupyter-widgets/controls",
          "model_name": "FloatProgressModel",
          "state": {
            "_view_name": "ProgressView",
            "style": "IPY_MODEL_c6c96693175640c780ec837de0028ce0",
            "_dom_classes": [],
            "description": "100%",
            "_model_name": "FloatProgressModel",
            "bar_style": "success",
            "max": 14737,
            "_view_module": "@jupyter-widgets/controls",
            "_model_module_version": "1.5.0",
            "value": 14737,
            "_view_count": null,
            "_view_module_version": "1.5.0",
            "orientation": "horizontal",
            "min": 0,
            "description_tooltip": null,
            "_model_module": "@jupyter-widgets/controls",
            "layout": "IPY_MODEL_2526076f1d774357a93bd1e024f69103"
          }
        },
        "c181b3265afe4a72970e698314a8fe6b": {
          "model_module": "@jupyter-widgets/controls",
          "model_name": "HTMLModel",
          "state": {
            "_view_name": "HTMLView",
            "style": "IPY_MODEL_c96dbc9f07014b5ba078c9de90560bd5",
            "_dom_classes": [],
            "description": "",
            "_model_name": "HTMLModel",
            "placeholder": "​",
            "_view_module": "@jupyter-widgets/controls",
            "_model_module_version": "1.5.0",
            "value": " 14737/14737 [00:00&lt;00:00, 135491.42it/s]",
            "_view_count": null,
            "_view_module_version": "1.5.0",
            "description_tooltip": null,
            "_model_module": "@jupyter-widgets/controls",
            "layout": "IPY_MODEL_0a7bb3a82ebb4dbbaf24fe220d51bfdb"
          }
        },
        "c6c96693175640c780ec837de0028ce0": {
          "model_module": "@jupyter-widgets/controls",
          "model_name": "ProgressStyleModel",
          "state": {
            "_view_name": "StyleView",
            "_model_name": "ProgressStyleModel",
            "description_width": "initial",
            "_view_module": "@jupyter-widgets/base",
            "_model_module_version": "1.5.0",
            "_view_count": null,
            "_view_module_version": "1.2.0",
            "bar_color": null,
            "_model_module": "@jupyter-widgets/controls"
          }
        },
        "2526076f1d774357a93bd1e024f69103": {
          "model_module": "@jupyter-widgets/base",
          "model_name": "LayoutModel",
          "state": {
            "_view_name": "LayoutView",
            "grid_template_rows": null,
            "right": null,
            "justify_content": null,
            "_view_module": "@jupyter-widgets/base",
            "overflow": null,
            "_model_module_version": "1.2.0",
            "_view_count": null,
            "flex_flow": null,
            "width": null,
            "min_width": null,
            "border": null,
            "align_items": null,
            "bottom": null,
            "_model_module": "@jupyter-widgets/base",
            "top": null,
            "grid_column": null,
            "overflow_y": null,
            "overflow_x": null,
            "grid_auto_flow": null,
            "grid_area": null,
            "grid_template_columns": null,
            "flex": null,
            "_model_name": "LayoutModel",
            "justify_items": null,
            "grid_row": null,
            "max_height": null,
            "align_content": null,
            "visibility": null,
            "align_self": null,
            "height": null,
            "min_height": null,
            "padding": null,
            "grid_auto_rows": null,
            "grid_gap": null,
            "max_width": null,
            "order": null,
            "_view_module_version": "1.2.0",
            "grid_template_areas": null,
            "object_position": null,
            "object_fit": null,
            "grid_auto_columns": null,
            "margin": null,
            "display": null,
            "left": null
          }
        },
        "c96dbc9f07014b5ba078c9de90560bd5": {
          "model_module": "@jupyter-widgets/controls",
          "model_name": "DescriptionStyleModel",
          "state": {
            "_view_name": "StyleView",
            "_model_name": "DescriptionStyleModel",
            "description_width": "",
            "_view_module": "@jupyter-widgets/base",
            "_model_module_version": "1.5.0",
            "_view_count": null,
            "_view_module_version": "1.2.0",
            "_model_module": "@jupyter-widgets/controls"
          }
        },
        "0a7bb3a82ebb4dbbaf24fe220d51bfdb": {
          "model_module": "@jupyter-widgets/base",
          "model_name": "LayoutModel",
          "state": {
            "_view_name": "LayoutView",
            "grid_template_rows": null,
            "right": null,
            "justify_content": null,
            "_view_module": "@jupyter-widgets/base",
            "overflow": null,
            "_model_module_version": "1.2.0",
            "_view_count": null,
            "flex_flow": null,
            "width": null,
            "min_width": null,
            "border": null,
            "align_items": null,
            "bottom": null,
            "_model_module": "@jupyter-widgets/base",
            "top": null,
            "grid_column": null,
            "overflow_y": null,
            "overflow_x": null,
            "grid_auto_flow": null,
            "grid_area": null,
            "grid_template_columns": null,
            "flex": null,
            "_model_name": "LayoutModel",
            "justify_items": null,
            "grid_row": null,
            "max_height": null,
            "align_content": null,
            "visibility": null,
            "align_self": null,
            "height": null,
            "min_height": null,
            "padding": null,
            "grid_auto_rows": null,
            "grid_gap": null,
            "max_width": null,
            "order": null,
            "_view_module_version": "1.2.0",
            "grid_template_areas": null,
            "object_position": null,
            "object_fit": null,
            "grid_auto_columns": null,
            "margin": null,
            "display": null,
            "left": null
          }
        },
        "a1665aa0bf464a1c8b2d5f4384b64740": {
          "model_module": "@jupyter-widgets/controls",
          "model_name": "HBoxModel",
          "state": {
            "_view_name": "HBoxView",
            "_dom_classes": [],
            "_model_name": "HBoxModel",
            "_view_module": "@jupyter-widgets/controls",
            "_model_module_version": "1.5.0",
            "_view_count": null,
            "_view_module_version": "1.5.0",
            "box_style": "",
            "layout": "IPY_MODEL_c77cbf6daae54341b3101ad85336b264",
            "_model_module": "@jupyter-widgets/controls",
            "children": [
              "IPY_MODEL_f125b8e9c62c46298f862f3be0ad7fcb",
              "IPY_MODEL_74337b1b0a4c4d2ab8ba0c72b3323137"
            ]
          }
        },
        "c77cbf6daae54341b3101ad85336b264": {
          "model_module": "@jupyter-widgets/base",
          "model_name": "LayoutModel",
          "state": {
            "_view_name": "LayoutView",
            "grid_template_rows": null,
            "right": null,
            "justify_content": null,
            "_view_module": "@jupyter-widgets/base",
            "overflow": null,
            "_model_module_version": "1.2.0",
            "_view_count": null,
            "flex_flow": null,
            "width": null,
            "min_width": null,
            "border": null,
            "align_items": null,
            "bottom": null,
            "_model_module": "@jupyter-widgets/base",
            "top": null,
            "grid_column": null,
            "overflow_y": null,
            "overflow_x": null,
            "grid_auto_flow": null,
            "grid_area": null,
            "grid_template_columns": null,
            "flex": null,
            "_model_name": "LayoutModel",
            "justify_items": null,
            "grid_row": null,
            "max_height": null,
            "align_content": null,
            "visibility": null,
            "align_self": null,
            "height": null,
            "min_height": null,
            "padding": null,
            "grid_auto_rows": null,
            "grid_gap": null,
            "max_width": null,
            "order": null,
            "_view_module_version": "1.2.0",
            "grid_template_areas": null,
            "object_position": null,
            "object_fit": null,
            "grid_auto_columns": null,
            "margin": null,
            "display": null,
            "left": null
          }
        },
        "f125b8e9c62c46298f862f3be0ad7fcb": {
          "model_module": "@jupyter-widgets/controls",
          "model_name": "FloatProgressModel",
          "state": {
            "_view_name": "ProgressView",
            "style": "IPY_MODEL_3655a2700ee6496d85bafd5d6ccd2a56",
            "_dom_classes": [],
            "description": "",
            "_model_name": "FloatProgressModel",
            "bar_style": "success",
            "max": 1,
            "_view_module": "@jupyter-widgets/controls",
            "_model_module_version": "1.5.0",
            "value": 1,
            "_view_count": null,
            "_view_module_version": "1.5.0",
            "orientation": "horizontal",
            "min": 0,
            "description_tooltip": null,
            "_model_module": "@jupyter-widgets/controls",
            "layout": "IPY_MODEL_40ed66d722fd4d3d98353e0ceb056821"
          }
        },
        "74337b1b0a4c4d2ab8ba0c72b3323137": {
          "model_module": "@jupyter-widgets/controls",
          "model_name": "HTMLModel",
          "state": {
            "_view_name": "HTMLView",
            "style": "IPY_MODEL_a8cd03a11ba04e2291a05e03bbb37671",
            "_dom_classes": [],
            "description": "",
            "_model_name": "HTMLModel",
            "placeholder": "​",
            "_view_module": "@jupyter-widgets/controls",
            "_model_module_version": "1.5.0",
            "value": " 243830/? [01:20&lt;00:00, 3014.64it/s]",
            "_view_count": null,
            "_view_module_version": "1.5.0",
            "description_tooltip": null,
            "_model_module": "@jupyter-widgets/controls",
            "layout": "IPY_MODEL_7cc56ae621e34d9d8892777fcec033ee"
          }
        },
        "3655a2700ee6496d85bafd5d6ccd2a56": {
          "model_module": "@jupyter-widgets/controls",
          "model_name": "ProgressStyleModel",
          "state": {
            "_view_name": "StyleView",
            "_model_name": "ProgressStyleModel",
            "description_width": "initial",
            "_view_module": "@jupyter-widgets/base",
            "_model_module_version": "1.5.0",
            "_view_count": null,
            "_view_module_version": "1.2.0",
            "bar_color": null,
            "_model_module": "@jupyter-widgets/controls"
          }
        },
        "40ed66d722fd4d3d98353e0ceb056821": {
          "model_module": "@jupyter-widgets/base",
          "model_name": "LayoutModel",
          "state": {
            "_view_name": "LayoutView",
            "grid_template_rows": null,
            "right": null,
            "justify_content": null,
            "_view_module": "@jupyter-widgets/base",
            "overflow": null,
            "_model_module_version": "1.2.0",
            "_view_count": null,
            "flex_flow": null,
            "width": null,
            "min_width": null,
            "border": null,
            "align_items": null,
            "bottom": null,
            "_model_module": "@jupyter-widgets/base",
            "top": null,
            "grid_column": null,
            "overflow_y": null,
            "overflow_x": null,
            "grid_auto_flow": null,
            "grid_area": null,
            "grid_template_columns": null,
            "flex": null,
            "_model_name": "LayoutModel",
            "justify_items": null,
            "grid_row": null,
            "max_height": null,
            "align_content": null,
            "visibility": null,
            "align_self": null,
            "height": null,
            "min_height": null,
            "padding": null,
            "grid_auto_rows": null,
            "grid_gap": null,
            "max_width": null,
            "order": null,
            "_view_module_version": "1.2.0",
            "grid_template_areas": null,
            "object_position": null,
            "object_fit": null,
            "grid_auto_columns": null,
            "margin": null,
            "display": null,
            "left": null
          }
        },
        "a8cd03a11ba04e2291a05e03bbb37671": {
          "model_module": "@jupyter-widgets/controls",
          "model_name": "DescriptionStyleModel",
          "state": {
            "_view_name": "StyleView",
            "_model_name": "DescriptionStyleModel",
            "description_width": "",
            "_view_module": "@jupyter-widgets/base",
            "_model_module_version": "1.5.0",
            "_view_count": null,
            "_view_module_version": "1.2.0",
            "_model_module": "@jupyter-widgets/controls"
          }
        },
        "7cc56ae621e34d9d8892777fcec033ee": {
          "model_module": "@jupyter-widgets/base",
          "model_name": "LayoutModel",
          "state": {
            "_view_name": "LayoutView",
            "grid_template_rows": null,
            "right": null,
            "justify_content": null,
            "_view_module": "@jupyter-widgets/base",
            "overflow": null,
            "_model_module_version": "1.2.0",
            "_view_count": null,
            "flex_flow": null,
            "width": null,
            "min_width": null,
            "border": null,
            "align_items": null,
            "bottom": null,
            "_model_module": "@jupyter-widgets/base",
            "top": null,
            "grid_column": null,
            "overflow_y": null,
            "overflow_x": null,
            "grid_auto_flow": null,
            "grid_area": null,
            "grid_template_columns": null,
            "flex": null,
            "_model_name": "LayoutModel",
            "justify_items": null,
            "grid_row": null,
            "max_height": null,
            "align_content": null,
            "visibility": null,
            "align_self": null,
            "height": null,
            "min_height": null,
            "padding": null,
            "grid_auto_rows": null,
            "grid_gap": null,
            "max_width": null,
            "order": null,
            "_view_module_version": "1.2.0",
            "grid_template_areas": null,
            "object_position": null,
            "object_fit": null,
            "grid_auto_columns": null,
            "margin": null,
            "display": null,
            "left": null
          }
        }
      }
    }
  },
  "cells": [
    {
      "cell_type": "markdown",
      "metadata": {
        "id": "q7xRHm9m-JuB"
      },
      "source": [
        "# Dataset Pre-Processing\n"
      ]
    },
    {
      "cell_type": "markdown",
      "metadata": {
        "id": "U--UXFly4RXq"
      },
      "source": [
        "First, download the dataset from kaggle and then load it into a pandas.DataFrame, then standardize its columns using MinStdScaler and finally define the CVI (ControVersiality Index) and HCC (Highly Controversial Comment) columns. "
      ]
    },
    {
      "cell_type": "markdown",
      "metadata": {
        "id": "_qqUzFPy4yvo"
      },
      "source": [
        "## Load "
      ]
    },
    {
      "cell_type": "code",
      "metadata": {
        "id": "09CBxXJawVIV",
        "colab": {
          "resources": {
            "http://localhost:8080/nbextensions/google.colab/files.js": {
              "data": "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",
              "ok": true,
              "headers": [
                [
                  "content-type",
                  "application/javascript"
                ]
              ],
              "status": 200,
              "status_text": ""
            }
          },
          "base_uri": "https://localhost:8080/",
          "height": 0
        },
        "outputId": "8a544be4-18ed-40e8-b39c-f791675de428"
      },
      "source": [
        "import os\n",
        "from google.colab import files\n",
        "\n",
        "if 'kaggle.json' not in os.listdir():\n",
        "  files.upload()\n",
        "\n",
        "  !mkdir ~/.kaggle\n",
        "  !cp kaggle.json ~/.kaggle/\n",
        "  !chmod 600 ~/.kaggle/kaggle.json"
      ],
      "execution_count": 1,
      "outputs": [
        {
          "output_type": "display_data",
          "data": {
            "text/html": [
              "\n",
              "     <input type=\"file\" id=\"files-da7b26c3-ba71-4197-9f9a-d88a1398aeda\" name=\"files[]\" multiple disabled\n",
              "        style=\"border:none\" />\n",
              "     <output id=\"result-da7b26c3-ba71-4197-9f9a-d88a1398aeda\">\n",
              "      Upload widget is only available when the cell has been executed in the\n",
              "      current browser session. Please rerun this cell to enable.\n",
              "      </output>\n",
              "      <script src=\"/nbextensions/google.colab/files.js\"></script> "
            ],
            "text/plain": [
              "<IPython.core.display.HTML object>"
            ]
          },
          "metadata": {
            "tags": []
          }
        },
        {
          "output_type": "stream",
          "text": [
            "Saving kaggle.json to kaggle.json\n"
          ],
          "name": "stdout"
        }
      ]
    },
    {
      "cell_type": "code",
      "metadata": {
        "id": "jwQrONuAwccd"
      },
      "source": [
        "import kaggle\n",
        "import pandas as pd\n",
        "import zipfile\n",
        "\n",
        "from kaggle.api.kaggle_api_extended import KaggleApi\n",
        "\n",
        "api = KaggleApi()\n",
        "api.authenticate()\n",
        "\n",
        "class DatasetLoader():\n",
        "\n",
        "  def __init__(self, month, year):\n",
        "    self.api = api\n",
        "    self.year = year\n",
        "    self.month = month\n",
        "\n",
        "  def download_dataset(self):\n",
        "    self.api.dataset_download_file(\"aashita/nyt-comments\", \n",
        "                                   file_name=f\"Articles{self.month}{self.year}.csv\", \n",
        "                                   path=\"./\")\n",
        "    self.api.dataset_download_file(\"aashita/nyt-comments\", \n",
        "                                   file_name=f\"Comments{self.month}{self.year}.csv\", \n",
        "                                   path=\"./\")\n",
        "\n",
        "    with zipfile.ZipFile(f'Comments{self.month}{self.year}.csv.zip', 'r') as zipref:\n",
        "      zipref.extractall('./')\n",
        "\n",
        "  def _df(self, keepme=['default']):\n",
        "    if keepme == ['default']:\n",
        "      keepme = ['articleID', 'commentBody', 'snippet', 'keywords', \\\n",
        "                'recommendations', 'replyCount', 'editorsSelection', 'newDesk']\n",
        "\n",
        "    articles = pd.read_csv(f'Articles{self.month}{self.year}.csv')\n",
        "    comments = pd.read_csv(f'Comments{self.month}{self.year}.csv')\n",
        "\n",
        "    df = comments.join(articles.set_index('articleID'), \n",
        "                       on='articleID', lsuffix='_') \\\n",
        "                 .set_index('commentID') \n",
        "\n",
        "    df = df[keepme][df.replyCount >= 0]\n",
        "    df.editorsSelection = df.editorsSelection.astype(int)\n",
        "    df.index = df.index.astype(int)\n",
        "\n",
        "    return df"
      ],
      "execution_count": 2,
      "outputs": []
    },
    {
      "cell_type": "code",
      "metadata": {
        "colab": {
          "base_uri": "https://localhost:8080/"
        },
        "id": "olpuTsC2nIBn",
        "outputId": "8211850e-921f-428c-ffed-6fa187e668fe"
      },
      "source": [
        "DL = DatasetLoader('April', 2017)\n",
        "DL.download_dataset()\n",
        "dfCom = DL._df()"
      ],
      "execution_count": 3,
      "outputs": [
        {
          "output_type": "stream",
          "text": [
            "/usr/local/lib/python3.7/dist-packages/IPython/core/interactiveshell.py:2822: DtypeWarning: Columns (25,26) have mixed types.Specify dtype option on import or set low_memory=False.\n",
            "  if self.run_code(code, result):\n"
          ],
          "name": "stderr"
        }
      ]
    },
    {
      "cell_type": "markdown",
      "metadata": {
        "id": "YbFWUlLFUNMx"
      },
      "source": [
        "Already a possible expansion would be to learn the atagory using hte information about a comment"
      ]
    },
    {
      "cell_type": "markdown",
      "metadata": {
        "id": "_Zr2UL-Y-GCI"
      },
      "source": [
        "## Define CVI, HCC"
      ]
    },
    {
      "cell_type": "markdown",
      "metadata": {
        "id": "LeWDpn29A9Rg"
      },
      "source": [
        "I want ot identify controversial comments, that are comment which had lots of replies and of recommendations. To do so, I stadardized the `replyCount` and `recommendations` to be scaled in standard deviations from their minimum (that is 0 for both), then computed the harmonic average of the two to get the `CVI`(ControVersiality Index) of the comment. \\\\\n",
        "Note that in this phase I will not use `editorsSelection` as i wanted to focus on user-user interaction. "
      ]
    },
    {
      "cell_type": "code",
      "metadata": {
        "id": "8SGyIXZJBYiZ"
      },
      "source": [
        "import numpy as np\n",
        "\n",
        "from numpy import vectorize\n",
        "from sklearn.base import BaseEstimator\n",
        "from sklearn.preprocessing import StandardScaler\n",
        "from numba import jit, njit\n",
        "\n",
        "\n",
        "class MinStdScaler(BaseEstimator):\n",
        "\n",
        "  def __init__(self):\n",
        "    super().__init__()\n",
        "\n",
        "  @jit(forceobj=True)\n",
        "  def fit_transform(self, v : np.ndarray):\n",
        "    return (v - v.min()) / v.std()\n",
        "\n",
        "@vectorize\n",
        "@njit\n",
        "def hmean(x, y):\n",
        "  return 2/(1/x + 1/y) if x*y > 0 else 0\n",
        "\n",
        "def CVI(df):\n",
        "  try:\n",
        "    df.CVI    \n",
        "    return df\n",
        "  except AttributeError:\n",
        "    pass\n",
        "\n",
        "  scaler = MinStdScaler()\n",
        "  temp = df.copy()\n",
        "  temp.replyCount = scaler.fit_transform(temp.replyCount.values.reshape(-1, 1))\n",
        "  temp.recommendations = scaler.fit_transform(temp.recommendations.values \\\n",
        "                                                                  .reshape(-1, 1))\n",
        "  temp['CVI'] = hmean(temp.replyCount, temp.recommendations)\n",
        "\n",
        "  return temp"
      ],
      "execution_count": 4,
      "outputs": []
    },
    {
      "cell_type": "code",
      "metadata": {
        "id": "VZxuegEiDFTz"
      },
      "source": [
        "dfCom = CVI(dfCom)"
      ],
      "execution_count": 5,
      "outputs": []
    },
    {
      "cell_type": "code",
      "metadata": {
        "colab": {
          "base_uri": "https://localhost:8080/"
        },
        "id": "a9I5sOnHL7wS",
        "outputId": "66351c4f-8adf-49ea-acef-a54c1d465165"
      },
      "source": [
        "dfCom.info()"
      ],
      "execution_count": 6,
      "outputs": [
        {
          "output_type": "stream",
          "text": [
            "<class 'pandas.core.frame.DataFrame'>\n",
            "Int64Index: 243830 entries, 22022598 to 22252040\n",
            "Data columns (total 9 columns):\n",
            " #   Column            Non-Null Count   Dtype  \n",
            "---  ------            --------------   -----  \n",
            " 0   articleID         243830 non-null  object \n",
            " 1   commentBody       243830 non-null  object \n",
            " 2   snippet           243830 non-null  object \n",
            " 3   keywords          243830 non-null  object \n",
            " 4   recommendations   243830 non-null  float64\n",
            " 5   replyCount        243830 non-null  float64\n",
            " 6   editorsSelection  243830 non-null  int64  \n",
            " 7   newDesk           243830 non-null  object \n",
            " 8   CVI               243830 non-null  float64\n",
            "dtypes: float64(3), int64(1), object(5)\n",
            "memory usage: 18.6+ MB\n"
          ],
          "name": "stdout"
        }
      ]
    },
    {
      "cell_type": "markdown",
      "metadata": {
        "id": "mOuWnrt4MVxk"
      },
      "source": [
        "Now that there is a measure for controversiality, what makes a comment a controversial one?\n",
        "My first idea was to use outliers, but `CVI` has far too many zeros for it to be effective. "
      ]
    },
    {
      "cell_type": "code",
      "metadata": {
        "colab": {
          "base_uri": "https://localhost:8080/",
          "height": 283
        },
        "id": "o14UHlfEsGSm",
        "outputId": "0b6f4b14-dca8-4591-85e2-9dfbba41bddc"
      },
      "source": [
        "import matplotlib.pyplot as plt\n",
        "\n",
        "print(f'CVI is not zero for {len(dfCom.CVI[dfCom.CVI > 0])} out of \\\n",
        "        {len(dfCom.CVI)} occurrences')\n",
        "\n",
        "plt.boxplot(dfCom.CVI)\n",
        "plt.show()"
      ],
      "execution_count": 7,
      "outputs": [
        {
          "output_type": "stream",
          "text": [
            "CVI is not zero for 39769 out of         243830 occurrences\n"
          ],
          "name": "stdout"
        },
        {
          "output_type": "display_data",
          "data": {
            "image/png": "[encoded data removed]",
            "text/plain": [
              "<Figure size 432x288 with 1 Axes>"
            ]
          },
          "metadata": {
            "tags": [],
            "needs_background": "light"
          }
        }
      ]
    },
    {
      "cell_type": "markdown",
      "metadata": {
        "id": "BB95WpGXW186"
      },
      "source": [
        "So eventually I settled for considering an HCC any comment with a CVI above the 99th percentile. "
      ]
    },
    {
      "cell_type": "code",
      "metadata": {
        "id": "UjoPBWCn4On4"
      },
      "source": [
        "def HCC(df, top_prc=1):\n",
        "  temp = CVI(df.copy())\n",
        "  cutoff = np.percentile(temp.CVI, 100-top_prc) \n",
        "  temp['HCC'] = (temp.CVI >= cutoff).astype(int)\n",
        "\n",
        "  return temp"
      ],
      "execution_count": 8,
      "outputs": []
    },
    {
      "cell_type": "code",
      "metadata": {
        "id": "AV9go9oPtDRH"
      },
      "source": [
        "dfCom = HCC(dfCom)"
      ],
      "execution_count": 9,
      "outputs": []
    },
    {
      "cell_type": "code",
      "metadata": {
        "colab": {
          "base_uri": "https://localhost:8080/"
        },
        "id": "tjXM_gJWgA06",
        "outputId": "cdfb72a0-a7c5-45a9-d15f-b26198b55be2"
      },
      "source": [
        "dfCom.info()"
      ],
      "execution_count": 10,
      "outputs": [
        {
          "output_type": "stream",
          "text": [
            "<class 'pandas.core.frame.DataFrame'>\n",
            "Int64Index: 243830 entries, 22022598 to 22252040\n",
            "Data columns (total 10 columns):\n",
            " #   Column            Non-Null Count   Dtype  \n",
            "---  ------            --------------   -----  \n",
            " 0   articleID         243830 non-null  object \n",
            " 1   commentBody       243830 non-null  object \n",
            " 2   snippet           243830 non-null  object \n",
            " 3   keywords          243830 non-null  object \n",
            " 4   recommendations   243830 non-null  float64\n",
            " 5   replyCount        243830 non-null  float64\n",
            " 6   editorsSelection  243830 non-null  int64  \n",
            " 7   newDesk           243830 non-null  object \n",
            " 8   CVI               243830 non-null  float64\n",
            " 9   HCC               243830 non-null  int64  \n",
            "dtypes: float64(3), int64(2), object(5)\n",
            "memory usage: 20.5+ MB\n"
          ],
          "name": "stdout"
        }
      ]
    },
    {
      "cell_type": "markdown",
      "metadata": {
        "id": "0w9WtNr2vada"
      },
      "source": [
        "# Features of HCCs"
      ]
    },
    {
      "cell_type": "markdown",
      "metadata": {
        "id": "H-SWzLyvviWk"
      },
      "source": [
        "Now that HCCs have been identified, what are their features?"
      ]
    },
    {
      "cell_type": "markdown",
      "metadata": {
        "id": "-SUH_T5D5iLx"
      },
      "source": [
        "## Vocabulary"
      ]
    },
    {
      "cell_type": "code",
      "metadata": {
        "id": "4TZxnwmbvh21"
      },
      "source": [
        "%%capture\n",
        "import nltk\n",
        "nltk.download('wordnet')\n",
        "nltk.download('stopwords')"
      ],
      "execution_count": 11,
      "outputs": []
    },
    {
      "cell_type": "code",
      "metadata": {
        "id": "7tPBnVqNvreG"
      },
      "source": [
        "import spacy\n",
        "import re\n",
        "import string\n",
        "\n",
        "from io import StringIO\n",
        "from nltk.tokenize import ToktokTokenizer\n",
        "from html.parser import HTMLParser\n",
        "from nltk.stem.wordnet import WordNetLemmatizer\n",
        "\n",
        "# https://stackoverflow.com/questions/753052/strip-html-from-strings-in-python \n",
        "class MLStripper(HTMLParser):\n",
        "\n",
        "  def __init__(self):\n",
        "    super().__init__()\n",
        "    self.reset()\n",
        "    self.strict = False\n",
        "    self.convert_charrefs= True\n",
        "    self.text = StringIO()\n",
        "\n",
        "  def handle_data(self, d):\n",
        "    self.text.write(d)\n",
        "\n",
        "  def get_data(self):\n",
        "    return self.text.getvalue()\n",
        "\n",
        "def strip_tags(html):\n",
        "  s = MLStripper()\n",
        "  s.feed(html)\n",
        "  return s.get_data()\n",
        "\n",
        "class NaiveTokenizer(object):\n",
        "\n",
        "  def __init__(self):\n",
        "    pass\n",
        "\n",
        "  def tokenize(self, text, remove_stopwords=False):\n",
        "    if not remove_stopwords: \n",
        "      return re.sub(f'[^a-zA-Z]', ' ', text.lower()).split() \n",
        "    else:\n",
        "      return [x for x in re.sub('[^a-zA-Z]', ' ', text.lower())\n",
        "                           .split()\n",
        "                if x not in stopwords.words('english')]\n",
        "\n",
        "class TextProcessor(BaseEstimator):\n",
        "\n",
        "  def __init__(self, how='lem', remove_html_tags=False):\n",
        "\n",
        "    try:\n",
        "      assert how in {'tok', 'lem'}\n",
        "    except:\n",
        "      print(\"Set 'how' to 'tok' to tokenize, to 'lem' to lemmatize\")\n",
        "      return \n",
        "    \n",
        "    super().__init__()\n",
        "    self.lemmatizer = WordNetLemmatizer()\n",
        "    self.html_parser = MLStripper()\n",
        "    self.tokenizer = NaiveTokenizer()\n",
        "    self.how = how\n",
        "    self.remove_html_tags = remove_html_tags\n",
        "\n",
        "  def fit(self, text):\n",
        "    self.text = text\n",
        "\n",
        "  def detect_html(self):\n",
        "    return True if re.search(r'<.{0,20}>', self.text) else False\n",
        "    \n",
        "  def strip_html_tags(self):\n",
        "    self.html_parser.feed(self.text)\n",
        "    self.text = self.html_parser.get_data()\n",
        "\n",
        "  def tokenize(self):\n",
        "    self.tokens = [x for x in self.tokenizer.tokenize(self.text) \\\n",
        "                   if len(x) > 1]\n",
        "    return self.tokens\n",
        "\n",
        "  def lemmatize(self):\n",
        "    self.lemmas = [self.lemmatizer.lemmatize(w) for w in self.tokens]\n",
        "    return self.lemmas\n",
        "\n",
        "  def fit_transform(self, text):\n",
        "    \n",
        "    self.fit(text)\n",
        "    if self.remove_html_tags and self.detect_html():\n",
        "        self.strip_html_tags()\n",
        "\n",
        "    self.tokenize()\n",
        "\n",
        "    if self.how == 'tok': \n",
        "      return self.tokens\n",
        "\n",
        "    if self.how == 'lem':\n",
        "      self.lemmatize()\n",
        "      return self.lemmas"
      ],
      "execution_count": 12,
      "outputs": []
    },
    {
      "cell_type": "code",
      "metadata": {
        "id": "6P4zwKAc73or",
        "colab": {
          "base_uri": "https://localhost:8080/"
        },
        "outputId": "74a3f9b2-a08a-4024-bb4a-4fc68bf5c749"
      },
      "source": [
        "dfTxt = dfCom[['commentBody', 'HCC']]\n",
        "\n",
        "tp = TextProcessor(how='lem', remove_html_tags=False)\n",
        "dfTxt.commentBody = dfTxt.commentBody.apply(lambda text: tp.fit_transform(text))"
      ],
      "execution_count": 13,
      "outputs": [
        {
          "output_type": "stream",
          "text": [
            "/usr/local/lib/python3.7/dist-packages/pandas/core/generic.py:5170: SettingWithCopyWarning: \n",
            "A value is trying to be set on a copy of a slice from a DataFrame.\n",
            "Try using .loc[row_indexer,col_indexer] = value instead\n",
            "\n",
            "See the caveats in the documentation: https://pandas.pydata.org/pandas-docs/stable/user_guide/indexing.html#returning-a-view-versus-a-copy\n",
            "  self[name] = value\n"
          ],
          "name": "stderr"
        }
      ]
    },
    {
      "cell_type": "code",
      "metadata": {
        "id": "Jb2VRLI6BQ9L",
        "colab": {
          "base_uri": "https://localhost:8080/"
        },
        "outputId": "28a5afa6-08d2-42cf-fe54-01b7d09e91a9"
      },
      "source": [
        "dfTxt.commentBody"
      ],
      "execution_count": 14,
      "outputs": [
        {
          "output_type": "execute_result",
          "data": {
            "text/plain": [
              "commentID\n",
              "22022598    [this, project, make, me, happy, to, be, year,...\n",
              "22017350    [stunning, photo, and, reportage, infuriating,...\n",
              "22017334    [brilliant, work, from, conception, to, execut...\n",
              "22015913    [nyt, reporter, should, provide, contributor, ...\n",
              "22015466    [could, only, have, been, done, in, print, stu...\n",
              "                                  ...                        \n",
              "22257227    [sorry, but, pudding, ha, nothing, to, do, wit...\n",
              "22257466    [while, it, would, be, quite, punny, to, spell...\n",
              "22259265       [see, above, comment, desert, is, the, proper]\n",
              "22250099    [john, rubinstein, had, two, brief, scene, wit...\n",
              "22252040    [ye, god, and, little, fish, stu, you, re, rig...\n",
              "Name: commentBody, Length: 243830, dtype: object"
            ]
          },
          "metadata": {
            "tags": []
          },
          "execution_count": 14
        }
      ]
    },
    {
      "cell_type": "code",
      "metadata": {
        "id": "aS9Z_9keBAh3"
      },
      "source": [
        "import string\n",
        "\n",
        "from collections import Counter\n",
        "from tqdm.notebook import tqdm\n",
        "from nltk.corpus import stopwords\n",
        "\n",
        "def vocabulary(tkCorpus, verbose=True):\n",
        "  if verbose:\n",
        "    print('Counting occurrences')\n",
        "    voc = Counter()\n",
        "    for document in tqdm(tkCorpus): \n",
        "      voc.update(document)\n",
        "  else:\n",
        "    voc = Counter()\n",
        "    for document in tkCorpus: \n",
        "      voc.update(document)\n",
        "\n",
        "  if verbose: \n",
        "    print('Rescaling the vocabularies')\n",
        "    \n",
        "  s = sum(voc.values(), 0.0)\n",
        "  for k, v in voc.items():\n",
        "    voc[k] = v/s\n",
        "  return voc\n",
        "\n",
        "def klDiv(x, y):\n",
        "  if x == 0:\n",
        "    return 0\n",
        "  elif y == 0:\n",
        "    return np.Inf\n",
        "  else:\n",
        "    return x*np.log(x/y)\n",
        "\n",
        "def klScores(voc1, voc2, filter=True):\n",
        "  custom = {'br'} \n",
        "  stop = set(stopwords.words('english')).union(set(string.punctuation)) \\\n",
        "                                        .union(custom) \\\n",
        "                                        if filter else set()\n",
        "\n",
        "  scores = Counter()\n",
        "  for k in tqdm(set((voc1&voc2).keys()).difference(stop)):\n",
        "    scores[k] = klDiv(voc1[k], voc2[k])\n",
        "  return scores"
      ],
      "execution_count": 15,
      "outputs": []
    },
    {
      "cell_type": "markdown",
      "metadata": {
        "id": "r__3sJtLZNY9"
      },
      "source": [
        "Let's see how the vocabulary of Non Controversial comments (NC) and that of HCCs differ, using Kullback-Leilber divergence. "
      ]
    },
    {
      "cell_type": "code",
      "metadata": {
        "colab": {
          "base_uri": "https://localhost:8080/",
          "height": 189,
          "referenced_widgets": [
            "5d236cf27ea443c1b6020496e84c0a85",
            "5a4aa1ef96a34e3badf710ca28ab7b62",
            "5fe7b5ccc2e44479996a844be49e856c",
            "e8c34b002868497e81115429e50e8821",
            "177f09ecd2d249cdb4557f7d25174ae4",
            "f473636c4beb4dec95a66de2284874e0",
            "024bc66e5a974888906329c8c59710c4",
            "e493a270c0304bed86c06803bdb806e4",
            "ae05c5dc0b624c9c8af4d118395756c0",
            "41a7b242933e43869ccb9039e796cd6d",
            "2eff9bb979fe4ef1bea55311b78cad5f",
            "c649f18564cf4d21945b66319a56e5b1",
            "0f3e5383acf748a98b029865d68ed6a3",
            "492431e7c7e745daaf4ac12324a70722",
            "40a7f67226c7419dae2aba40f10ab2e3",
            "8a90699c19af4229b91145445fe0cd62"
          ]
        },
        "id": "MtQn00jMlN6W",
        "outputId": "8a71ef22-5e02-4a8a-9f09-23289e973ccd"
      },
      "source": [
        "vocNC = vocabulary(dfTxt[dfTxt.HCC == 0].commentBody)\n",
        "vocHCC = vocabulary(dfTxt[dfTxt.HCC == 1].commentBody) "
      ],
      "execution_count": 16,
      "outputs": [
        {
          "output_type": "stream",
          "text": [
            "Counting occurrences\n"
          ],
          "name": "stdout"
        },
        {
          "output_type": "display_data",
          "data": {
            "application/vnd.jupyter.widget-view+json": {
              "model_id": "5d236cf27ea443c1b6020496e84c0a85",
              "version_minor": 0,
              "version_major": 2
            },
            "text/plain": [
              "HBox(children=(FloatProgress(value=0.0, max=241391.0), HTML(value='')))"
            ]
          },
          "metadata": {
            "tags": []
          }
        },
        {
          "output_type": "stream",
          "text": [
            "\n",
            "Rescaling the vocabularies\n",
            "Counting occurrences\n"
          ],
          "name": "stdout"
        },
        {
          "output_type": "display_data",
          "data": {
            "application/vnd.jupyter.widget-view+json": {
              "model_id": "ae05c5dc0b624c9c8af4d118395756c0",
              "version_minor": 0,
              "version_major": 2
            },
            "text/plain": [
              "HBox(children=(FloatProgress(value=0.0, max=2439.0), HTML(value='')))"
            ]
          },
          "metadata": {
            "tags": []
          }
        },
        {
          "output_type": "stream",
          "text": [
            "\n",
            "Rescaling the vocabularies\n"
          ],
          "name": "stdout"
        }
      ]
    },
    {
      "cell_type": "code",
      "metadata": {
        "id": "f_xtvyFt909l",
        "colab": {
          "base_uri": "https://localhost:8080/",
          "height": 247,
          "referenced_widgets": [
            "f42e893ec8a44f5b850e0082007804c8",
            "ac0d8b0f758c4498b23d18bf507aeb0d",
            "aba7bb27b5c841b88632f1f952e84c36",
            "c10eb28a239542439cf112546b063537",
            "528f2695574b408e98f1cd6994eb05f3",
            "f18b5366dd7a4fa580b1afef78970610",
            "7132a2c2f99b43b58955791c07500888",
            "02a42b5a3af54ee58ef92c5c9347d4b6"
          ]
        },
        "outputId": "630012b4-de5e-49cd-b912-1fd6f7edf95b"
      },
      "source": [
        "a = klScores(vocHCC, vocNC, filter=True).most_common(10)\n",
        "\n",
        "for (word, score) in a:\n",
        "  print(word, ':', f'{score:.05f}')"
      ],
      "execution_count": 17,
      "outputs": [
        {
          "output_type": "display_data",
          "data": {
            "application/vnd.jupyter.widget-view+json": {
              "model_id": "f42e893ec8a44f5b850e0082007804c8",
              "version_minor": 0,
              "version_major": 2
            },
            "text/plain": [
              "HBox(children=(FloatProgress(value=0.0, max=14737.0), HTML(value='')))"
            ]
          },
          "metadata": {
            "tags": []
          }
        },
        {
          "output_type": "stream",
          "text": [
            "\n",
            "trump : 0.00181\n",
            "president : 0.00089\n",
            "warn : 0.00077\n",
            "republican : 0.00065\n",
            "american : 0.00053\n",
            "tax : 0.00050\n",
            "donald : 0.00044\n",
            "voter : 0.00039\n",
            "country : 0.00033\n",
            "health : 0.00032\n"
          ],
          "name": "stdout"
        }
      ]
    },
    {
      "cell_type": "markdown",
      "metadata": {
        "id": "U8QPDINMWVmq"
      },
      "source": [
        "## Length"
      ]
    },
    {
      "cell_type": "markdown",
      "metadata": {
        "id": "EDhlk-yE5-sb"
      },
      "source": [
        "The histograms of comments length show a clear dissimilarity of the two distributions, controversial comments having a much thicker tail. "
      ]
    },
    {
      "cell_type": "code",
      "metadata": {
        "id": "E8iYACrsCMDX"
      },
      "source": [
        "lenHCC = dfTxt.commentBody[dfTxt.HCC == 1].apply(len)\n",
        "lenNC = dfTxt.commentBody[dfTxt.HCC == 0].apply(len)"
      ],
      "execution_count": 18,
      "outputs": []
    },
    {
      "cell_type": "code",
      "metadata": {
        "colab": {
          "base_uri": "https://localhost:8080/",
          "height": 355
        },
        "id": "hO0rgviCbaq1",
        "outputId": "72bafcdc-5dcc-4c14-949d-79097cb1a6c1"
      },
      "source": [
        "import matplotlib.pyplot as plt\n",
        "from scipy.stats import ttest_ind\n",
        "\n",
        "pval = ttest_ind(lenHCC, lenNC).pvalue\n",
        "\n",
        "fig, axes = plt.subplots(1, 2, figsize=(10,5))\n",
        "fig.suptitle(f'Distribution of lengths. The averages are different with probability {1-pval:.03f}')\n",
        "\n",
        "ax = axes[0]\n",
        "ax.set_title('Non controversial comments (NCs)')\n",
        "ax.hist(lenNC, color='g')\n",
        "\n",
        "ax = axes[1]\n",
        "ax.set_title('Controversial comments (HCCs)')\n",
        "ax.hist(lenHCC, color='r')\n",
        "\n",
        "plt.show()"
      ],
      "execution_count": 19,
      "outputs": [
        {
          "output_type": "display_data",
          "data": {
            "image/png": "[encoded data removed]",
            "text/plain": [
              "<Figure size 720x360 with 2 Axes>"
            ]
          },
          "metadata": {
            "tags": [],
            "needs_background": "light"
          }
        }
      ]
    },
    {
      "cell_type": "markdown",
      "metadata": {
        "id": "Pq3c1tz76Qni"
      },
      "source": [
        "Let's see if their averages are significantly different using a t-test for independent samples of similar variance "
      ]
    },
    {
      "cell_type": "markdown",
      "metadata": {
        "id": "CF0kD6cFdnTm"
      },
      "source": [
        "Therefore we can reject the null hypothesis that the two have equal average with confidence $1$ (for all intents and purposes)."
      ]
    },
    {
      "cell_type": "markdown",
      "metadata": {
        "id": "oJgwYUleeLER"
      },
      "source": [
        "# Topic Controversiality"
      ]
    },
    {
      "cell_type": "markdown",
      "metadata": {
        "id": "gFJz3MWC699_"
      },
      "source": [
        "## Keywords"
      ]
    },
    {
      "cell_type": "markdown",
      "metadata": {
        "id": "SGvhES9M7AkQ"
      },
      "source": [
        "I now analyze which keywords are associated to controversial articles. "
      ]
    },
    {
      "cell_type": "code",
      "metadata": {
        "id": "NBCjGkuHhTHY"
      },
      "source": [
        "def fix_keywords(text):\n",
        "  try:\n",
        "    a = re.split(r'\\'', text)\n",
        "  except TypeError:\n",
        "    return text\n",
        "  else: \n",
        "    return [x for x in a if len(x) > 2]\n",
        "\n",
        "dfCom.keywords = dfCom.keywords.apply(fix_keywords)"
      ],
      "execution_count": 20,
      "outputs": []
    },
    {
      "cell_type": "code",
      "metadata": {
        "id": "U9fL6ILAdrfJ"
      },
      "source": [
        "kwHCC = dfCom[dfCom.HCC == 1].keywords \n",
        "kwNC = dfCom[dfCom.HCC == 0].keywords"
      ],
      "execution_count": 21,
      "outputs": []
    },
    {
      "cell_type": "code",
      "metadata": {
        "colab": {
          "base_uri": "https://localhost:8080/",
          "height": 189,
          "referenced_widgets": [
            "8aadf8703cf0453097ebc3e8a0927719",
            "16c9ecbfb3b04005ada38c8bf8f2d1d8",
            "a8d5c85cc30a41a595557ad0bdf1a44b",
            "6d57abc4bb2341d29d6ea7b008909f2a",
            "5d419896bd9a47449b86fc861efed02c",
            "592a5ecec64e478b847248f0dbd3b284",
            "f4ba364987eb425db3894da47a8bf7eb",
            "bd952bffeaa949f3bf6dc2f2c70a47cd",
            "ed2ff26e1f9b49e68135c4d55a6d472b",
            "a45a21b1cd7249f4a1b1f4a017d353cf",
            "58e1cbb0b4214aada424d71e1792269c",
            "db73b7bad4f9443d8c1e59ec1afdceae",
            "003b78e3c98b41eea1d67a596c7cf666",
            "0c59922220a24a6ab5b0f4527d43c7b0",
            "45a7899920c74f158693e3c293729dd1",
            "ce4a56ad5d3a4f7a9e80d961ca5d9a92"
          ]
        },
        "id": "ZnjRR1mbelwc",
        "outputId": "6ff016d4-c120-49df-f2ad-875f7f3cc13b"
      },
      "source": [
        "kwHCCvoc = vocabulary(kwHCC)\n",
        "kwNCvoc = vocabulary(kwNC)"
      ],
      "execution_count": 22,
      "outputs": [
        {
          "output_type": "stream",
          "text": [
            "Counting occurrences\n"
          ],
          "name": "stdout"
        },
        {
          "output_type": "display_data",
          "data": {
            "application/vnd.jupyter.widget-view+json": {
              "model_id": "8aadf8703cf0453097ebc3e8a0927719",
              "version_minor": 0,
              "version_major": 2
            },
            "text/plain": [
              "HBox(children=(FloatProgress(value=0.0, max=2439.0), HTML(value='')))"
            ]
          },
          "metadata": {
            "tags": []
          }
        },
        {
          "output_type": "stream",
          "text": [
            "\n",
            "Rescaling the vocabularies\n",
            "Counting occurrences\n"
          ],
          "name": "stdout"
        },
        {
          "output_type": "display_data",
          "data": {
            "application/vnd.jupyter.widget-view+json": {
              "model_id": "ed2ff26e1f9b49e68135c4d55a6d472b",
              "version_minor": 0,
              "version_major": 2
            },
            "text/plain": [
              "HBox(children=(FloatProgress(value=0.0, max=241391.0), HTML(value='')))"
            ]
          },
          "metadata": {
            "tags": []
          }
        },
        {
          "output_type": "stream",
          "text": [
            "\n",
            "Rescaling the vocabularies\n"
          ],
          "name": "stdout"
        }
      ]
    },
    {
      "cell_type": "code",
      "metadata": {
        "colab": {
          "base_uri": "https://localhost:8080/",
          "height": 247,
          "referenced_widgets": [
            "d6ba9b7c75b44c8c940a20713c891425",
            "9a2094bbf86644b8830c5f8af8f50d28",
            "c0f43b1c55984455893658be13634d7b",
            "987b8290ad7f43a683dcce5d377892ce",
            "8dadc7ee631f472d95462522fb69eb4e",
            "1882668884bf4e5ab9b987d99de11394",
            "a89dbd17da5047bd85beea694353eec2",
            "2aedfb4a53a141ed867092e2cbb06f4e"
          ]
        },
        "id": "jxtAnD5IetNK",
        "outputId": "0208c159-e86b-4214-d33c-ea6b2aeaa300"
      },
      "source": [
        "klScores(kwHCCvoc, kwNCvoc).most_common(10)"
      ],
      "execution_count": 23,
      "outputs": [
        {
          "output_type": "display_data",
          "data": {
            "application/vnd.jupyter.widget-view+json": {
              "model_id": "d6ba9b7c75b44c8c940a20713c891425",
              "version_minor": 0,
              "version_major": 2
            },
            "text/plain": [
              "HBox(children=(FloatProgress(value=0.0, max=778.0), HTML(value='')))"
            ]
          },
          "metadata": {
            "tags": []
          }
        },
        {
          "output_type": "stream",
          "text": [
            "\n"
          ],
          "name": "stdout"
        },
        {
          "output_type": "execute_result",
          "data": {
            "text/plain": [
              "[('United States Politics and Government', 0.01918007322251519),\n",
              " ('Trump, Donald J', 0.014466798384419353),\n",
              " ('Republican Party', 0.005388818859841175),\n",
              " ('Presidential Election of 2016', 0.003898401551838436),\n",
              " ('Federal Taxes (US)', 0.0036492684454127273),\n",
              " ('Income Tax', 0.0035552505623707023),\n",
              " ('Patient Protection and Affordable Care Act (2010)', 0.0027466100037484248),\n",
              " ('Ryan, Paul D Jr', 0.0027218519071128726),\n",
              " ('Senate', 0.0026739166670726594),\n",
              " ('Priebus, Reince R', 0.0025883463634945284)]"
            ]
          },
          "metadata": {
            "tags": []
          },
          "execution_count": 23
        }
      ]
    },
    {
      "cell_type": "markdown",
      "metadata": {
        "id": "G-uRIM4I3xCR"
      },
      "source": [
        "## Divergence\n",
        "\n",
        "Based on the rationale that a topic is controversial if it is observed more often in HCCs than in NCs"
      ]
    },
    {
      "cell_type": "code",
      "metadata": {
        "id": "ec3lUF47lPzy"
      },
      "source": [
        "NCs_per_category = dfCom[dfCom.HCC == 0].groupby('newDesk').count().iloc[:,0]  \n",
        "NCs_per_category.name = 'NCs'\n",
        "HCCs_per_category = dfCom[dfCom.HCC == 1].groupby('newDesk').count().iloc[:,0]\n",
        "HCCs_per_category.name = 'HCCs'"
      ],
      "execution_count": 24,
      "outputs": []
    },
    {
      "cell_type": "code",
      "metadata": {
        "id": "XTrvAX5mn7fw"
      },
      "source": [
        "result = pd.DataFrame(NCs_per_category).join(HCCs_per_category).fillna(0)\n",
        "result.NCs = result.NCs / result.NCs.sum()\n",
        "result.HCCs = result.HCCs / result.HCCs.sum()\n",
        "result['divergence'] = result.apply(lambda row: klDiv(row['HCCs'], row['NCs']), axis=1)\n",
        "result.index.name = 'category'"
      ],
      "execution_count": 25,
      "outputs": []
    },
    {
      "cell_type": "code",
      "metadata": {
        "colab": {
          "base_uri": "https://localhost:8080/",
          "height": 873
        },
        "id": "iDv1zGbj48nh",
        "outputId": "b6a44f52-bf4d-4f4e-9370-f90331532378"
      },
      "source": [
        "result.sort_values('divergence', ascending=False)"
      ],
      "execution_count": 26,
      "outputs": [
        {
          "output_type": "execute_result",
          "data": {
            "text/html": [
              "<div>\n",
              "<style scoped>\n",
              "    .dataframe tbody tr th:only-of-type {\n",
              "        vertical-align: middle;\n",
              "    }\n",
              "\n",
              "    .dataframe tbody tr th {\n",
              "        vertical-align: top;\n",
              "    }\n",
              "\n",
              "    .dataframe thead th {\n",
              "        text-align: right;\n",
              "    }\n",
              "</style>\n",
              "<table border=\"1\" class=\"dataframe\">\n",
              "  <thead>\n",
              "    <tr style=\"text-align: right;\">\n",
              "      <th></th>\n",
              "      <th>NCs</th>\n",
              "      <th>HCCs</th>\n",
              "      <th>divergence</th>\n",
              "    </tr>\n",
              "    <tr>\n",
              "      <th>category</th>\n",
              "      <th></th>\n",
              "      <th></th>\n",
              "      <th></th>\n",
              "    </tr>\n",
              "  </thead>\n",
              "  <tbody>\n",
              "    <tr>\n",
              "      <th>OpEd</th>\n",
              "      <td>0.337776</td>\n",
              "      <td>0.403034</td>\n",
              "      <td>0.071192</td>\n",
              "    </tr>\n",
              "    <tr>\n",
              "      <th>National</th>\n",
              "      <td>0.152959</td>\n",
              "      <td>0.197212</td>\n",
              "      <td>0.050113</td>\n",
              "    </tr>\n",
              "    <tr>\n",
              "      <th>Editorial</th>\n",
              "      <td>0.100116</td>\n",
              "      <td>0.120951</td>\n",
              "      <td>0.022867</td>\n",
              "    </tr>\n",
              "    <tr>\n",
              "      <th>Metropolitan</th>\n",
              "      <td>0.001090</td>\n",
              "      <td>0.000000</td>\n",
              "      <td>0.000000</td>\n",
              "    </tr>\n",
              "    <tr>\n",
              "      <th>Letters</th>\n",
              "      <td>0.000133</td>\n",
              "      <td>0.000000</td>\n",
              "      <td>0.000000</td>\n",
              "    </tr>\n",
              "    <tr>\n",
              "      <th>Weekend</th>\n",
              "      <td>0.002005</td>\n",
              "      <td>0.000000</td>\n",
              "      <td>0.000000</td>\n",
              "    </tr>\n",
              "    <tr>\n",
              "      <th>Unknown</th>\n",
              "      <td>0.000737</td>\n",
              "      <td>0.000000</td>\n",
              "      <td>0.000000</td>\n",
              "    </tr>\n",
              "    <tr>\n",
              "      <th>Summary</th>\n",
              "      <td>0.000033</td>\n",
              "      <td>0.000000</td>\n",
              "      <td>0.000000</td>\n",
              "    </tr>\n",
              "    <tr>\n",
              "      <th>Games</th>\n",
              "      <td>0.008985</td>\n",
              "      <td>0.000000</td>\n",
              "      <td>0.000000</td>\n",
              "    </tr>\n",
              "    <tr>\n",
              "      <th>BookReview</th>\n",
              "      <td>0.000916</td>\n",
              "      <td>0.000000</td>\n",
              "      <td>0.000000</td>\n",
              "    </tr>\n",
              "    <tr>\n",
              "      <th>Learning</th>\n",
              "      <td>0.025187</td>\n",
              "      <td>0.000000</td>\n",
              "      <td>0.000000</td>\n",
              "    </tr>\n",
              "    <tr>\n",
              "      <th>Arts&amp;Leisure</th>\n",
              "      <td>0.001359</td>\n",
              "      <td>0.001230</td>\n",
              "      <td>-0.000122</td>\n",
              "    </tr>\n",
              "    <tr>\n",
              "      <th>Styles</th>\n",
              "      <td>0.001529</td>\n",
              "      <td>0.000820</td>\n",
              "      <td>-0.000511</td>\n",
              "    </tr>\n",
              "    <tr>\n",
              "      <th>Travel</th>\n",
              "      <td>0.004470</td>\n",
              "      <td>0.003690</td>\n",
              "      <td>-0.000708</td>\n",
              "    </tr>\n",
              "    <tr>\n",
              "      <th>Insider</th>\n",
              "      <td>0.002742</td>\n",
              "      <td>0.000820</td>\n",
              "      <td>-0.000990</td>\n",
              "    </tr>\n",
              "    <tr>\n",
              "      <th>RealEstate</th>\n",
              "      <td>0.003240</td>\n",
              "      <td>0.000820</td>\n",
              "      <td>-0.001127</td>\n",
              "    </tr>\n",
              "    <tr>\n",
              "      <th>SundayBusiness</th>\n",
              "      <td>0.006608</td>\n",
              "      <td>0.004920</td>\n",
              "      <td>-0.001451</td>\n",
              "    </tr>\n",
              "    <tr>\n",
              "      <th>EdLife</th>\n",
              "      <td>0.004888</td>\n",
              "      <td>0.002050</td>\n",
              "      <td>-0.001781</td>\n",
              "    </tr>\n",
              "    <tr>\n",
              "      <th>Business</th>\n",
              "      <td>0.084506</td>\n",
              "      <td>0.082411</td>\n",
              "      <td>-0.002069</td>\n",
              "    </tr>\n",
              "    <tr>\n",
              "      <th>Foreign</th>\n",
              "      <td>0.125796</td>\n",
              "      <td>0.123001</td>\n",
              "      <td>-0.002763</td>\n",
              "    </tr>\n",
              "    <tr>\n",
              "      <th>Sports</th>\n",
              "      <td>0.010311</td>\n",
              "      <td>0.002460</td>\n",
              "      <td>-0.003525</td>\n",
              "    </tr>\n",
              "    <tr>\n",
              "      <th>Well</th>\n",
              "      <td>0.011566</td>\n",
              "      <td>0.006970</td>\n",
              "      <td>-0.003530</td>\n",
              "    </tr>\n",
              "    <tr>\n",
              "      <th>Dining</th>\n",
              "      <td>0.010576</td>\n",
              "      <td>0.002870</td>\n",
              "      <td>-0.003743</td>\n",
              "    </tr>\n",
              "    <tr>\n",
              "      <th>Science</th>\n",
              "      <td>0.013455</td>\n",
              "      <td>0.008200</td>\n",
              "      <td>-0.004061</td>\n",
              "    </tr>\n",
              "    <tr>\n",
              "      <th>Metro</th>\n",
              "      <td>0.018982</td>\n",
              "      <td>0.012710</td>\n",
              "      <td>-0.005098</td>\n",
              "    </tr>\n",
              "    <tr>\n",
              "      <th>Culture</th>\n",
              "      <td>0.020249</td>\n",
              "      <td>0.002870</td>\n",
              "      <td>-0.005607</td>\n",
              "    </tr>\n",
              "    <tr>\n",
              "      <th>Magazine</th>\n",
              "      <td>0.024931</td>\n",
              "      <td>0.012710</td>\n",
              "      <td>-0.008563</td>\n",
              "    </tr>\n",
              "    <tr>\n",
              "      <th>Upshot</th>\n",
              "      <td>0.024856</td>\n",
              "      <td>0.010250</td>\n",
              "      <td>-0.009080</td>\n",
              "    </tr>\n",
              "  </tbody>\n",
              "</table>\n",
              "</div>"
            ],
            "text/plain": [
              "                     NCs      HCCs  divergence\n",
              "category                                      \n",
              "OpEd            0.337776  0.403034    0.071192\n",
              "National        0.152959  0.197212    0.050113\n",
              "Editorial       0.100116  0.120951    0.022867\n",
              "Metropolitan    0.001090  0.000000    0.000000\n",
              "Letters         0.000133  0.000000    0.000000\n",
              "Weekend         0.002005  0.000000    0.000000\n",
              "Unknown         0.000737  0.000000    0.000000\n",
              "Summary         0.000033  0.000000    0.000000\n",
              "Games           0.008985  0.000000    0.000000\n",
              "BookReview      0.000916  0.000000    0.000000\n",
              "Learning        0.025187  0.000000    0.000000\n",
              "Arts&Leisure    0.001359  0.001230   -0.000122\n",
              "Styles          0.001529  0.000820   -0.000511\n",
              "Travel          0.004470  0.003690   -0.000708\n",
              "Insider         0.002742  0.000820   -0.000990\n",
              "RealEstate      0.003240  0.000820   -0.001127\n",
              "SundayBusiness  0.006608  0.004920   -0.001451\n",
              "EdLife          0.004888  0.002050   -0.001781\n",
              "Business        0.084506  0.082411   -0.002069\n",
              "Foreign         0.125796  0.123001   -0.002763\n",
              "Sports          0.010311  0.002460   -0.003525\n",
              "Well            0.011566  0.006970   -0.003530\n",
              "Dining          0.010576  0.002870   -0.003743\n",
              "Science         0.013455  0.008200   -0.004061\n",
              "Metro           0.018982  0.012710   -0.005098\n",
              "Culture         0.020249  0.002870   -0.005607\n",
              "Magazine        0.024931  0.012710   -0.008563\n",
              "Upshot          0.024856  0.010250   -0.009080"
            ]
          },
          "metadata": {
            "tags": []
          },
          "execution_count": 26
        }
      ]
    },
    {
      "cell_type": "markdown",
      "metadata": {
        "id": "I3EWs0HOqAAh"
      },
      "source": [
        "## Bayes"
      ]
    },
    {
      "cell_type": "markdown",
      "metadata": {
        "id": "-7mOBipo776H"
      },
      "source": [
        "Based on the idea of calculating, given a category $C$,  $\\mathbb P(HCC=1|cat=C)$. \\\\\n",
        "Indeed, from Bayes Theorem: \n",
        "$\\mathbb P(HCC=1 | cat = C) =$ $\\mathbb P(cat = C | HCC = 1) \\cdot \\mathbb P(HCC = 1) \\cdot \\frac 1 {\\mathbb P(cat = C)}$"
      ]
    },
    {
      "cell_type": "code",
      "metadata": {
        "id": "sjGHHi-9HL38"
      },
      "source": [
        "P_cat_HCC = dfCom[dfCom.HCC == 1].groupby('newDesk').count().iloc[:,0]\n",
        "P_cat_HCC /= P_cat_HCC.sum()\n",
        "P_cat_HCC.name = 'occurrences'\n",
        "P_cat_HCC.index.name = 'category'\n",
        "\n",
        "P_HCC = len(dfCom[dfCom.HCC == 1].index) / len(dfCom.index) \n",
        "\n",
        "P_cat = dfCom.groupby('newDesk').count().iloc[:,0]\n",
        "P_cat /= P_cat.sum()\n",
        "P_cat.name = 'occurrences'\n",
        "P_cat.index.name = 'category'"
      ],
      "execution_count": 27,
      "outputs": []
    },
    {
      "cell_type": "code",
      "metadata": {
        "colab": {
          "base_uri": "https://localhost:8080/"
        },
        "id": "vEvkAW_BqIpo",
        "outputId": "377c9031-42ef-434a-ded4-cf243230094e"
      },
      "source": [
        "categories = dfCom.newDesk.unique()\n",
        "\n",
        "P_HCC_cat = pd.Series(dtype='float64')\n",
        "for cat in categories:\n",
        "  P_HCC_cat[cat] = P_cat_HCC.get(cat, default=0) * P_HCC / P_cat[cat]\n",
        "\n",
        "P_HCC_cat.sort_values(ascending=False)"
      ],
      "execution_count": 28,
      "outputs": [
        {
          "output_type": "execute_result",
          "data": {
            "text/plain": [
              "National          0.012860\n",
              "Editorial         0.012060\n",
              "OpEd              0.011912\n",
              "Foreign           0.009783\n",
              "Business          0.009757\n",
              "Arts&Leisure      0.009063\n",
              "Travel            0.008272\n",
              "SundayBusiness    0.007467\n",
              "Metro             0.006720\n",
              "Science           0.006120\n",
              "Well              0.006052\n",
              "Styles            0.005391\n",
              "Magazine          0.005125\n",
              "EdLife            0.004219\n",
              "Upshot            0.004149\n",
              "Insider           0.003012\n",
              "Dining            0.002734\n",
              "RealEstate        0.002551\n",
              "Sports            0.002405\n",
              "Culture           0.001430\n",
              "Learning          0.000000\n",
              "Unknown           0.000000\n",
              "BookReview        0.000000\n",
              "Letters           0.000000\n",
              "Games             0.000000\n",
              "Metropolitan      0.000000\n",
              "Weekend           0.000000\n",
              "Summary           0.000000\n",
              "dtype: float64"
            ]
          },
          "metadata": {
            "tags": []
          },
          "execution_count": 28
        }
      ]
    },
    {
      "cell_type": "markdown",
      "metadata": {
        "id": "ekrhcho59P1g"
      },
      "source": [
        "## CVI\n",
        "\n",
        "Each topic is assigned the average CVI of its comments as a score. "
      ]
    },
    {
      "cell_type": "code",
      "metadata": {
        "colab": {
          "base_uri": "https://localhost:8080/"
        },
        "id": "qtvjt-MeBnhQ",
        "outputId": "0a4b78f5-6533-46ed-9dd7-e45e01c031f1"
      },
      "source": [
        "dfCom.groupby('newDesk').CVI.mean().sort_values(ascending=False)"
      ],
      "execution_count": 29,
      "outputs": [
        {
          "output_type": "execute_result",
          "data": {
            "text/plain": [
              "newDesk\n",
              "Styles            0.137260\n",
              "Business          0.110939\n",
              "National          0.110884\n",
              "Science           0.101440\n",
              "Travel            0.101380\n",
              "RealEstate        0.099566\n",
              "Editorial         0.097227\n",
              "OpEd              0.095070\n",
              "SundayBusiness    0.092622\n",
              "Foreign           0.091790\n",
              "EdLife            0.087429\n",
              "Well              0.083723\n",
              "Upshot            0.081412\n",
              "Arts&Leisure      0.080478\n",
              "Metro             0.078904\n",
              "Magazine          0.077337\n",
              "Metropolitan      0.060499\n",
              "Culture           0.059646\n",
              "Dining            0.059348\n",
              "Insider           0.053808\n",
              "Weekend           0.043497\n",
              "Sports            0.040136\n",
              "Unknown           0.023045\n",
              "Letters           0.020369\n",
              "BookReview        0.017923\n",
              "Games             0.013326\n",
              "Learning          0.000160\n",
              "Summary           0.000000\n",
              "Name: CVI, dtype: float64"
            ]
          },
          "metadata": {
            "tags": []
          },
          "execution_count": 29
        }
      ]
    },
    {
      "cell_type": "markdown",
      "metadata": {
        "id": "iLThRNXAvYIY"
      },
      "source": [
        "# Predicting HCCs"
      ]
    },
    {
      "cell_type": "markdown",
      "metadata": {
        "id": "_8YP3nMW3fOV"
      },
      "source": [
        "Use a tree predictor to predict whether a comment will be an HCC, using only it text as feature. "
      ]
    },
    {
      "cell_type": "code",
      "metadata": {
        "colab": {
          "base_uri": "https://localhost:8080/"
        },
        "id": "l_-bBCi72XHk",
        "outputId": "97041951-d5e6-44b5-acee-2e9372d0d346"
      },
      "source": [
        "from collections import defaultdict\n",
        "\n",
        "pd.options.mode.chained_assignment = None  \n",
        "tqdm.pandas()\n",
        "\n",
        "def controversial_vocabulary(vocHCC, vocNC, prc=0.75, min_freq=0):\n",
        "\n",
        "  # score the vocabulary that appears more frequently in HCCs than in \n",
        "  # comments with the probability of having an HCC given the presence of the \n",
        "  # word\n",
        "  controversial_voc = pd.Series(klScores(vocHCC, vocNC, filter=True))\n",
        "  cutoff = np.percentile(controversial_voc, prc)\n",
        "  controversial_voc = controversial_voc[controversial_voc > cutoff]\n",
        "  controversial_voc.name = 'divergence'\n",
        "\n",
        "  V = set(controversial_voc.index)\n",
        "  tot_occ = defaultdict(lambda: 0)\n",
        "  HCC_occ = defaultdict(lambda: 0)\n",
        "\n",
        "  for row in tqdm(dfTxt.iterrows()):\n",
        "    for w in set(row[1].commentBody).intersection(V):\n",
        "      if row[1].HCC == 1:\n",
        "        HCC_occ[w] += 1\n",
        "      tot_occ[w] += 1\n",
        "\n",
        "  tot_occ = pd.Series(tot_occ)\n",
        "  tot_occ = tot_occ[tot_occ > min_freq]\n",
        "\n",
        "  HCC_occ = pd.Series(HCC_occ)\n",
        "  HCC_occ = HCC_occ[tot_occ > min_freq]\n",
        "\n",
        "  prob_HCC = HCC_occ / tot_occ\n",
        "\n",
        "  return controversial_voc, prob_HCC\n",
        "\n",
        "class PerformanceEvaluator(object):\n",
        "\n",
        "  def __init__(self, df, gold_std : str, prediction : str):\n",
        "    super().__init__()\n",
        "    self.df = df\n",
        "    self.gold = df[gold_std]\n",
        "    self.pred = df[prediction]\n",
        "\n",
        "    self.df['tp'] = self.df.apply(lambda row: row[gold_std] and \n",
        "                                              row[prediction], axis=1) \\\n",
        "                           .astype(bool)\n",
        "    self.df['fp'] = self.df.apply(lambda row: not row[gold_std] and \n",
        "                                              row[prediction], axis=1) \\\n",
        "                           .astype(bool)\n",
        "    self.df['tn'] = self.df.apply(lambda row: not row[gold_std] and \n",
        "                                              not row[prediction], axis=1) \\\n",
        "                           .astype(bool)\n",
        "    self.df['fn'] = self.df.apply(lambda row: row[gold_std] and \n",
        "                                              not row[prediction], axis=1) \\\n",
        "                           .astype(bool)\n",
        "\n",
        "    self.tp = len(self.df.tp[self.df.tp].index)\n",
        "    self.fp = len(self.df.fp[self.df.fp].index)\n",
        "    self.tn = len(self.df.tn[self.df.tn].index)\n",
        "    self.fn = len(self.df.fn[self.df.fn].index)   \n",
        "\n",
        "  def _precision(self):\n",
        "    try:\n",
        "      self.precision = self.tp / (self.tp + self.fp) \n",
        "    except ZeroDivisionError:\n",
        "      self.precision = 0\n",
        "    return self.precision\n",
        "\n",
        "  def _recall(self):\n",
        "    try:\n",
        "      self.recall = self.tp / (self.tp + self.fn)\n",
        "    except ZeroDivisionError:\n",
        "      self.recall = 0\n",
        "    return self.recall\n",
        "\n",
        "  def _f1score(self):\n",
        "    try:\n",
        "      self.f1score = 2 / (1/self.precision + 1/self.recall)\n",
        "    except ZeroDivisionError:\n",
        "      self.f1score = 0\n",
        "    return self.f1score\n",
        "\n",
        "  def _accuracy(self):\n",
        "    try:\n",
        "      self.accuracy = (self.tp + self.tn) / (self.tp + self.tn + self.fp + self.fn)\n",
        "    except ZeroDivisionError:\n",
        "      self.accuracy = 0\n",
        "    return self.accuracy\n",
        "\n",
        "  def evaluate(self):\n",
        "    return {\n",
        "        'precision' : self._precision(),\n",
        "        'recall' : self._recall(),\n",
        "        'f1score' : self._f1score(), \n",
        "        'accuracy' : self._accuracy()\n",
        "    }\n",
        "\n",
        "  def confusion(self):\n",
        "    return np.array([\n",
        "        (self.tp, self.fn),\n",
        "        (self.fp, self.tn)\n",
        "    ])\n",
        "\n",
        "def isiterable(obj):\n",
        "  try: \n",
        "    iter(obj)\n",
        "    return True\n",
        "  except TypeError:\n",
        "    return False\n"
      ],
      "execution_count": 30,
      "outputs": [
        {
          "output_type": "stream",
          "text": [
            "/usr/local/lib/python3.7/dist-packages/tqdm/std.py:658: FutureWarning: The Panel class is removed from pandas. Accessing it from the top-level namespace will also be removed in the next version\n",
            "  from pandas import Panel\n"
          ],
          "name": "stderr"
        }
      ]
    },
    {
      "cell_type": "markdown",
      "metadata": {
        "id": "LrgznWgO3kPE"
      },
      "source": [
        "## Tree predictor \n",
        "\n",
        "1. Find controversial vocabulary in training HCCs\n",
        "  - Tokenize with NaiveTokenizer\n",
        "  - Compare occurrences of words for HCCs and comments\n",
        "  - The words with significantly higher occurrences in HCCs are considered controversial\n",
        "2. Train a tree model\n",
        "  - Tokenize with NaiveTokenizer\n",
        "  - Vectorize with CountVectorizer\n",
        "  - Train a tree using 'HCC' as gold standard and commentBody as feature\n",
        "3. Evaluate the performance of the tree using accuracy\n",
        "\n",
        "\n"
      ]
    },
    {
      "cell_type": "code",
      "metadata": {
        "id": "G--kx_Oo-aOC"
      },
      "source": [
        "from sklearn.model_selection import StratifiedKFold\n",
        "from sklearn.feature_extraction.text import CountVectorizer\n",
        "from sklearn.tree import DecisionTreeClassifier\n",
        "from sklearn.metrics import precision_score\n",
        "\n",
        "def estimate_accuracy(df, k=5):\n",
        "  \"\"\"\n",
        "  Requires a dataframe df with a column CommentBody with tokenized text\n",
        "  \"\"\"\n",
        "\n",
        "  # k-fld splitting preserving percentage of HCCs \n",
        "  skf = StratifiedKFold(n_splits=k)\n",
        "\n",
        "  splits = []\n",
        "  trees = []\n",
        "  scores = []\n",
        "  i = 0\n",
        "  for train_idx, test_idx in skf.split(df.commentBody, df.HCC):\n",
        "    print(f'\\n---- Fold {i}')\n",
        "    # Build the training and test sets\n",
        "    X_train = df.commentBody.iloc[train_idx]\n",
        "    X_test = df.commentBody.iloc[test_idx]\n",
        "    y_train = df.HCC.iloc[train_idx]\n",
        "    y_test = df.HCC.iloc[test_idx]\n",
        "\n",
        "    # Find the vocabulary on the training set\n",
        "    print('Building vocabulary')\n",
        "    vocHCC = vocabulary(X_train[y_train == 1], verbose=False) \n",
        "    vocNC = vocabulary(X_train[y_train == 0], verbose=False)\n",
        "    \n",
        "    # Find the controversial vocabulary\n",
        "    print('Finding controversial words')\n",
        "    cVoc, prob_HCC = controversial_vocabulary(vocHCC, vocNC, prc=0.75, min_freq=0)\n",
        "    V_train = set(cVoc.index)\n",
        "            \n",
        "    # Vectorize\n",
        "    # the tokenization is equivalent to that of NaiveTokenizer, \n",
        "    # as it deals with unigrams\n",
        "    print('Vectorizing')\n",
        "    cv = CountVectorizer(vocabulary=V_train)\n",
        "    X_train2 = cv.fit_transform(X_train.apply(lambda ls: ' '.join(ls)))\n",
        "    X_test2 = cv.fit_transform(X_test.apply(lambda ls: ' '.join(ls)))\n",
        "\n",
        "    # Train a treepredictor on controversial vocabulary\n",
        "    print('Fitting a tree')\n",
        "    dt = DecisionTreeClassifier()\n",
        "    dt.fit(X_train2, y_train)\n",
        "\n",
        "    splits.append(train_idx)\n",
        "    trees.append(dt)\n",
        "    scores.append(precision_score(y_test, dt.predict(X_test2)))\n",
        "\n",
        "    i += 1\n",
        "\n",
        "  return splits, trees, scores"
      ],
      "execution_count": 31,
      "outputs": []
    },
    {
      "cell_type": "code",
      "metadata": {
        "colab": {
          "base_uri": "https://localhost:8080/",
          "height": 1000,
          "referenced_widgets": [
            "6e76984d69aa42bfbdcba5d97ae86f31",
            "8a8f00e4d6034d3fac2d90cd8d99fb53",
            "f83b9ac03bf64d54a4c3c95563663169",
            "2a737b616ab74af7a103bcc674ddc64b",
            "ce6ebdf747494c778e61e1e13b702ff6",
            "e5fcaafacf6f4aa190a1c3e67820a975",
            "3f54f27773ee4d9cb11828d52e5a201e",
            "8867a34f6e4d403cbd899e8bd9f12ba1",
            "6d2d53d2390f4875832ae302b3553225",
            "e551180b6afd43a4b8319a124c913358",
            "93be9e99eb6b40aaaec0be69055853df",
            "d511cbf61d1c4e32affe16a1e52d5c93",
            "52316e8f67e246ec85d2ebbeb33f2870",
            "357fea2d30c84e2a8197f038e32c78e3",
            "33ccbcd3b9ec4c5e867a18ef3e07bd2b",
            "5a75738bbd194d2ebe4a66bd00f6bf51",
            "fa44de73adab40698edfa0de83573f49",
            "786803262da447fe938555a37f449fd1",
            "b39193e6497049838f68080eab3028de",
            "d5b1ffe6ff0547bd8d379d100820019b",
            "c7d08310e3df4abcbee009ed70849a8d",
            "d20e55d6ed97423e85bc6e04b2f1e55e",
            "4249f51ad0be4649a6f302f300b2244c",
            "a7906366e67f4c06a2f0ae4651a88bdd",
            "7660cafe8ad64df4b4b52af415d47914",
            "68f5bea964664bf1abae443b31c81e19",
            "ce8028ab607c44849fd250557255bf62",
            "c69e764fd5ae4af1b843610a61e7f9cb",
            "32bcada649c0438a9f4696752ab92349",
            "f069cce2700c4a2094d2f51bb31f6bb5",
            "9a08a8c556764b61a748d326f1303b52",
            "f1eff8afb1944f249d5c2ba568928e28",
            "47903ad61868473c99e0dae172b5471e",
            "070167a0165741eaabab26020d45b7fa",
            "25ca8d4ec5694a1eb4025388ab378e02",
            "8597e64707d042ec9c75a8fe987c045a",
            "96d128a817ef4105a12496eec91bf3f0",
            "b3a2b9d7c97e47ce9d282bdf475a3e5a",
            "a10b8b1da91546cc9849208831a09bbd",
            "3c22d651e79047a784ad36a0c191e45f",
            "8265bf731d14476cb745c6d13d853d86",
            "f65f28318bd0458483c1280a5939f4e0",
            "8626a977e6774ad09477ed863482949b",
            "16a06b95e2f648219f150ee50f5959a8",
            "e463ced314f644e48bd9d670e624733c",
            "3363d332d033457fba443245a8150dba",
            "0fc6d2c5167c4157a56464e04806f1b6",
            "6dbb64492823498ea64bfb1764e633c5",
            "6667662b446e4d1c9f6a012cc5ab6965",
            "b7d4c41e9d724735aa14e05e83adf100",
            "39dfd5e02219456cb835a8afd6990977",
            "c3d10eef7df743a4a19a3d97d770a714",
            "6242d1405505422f9950a15ddf4a7e4b",
            "ce772399fe664e9c87e6284ffd0e7fea",
            "4bbf9b37cd5b46f7a7e62cb3412457bc",
            "ddefa0e2cb9d4a4ca34cd8c422d84148",
            "b538466130604fdda13a84a43aff3bee",
            "157fb37e78df45729f3bbff5291f9910",
            "622fff1aed944de7a519fd739fdf8677",
            "c671564225364e7789cc26f4e31e8f87",
            "02fbb1fe89fe4408b4b7806a1b26a112",
            "85a519ee8ef042c4a69c6f95befe8066",
            "71582ce01d1244338b735c461990f4d7",
            "1463ab82789c430d8373b2dec500f095",
            "d7e350f6b93946efbaccacc9bf6f7ee9",
            "e224ab41132d4dfdbbbdfa9f057c44ea",
            "3b7e78dad0ea45cea4d4c82560e124fc",
            "fc5c566acdae4c0f8f4a3815b1b93a60",
            "97ab0ebabe58444eb194562f078e96c5",
            "05d0f2e7d8d24787b90aad38e62d91b6",
            "601367c86da54e1287e4f46635e3a430",
            "90dd992eba514b498688385dc372e75c",
            "5022e5f26d0b4f8db750367bb3bb644b",
            "bd5c0cdbff53480b9a9ec70b8f2430c6",
            "7cb0c917de124e5991b5f4752563fa37",
            "3263978bb7fd4eaa8fa06a561f91dfd1",
            "482aa957e44c4e47b531bcfd6036007c",
            "210d37f8deac4c77afbe4563fde635bd",
            "07f8ea94f79847c5afe3b1e44e06d088",
            "fb110b9fa36f4c8187fd43348506d959"
          ]
        },
        "id": "rZcJQIasD0sb",
        "outputId": "f87685f4-9742-4715-f633-5d9991e3297a"
      },
      "source": [
        "splits, trees, scores = estimate_accuracy(dfTxt)"
      ],
      "execution_count": 32,
      "outputs": [
        {
          "output_type": "stream",
          "text": [
            "\n",
            "---- Fold 0\n",
            "Building vocabulary\n",
            "Finding controversial words\n"
          ],
          "name": "stdout"
        },
        {
          "output_type": "display_data",
          "data": {
            "application/vnd.jupyter.widget-view+json": {
              "model_id": "6e76984d69aa42bfbdcba5d97ae86f31",
              "version_minor": 0,
              "version_major": 2
            },
            "text/plain": [
              "HBox(children=(FloatProgress(value=0.0, max=13450.0), HTML(value='')))"
            ]
          },
          "metadata": {
            "tags": []
          }
        },
        {
          "output_type": "stream",
          "text": [
            "\n"
          ],
          "name": "stdout"
        },
        {
          "output_type": "display_data",
          "data": {
            "application/vnd.jupyter.widget-view+json": {
              "model_id": "6d2d53d2390f4875832ae302b3553225",
              "version_minor": 0,
              "version_major": 2
            },
            "text/plain": [
              "HBox(children=(FloatProgress(value=1.0, bar_style='info', max=1.0), HTML(value='')))"
            ]
          },
          "metadata": {
            "tags": []
          }
        },
        {
          "output_type": "stream",
          "text": [
            "\n",
            "Vectorizing\n",
            "Fitting a tree\n",
            "\n",
            "---- Fold 1\n",
            "Building vocabulary\n",
            "Finding controversial words\n"
          ],
          "name": "stdout"
        },
        {
          "output_type": "display_data",
          "data": {
            "application/vnd.jupyter.widget-view+json": {
              "model_id": "fa44de73adab40698edfa0de83573f49",
              "version_minor": 0,
              "version_major": 2
            },
            "text/plain": [
              "HBox(children=(FloatProgress(value=0.0, max=13287.0), HTML(value='')))"
            ]
          },
          "metadata": {
            "tags": []
          }
        },
        {
          "output_type": "stream",
          "text": [
            "\n"
          ],
          "name": "stdout"
        },
        {
          "output_type": "display_data",
          "data": {
            "application/vnd.jupyter.widget-view+json": {
              "model_id": "7660cafe8ad64df4b4b52af415d47914",
              "version_minor": 0,
              "version_major": 2
            },
            "text/plain": [
              "HBox(children=(FloatProgress(value=1.0, bar_style='info', max=1.0), HTML(value='')))"
            ]
          },
          "metadata": {
            "tags": []
          }
        },
        {
          "output_type": "stream",
          "text": [
            "\n",
            "Vectorizing\n",
            "Fitting a tree\n",
            "\n",
            "---- Fold 2\n",
            "Building vocabulary\n",
            "Finding controversial words\n"
          ],
          "name": "stdout"
        },
        {
          "output_type": "display_data",
          "data": {
            "application/vnd.jupyter.widget-view+json": {
              "model_id": "47903ad61868473c99e0dae172b5471e",
              "version_minor": 0,
              "version_major": 2
            },
            "text/plain": [
              "HBox(children=(FloatProgress(value=0.0, max=13294.0), HTML(value='')))"
            ]
          },
          "metadata": {
            "tags": []
          }
        },
        {
          "output_type": "stream",
          "text": [
            "\n"
          ],
          "name": "stdout"
        },
        {
          "output_type": "display_data",
          "data": {
            "application/vnd.jupyter.widget-view+json": {
              "model_id": "8265bf731d14476cb745c6d13d853d86",
              "version_minor": 0,
              "version_major": 2
            },
            "text/plain": [
              "HBox(children=(FloatProgress(value=1.0, bar_style='info', max=1.0), HTML(value='')))"
            ]
          },
          "metadata": {
            "tags": []
          }
        },
        {
          "output_type": "stream",
          "text": [
            "\n",
            "Vectorizing\n",
            "Fitting a tree\n",
            "\n",
            "---- Fold 3\n",
            "Building vocabulary\n",
            "Finding controversial words\n"
          ],
          "name": "stdout"
        },
        {
          "output_type": "display_data",
          "data": {
            "application/vnd.jupyter.widget-view+json": {
              "model_id": "6667662b446e4d1c9f6a012cc5ab6965",
              "version_minor": 0,
              "version_major": 2
            },
            "text/plain": [
              "HBox(children=(FloatProgress(value=0.0, max=13162.0), HTML(value='')))"
            ]
          },
          "metadata": {
            "tags": []
          }
        },
        {
          "output_type": "stream",
          "text": [
            "\n"
          ],
          "name": "stdout"
        },
        {
          "output_type": "display_data",
          "data": {
            "application/vnd.jupyter.widget-view+json": {
              "model_id": "b538466130604fdda13a84a43aff3bee",
              "version_minor": 0,
              "version_major": 2
            },
            "text/plain": [
              "HBox(children=(FloatProgress(value=1.0, bar_style='info', max=1.0), HTML(value='')))"
            ]
          },
          "metadata": {
            "tags": []
          }
        },
        {
          "output_type": "stream",
          "text": [
            "\n",
            "Vectorizing\n",
            "Fitting a tree\n",
            "\n",
            "---- Fold 4\n",
            "Building vocabulary\n",
            "Finding controversial words\n"
          ],
          "name": "stdout"
        },
        {
          "output_type": "display_data",
          "data": {
            "application/vnd.jupyter.widget-view+json": {
              "model_id": "d7e350f6b93946efbaccacc9bf6f7ee9",
              "version_minor": 0,
              "version_major": 2
            },
            "text/plain": [
              "HBox(children=(FloatProgress(value=0.0, max=13335.0), HTML(value='')))"
            ]
          },
          "metadata": {
            "tags": []
          }
        },
        {
          "output_type": "stream",
          "text": [
            "\n"
          ],
          "name": "stdout"
        },
        {
          "output_type": "display_data",
          "data": {
            "application/vnd.jupyter.widget-view+json": {
              "model_id": "5022e5f26d0b4f8db750367bb3bb644b",
              "version_minor": 0,
              "version_major": 2
            },
            "text/plain": [
              "HBox(children=(FloatProgress(value=1.0, bar_style='info', max=1.0), HTML(value='')))"
            ]
          },
          "metadata": {
            "tags": []
          }
        },
        {
          "output_type": "stream",
          "text": [
            "\n",
            "Vectorizing\n",
            "Fitting a tree\n"
          ],
          "name": "stdout"
        }
      ]
    },
    {
      "cell_type": "code",
      "metadata": {
        "colab": {
          "base_uri": "https://localhost:8080/"
        },
        "id": "4TwbDiXRLw8e",
        "outputId": "789afb05-2592-43eb-87f5-1acf965ed947"
      },
      "source": [
        "np.mean(scores), np.std(scores)"
      ],
      "execution_count": 33,
      "outputs": [
        {
          "output_type": "execute_result",
          "data": {
            "text/plain": [
              "(0.0261233726692258, 0.005679384862770463)"
            ]
          },
          "metadata": {
            "tags": []
          },
          "execution_count": 33
        }
      ]
    },
    {
      "cell_type": "markdown",
      "metadata": {
        "id": "HtifRsMxpgqJ"
      },
      "source": [
        "## Evaluate the prediction on a different year\n",
        "\n",
        "Train a predictor on the entire corpus, then predict the labels of another one. "
      ]
    },
    {
      "cell_type": "code",
      "metadata": {
        "colab": {
          "base_uri": "https://localhost:8080/",
          "height": 279,
          "referenced_widgets": [
            "4ab9a3313d5b4a579b7132c02d5ec5a8",
            "fa748ec3a69b47a5a8eb4a373f4e30e0",
            "f81b0bafff2f4aa49aa376d121556541",
            "c181b3265afe4a72970e698314a8fe6b",
            "c6c96693175640c780ec837de0028ce0",
            "2526076f1d774357a93bd1e024f69103",
            "c96dbc9f07014b5ba078c9de90560bd5",
            "0a7bb3a82ebb4dbbaf24fe220d51bfdb",
            "a1665aa0bf464a1c8b2d5f4384b64740",
            "c77cbf6daae54341b3101ad85336b264",
            "f125b8e9c62c46298f862f3be0ad7fcb",
            "74337b1b0a4c4d2ab8ba0c72b3323137",
            "3655a2700ee6496d85bafd5d6ccd2a56",
            "40ed66d722fd4d3d98353e0ceb056821",
            "a8cd03a11ba04e2291a05e03bbb37671",
            "7cc56ae621e34d9d8892777fcec033ee"
          ]
        },
        "id": "qbmFSv5H_s-Q",
        "outputId": "f51c4c67-44b3-4484-ba11-9269f453bbb3"
      },
      "source": [
        "df = dfTxt\n",
        "X_train = df.commentBody\n",
        "y_train = df.HCC\n",
        "\n",
        "# Find the vocabulary on the training set\n",
        "vocHCC = vocabulary(X_train[y_train == 1], verbose=False) \n",
        "vocNC = vocabulary(X_train[y_train == 0], verbose=False)\n",
        "\n",
        "# Find the controversial vocabulary\n",
        "print('Finding controversial words')\n",
        "cVoc, prob_HCC = controversial_vocabulary(vocHCC, vocNC, prc=0.75, min_freq=0)\n",
        "V_train = set(cVoc.index)\n",
        "        \n",
        "# Vectorize\n",
        "# the tokenization is equivalent to that of NaiveTokenizer, \n",
        "# as it deals with unigrams\n",
        "print('Vectorizing')\n",
        "CV = CountVectorizer(vocabulary=V_train)\n",
        "X_train2 = CV.fit_transform(X_train.apply(lambda ls: ' '.join(ls)))\n",
        "\n",
        "# Train a treepredictor on controversial vocabulary\n",
        "print('Fitting a tree')\n",
        "DT = DecisionTreeClassifier()\n",
        "DT.fit(X_train2, y_train)"
      ],
      "execution_count": 34,
      "outputs": [
        {
          "output_type": "stream",
          "text": [
            "Finding controversial words\n"
          ],
          "name": "stdout"
        },
        {
          "output_type": "display_data",
          "data": {
            "application/vnd.jupyter.widget-view+json": {
              "model_id": "4ab9a3313d5b4a579b7132c02d5ec5a8",
              "version_minor": 0,
              "version_major": 2
            },
            "text/plain": [
              "HBox(children=(FloatProgress(value=0.0, max=14737.0), HTML(value='')))"
            ]
          },
          "metadata": {
            "tags": []
          }
        },
        {
          "output_type": "stream",
          "text": [
            "\n"
          ],
          "name": "stdout"
        },
        {
          "output_type": "display_data",
          "data": {
            "application/vnd.jupyter.widget-view+json": {
              "model_id": "a1665aa0bf464a1c8b2d5f4384b64740",
              "version_minor": 0,
              "version_major": 2
            },
            "text/plain": [
              "HBox(children=(FloatProgress(value=1.0, bar_style='info', max=1.0), HTML(value='')))"
            ]
          },
          "metadata": {
            "tags": []
          }
        },
        {
          "output_type": "stream",
          "text": [
            "\n",
            "Vectorizing\n",
            "Fitting a tree\n"
          ],
          "name": "stdout"
        },
        {
          "output_type": "execute_result",
          "data": {
            "text/plain": [
              "DecisionTreeClassifier(ccp_alpha=0.0, class_weight=None, criterion='gini',\n",
              "                       max_depth=None, max_features=None, max_leaf_nodes=None,\n",
              "                       min_impurity_decrease=0.0, min_impurity_split=None,\n",
              "                       min_samples_leaf=1, min_samples_split=2,\n",
              "                       min_weight_fraction_leaf=0.0, presort='deprecated',\n",
              "                       random_state=None, splitter='best')"
            ]
          },
          "metadata": {
            "tags": []
          },
          "execution_count": 34
        }
      ]
    },
    {
      "cell_type": "markdown",
      "metadata": {
        "id": "ebd_KzSS-Ptz"
      },
      "source": [
        "With this I can retrieve the most important feature (important in the sense of Gini importance), that is the word that alone has the most impact in identifying an HCCs. "
      ]
    },
    {
      "cell_type": "code",
      "metadata": {
        "colab": {
          "base_uri": "https://localhost:8080/",
          "height": 36
        },
        "id": "hPUSEj4fDpy4",
        "outputId": "c1d529fb-9ac6-4610-b384-2d1e559200e7"
      },
      "source": [
        "def predict(dt, cv, corpus):\n",
        "  return dt.predict(cv.fit_transform(corpus))\n",
        "\n",
        "CV.get_feature_names()[DT.feature_importances_.argmax()]"
      ],
      "execution_count": 35,
      "outputs": [
        {
          "output_type": "execute_result",
          "data": {
            "application/vnd.google.colaboratory.intrinsic+json": {
              "type": "string"
            },
            "text/plain": [
              "'people'"
            ]
          },
          "metadata": {
            "tags": []
          },
          "execution_count": 35
        }
      ]
    },
    {
      "cell_type": "code",
      "metadata": {
        "colab": {
          "base_uri": "https://localhost:8080/"
        },
        "id": "VTvjfIwsqBNz",
        "outputId": "bbc3af9e-d1ad-4fbf-949c-ed29015453b4"
      },
      "source": [
        "DL2 = DatasetLoader('Feb', 2018)\n",
        "DL2.download_dataset()\n",
        "df2018 = DL2._df()\n",
        "df2018 = HCC(df2018)\n",
        "\n",
        "df2018['pred'] = predict(DT, CV, df2018.commentBody)\n",
        "dfCom['pred'] = predict(DT, CV, dfCom.commentBody)"
      ],
      "execution_count": 36,
      "outputs": [
        {
          "output_type": "stream",
          "text": [
            "/usr/local/lib/python3.7/dist-packages/IPython/core/interactiveshell.py:2822: DtypeWarning: Columns (32) have mixed types.Specify dtype option on import or set low_memory=False.\n",
            "  if self.run_code(code, result):\n"
          ],
          "name": "stderr"
        }
      ]
    },
    {
      "cell_type": "code",
      "metadata": {
        "id": "MkpipKwHP2Zd"
      },
      "source": [
        "dfTxt['pred'] = dfCom.pred"
      ],
      "execution_count": 37,
      "outputs": []
    },
    {
      "cell_type": "code",
      "metadata": {
        "id": "hhF7BKlpwg2j"
      },
      "source": [
        "pe = PerformanceEvaluator(df2018, 'HCC', 'pred')\n",
        "matrix2018 = pe.confusion()\n",
        "scores2018 = pe.evaluate()"
      ],
      "execution_count": 38,
      "outputs": []
    },
    {
      "cell_type": "code",
      "metadata": {
        "id": "--L6kX2JAjuz"
      },
      "source": [
        "pe1 = PerformanceEvaluator(dfTxt, 'HCC', 'pred')\n",
        "matrix2017 = pe1.confusion()\n",
        "scores2017 = pe1.evaluate()"
      ],
      "execution_count": 39,
      "outputs": []
    },
    {
      "cell_type": "code",
      "metadata": {
        "colab": {
          "base_uri": "https://localhost:8080/"
        },
        "id": "X5hmVW3WPYsz",
        "outputId": "e10e467f-01b3-4295-843f-65660e12e11b"
      },
      "source": [
        "scores2017"
      ],
      "execution_count": 40,
      "outputs": [
        {
          "output_type": "execute_result",
          "data": {
            "text/plain": [
              "{'accuracy': 0.9970676290858385,\n",
              " 'f1score': 0.8386368765515685,\n",
              " 'precision': 0.9327309236947792,\n",
              " 'recall': 0.7617876178761788}"
            ]
          },
          "metadata": {
            "tags": []
          },
          "execution_count": 40
        }
      ]
    },
    {
      "cell_type": "code",
      "metadata": {
        "colab": {
          "base_uri": "https://localhost:8080/"
        },
        "id": "WrF_SwrmPiUV",
        "outputId": "4f46b50f-f684-4579-9403-e940704c650f"
      },
      "source": [
        "scores2018"
      ],
      "execution_count": 41,
      "outputs": [
        {
          "output_type": "execute_result",
          "data": {
            "text/plain": [
              "{'accuracy': 0.9843693388207095,\n",
              " 'f1score': 0.021517883105553942,\n",
              " 'precision': 0.028771384136858476,\n",
              " 'recall': 0.017185322805387832}"
            ]
          },
          "metadata": {
            "tags": []
          },
          "execution_count": 41
        }
      ]
    }
  ]
}